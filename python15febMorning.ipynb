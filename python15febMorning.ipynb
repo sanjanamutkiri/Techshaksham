{
 "cells": [
  {
   "cell_type": "code",
   "execution_count": 20,
   "id": "10d610e8-da40-417a-a6d0-2bbf46338c26",
   "metadata": {},
   "outputs": [
    {
     "name": "stdout",
     "output_type": "stream",
     "text": [
      "menu\n",
      "1. Add\n",
      "2 sub\n",
      "3 mul\n",
      "4 div\n",
      "5 exit\n"
     ]
    },
    {
     "name": "stdin",
     "output_type": "stream",
     "text": [
      "enter choice 4\n",
      "how many number you want to take as input :  3\n"
     ]
    },
    {
     "name": "stdout",
     "output_type": "stream",
     "text": [
      "enter numbers\n"
     ]
    },
    {
     "name": "stdin",
     "output_type": "stream",
     "text": [
      " 1\n",
      " 2\n",
      " 3\n"
     ]
    },
    {
     "name": "stdout",
     "output_type": "stream",
     "text": [
      "division :  0.16666666666666666\n",
      "menu\n",
      "1. Add\n",
      "2 sub\n",
      "3 mul\n",
      "4 div\n",
      "5 exit\n"
     ]
    },
    {
     "name": "stdin",
     "output_type": "stream",
     "text": [
      "enter choice 5\n"
     ]
    },
    {
     "name": "stdout",
     "output_type": "stream",
     "text": [
      "end.....\n"
     ]
    }
   ],
   "source": [
    "#calculator\n",
    "def add(list):\n",
    "    res=0\n",
    "    for val in list:\n",
    "        res+=val\n",
    "    print(\"Addition : \",res)\n",
    "def sub(list):\n",
    "    res=0\n",
    "    for val in list:\n",
    "        res-=val\n",
    "    print(\"substraction : \",res)\n",
    "def mul(list):\n",
    "    res=1\n",
    "    for val in list:\n",
    "        res*=val\n",
    "    print(\"Multiplication : \",res)\n",
    "def div(list):\n",
    "    res=1\n",
    "    for val in list:\n",
    "        res/=val\n",
    "    print(\"division : \",res)\n",
    "\n",
    "flag=True\n",
    "a=int(input(\"enter num 1\"))\n",
    "b=int(input(\"enter num2 \"))\n",
    "while(flag):\n",
    "    print(\"menu\")\n",
    "    print(\"1. Add\")\n",
    "    print(\"2 sub\")\n",
    "    print(\"3 mul\")\n",
    "    print(\"4 div\")\n",
    "    print(\"5 exit\")\n",
    "\n",
    "    \n",
    "   \n",
    "    c=int(input(\"enter choice\"))\n",
    "    \n",
    "    if(c!=5):\n",
    "        n=int(input(\"how many number you want to take as input : \"))\n",
    "        list=[]\n",
    "        print(\"enter numbers\")\n",
    "        for i in range(0,n):\n",
    "            num=int(input())\n",
    "            list.append(num)\n",
    "    \n",
    "    match c:\n",
    "        case 1: add(list)\n",
    "        case 2:sub(list)\n",
    "        case 3:mul(list)\n",
    "        case 4:div(list)\n",
    "        case 5: \n",
    "            flag=False\n",
    "            print(\"end.....\")\n",
    "       \n",
    "            \n",
    "\n",
    "\n",
    "    \n",
    "    "
   ]
  },
  {
   "cell_type": "code",
   "execution_count": 8,
   "id": "a33d1f2e-fd2b-4b02-abd1-83b7847923da",
   "metadata": {},
   "outputs": [
    {
     "name": "stdout",
     "output_type": "stream",
     "text": [
      "0.3897986788694604\n"
     ]
    }
   ],
   "source": [
    "import random as rand\n",
    "print(rand.random())"
   ]
  },
  {
   "cell_type": "code",
   "execution_count": 32,
   "id": "eb3c1cba-f695-4a8f-b038-b6cb3a98f0e3",
   "metadata": {},
   "outputs": [
    {
     "data": {
      "text/plain": [
       "1"
      ]
     },
     "execution_count": 32,
     "metadata": {},
     "output_type": "execute_result"
    }
   ],
   "source": [
    "rand.randint(0,1)"
   ]
  },
  {
   "cell_type": "code",
   "execution_count": 40,
   "id": "fd2f3978-da54-4313-a506-725c1fcd6e9b",
   "metadata": {},
   "outputs": [
    {
     "name": "stdout",
     "output_type": "stream",
     "text": [
      "toss\n"
     ]
    }
   ],
   "source": [
    "n=rand.randint(0,1)\n",
    "print(\"toss\") if n else print(\"head\")"
   ]
  },
  {
   "cell_type": "code",
   "execution_count": 59,
   "id": "6bcc3e55-d2c6-4412-a3fb-250d7263efe6",
   "metadata": {},
   "outputs": [
    {
     "name": "stdin",
     "output_type": "stream",
     "text": [
      "enter  comma seperated value  sanjana,komla,saish\n"
     ]
    },
    {
     "data": {
      "text/plain": [
       "'komla'"
      ]
     },
     "execution_count": 59,
     "metadata": {},
     "output_type": "execute_result"
    }
   ],
   "source": [
    "list=input(\"enter  comma seperated value \").split(\",\")\n",
    "a=rand.randint(0,len(list)-1)\n",
    "\n",
    "list[a]"
   ]
  },
  {
   "cell_type": "code",
   "execution_count": 72,
   "id": "4cf69b41-c242-429a-a812-9694cea369de",
   "metadata": {},
   "outputs": [
    {
     "name": "stdout",
     "output_type": "stream",
     "text": [
      "Guess number from 0 to 100\n"
     ]
    },
    {
     "name": "stdin",
     "output_type": "stream",
     "text": [
      "guess number :  12\n"
     ]
    },
    {
     "name": "stdout",
     "output_type": "stream",
     "text": [
      "tooo smalll....\n",
      "you have only  4  attempts left ......!\n"
     ]
    },
    {
     "name": "stdin",
     "output_type": "stream",
     "text": [
      "guess number :  90\n"
     ]
    },
    {
     "name": "stdout",
     "output_type": "stream",
     "text": [
      "tooo smalll....\n",
      "you have only  3  attempts left ......!\n"
     ]
    },
    {
     "name": "stdin",
     "output_type": "stream",
     "text": [
      "guess number :  98\n"
     ]
    },
    {
     "name": "stdout",
     "output_type": "stream",
     "text": [
      "tooo smalll....\n",
      "you have only  2  attempts left ......!\n"
     ]
    },
    {
     "name": "stdin",
     "output_type": "stream",
     "text": [
      "guess number :  99\n"
     ]
    },
    {
     "name": "stdout",
     "output_type": "stream",
     "text": [
      "congrats your guess is correct  and you gussed number in just......  4  attempts\n"
     ]
    }
   ],
   "source": [
    "#guess the number\n",
    "a=rand.randint(0,100)\n",
    "print(\"Guess number from 0 to 100\")\n",
    "attempt=5\n",
    "while(attempt):\n",
    "    num=int(input(\"guess number : \"))\n",
    "    attempt-=1\n",
    "    if(num==a):\n",
    "        print(\"congrats your guess is correct  and you gussed number in just...... \",5-attempt,\" attempts\")\n",
    "        break\n",
    "    elif(num<a):\n",
    "        print(\"tooo smalll....\")\n",
    "    elif(num>a):\n",
    "        print(\"tooo big......\")\n",
    "    if(attempt!=0):\n",
    "        print(\"you have only \",attempt,\" attempts left ......!\")\n",
    "    \n",
    "if(attempt==0):\n",
    "    print(\"you lost ! \")"
   ]
  },
  {
   "cell_type": "code",
   "execution_count": null,
   "id": "fb4e610d-ac3d-4935-bcee-0e862503aded",
   "metadata": {},
   "outputs": [],
   "source": []
  },
  {
   "cell_type": "code",
   "execution_count": null,
   "id": "57bf07b0-bf07-4b23-a3c7-6324d5bc75a7",
   "metadata": {},
   "outputs": [],
   "source": []
  },
  {
   "cell_type": "code",
   "execution_count": null,
   "id": "1c02d686-b112-4423-a814-460f806e65cb",
   "metadata": {},
   "outputs": [],
   "source": []
  },
  {
   "cell_type": "code",
   "execution_count": null,
   "id": "de35d934-49d1-49d2-ba20-7076a1b87652",
   "metadata": {},
   "outputs": [],
   "source": []
  },
  {
   "cell_type": "code",
   "execution_count": null,
   "id": "c8145325-c22c-4f70-9517-9bb5a1e78a71",
   "metadata": {},
   "outputs": [],
   "source": []
  },
  {
   "cell_type": "code",
   "execution_count": null,
   "id": "688fbc67-e4bb-44a7-9cdf-bd8421b80e67",
   "metadata": {},
   "outputs": [],
   "source": []
  },
  {
   "cell_type": "code",
   "execution_count": null,
   "id": "79777ce7-4405-44ea-ad3d-a6a8560222d6",
   "metadata": {},
   "outputs": [],
   "source": []
  },
  {
   "cell_type": "code",
   "execution_count": null,
   "id": "1fe6422b-df0d-4f58-9092-a7c43cc165e3",
   "metadata": {},
   "outputs": [],
   "source": []
  },
  {
   "cell_type": "code",
   "execution_count": null,
   "id": "e6cc763f-d8e7-4530-be4b-518d26728e57",
   "metadata": {},
   "outputs": [],
   "source": []
  },
  {
   "cell_type": "code",
   "execution_count": null,
   "id": "75142879-23f7-4e0f-879d-867db2d2113d",
   "metadata": {},
   "outputs": [],
   "source": []
  },
  {
   "cell_type": "code",
   "execution_count": null,
   "id": "61ee2dbc-c6a9-45f4-bd9d-50f10c9655f7",
   "metadata": {},
   "outputs": [],
   "source": []
  },
  {
   "cell_type": "code",
   "execution_count": null,
   "id": "dc7074e0-e665-4f19-8107-87979cc6fbc3",
   "metadata": {},
   "outputs": [],
   "source": []
  },
  {
   "cell_type": "code",
   "execution_count": null,
   "id": "91b14a15-019a-446c-bb44-fbe3aff60ba8",
   "metadata": {},
   "outputs": [],
   "source": []
  },
  {
   "cell_type": "code",
   "execution_count": null,
   "id": "68ac004f-1b23-4334-80a5-d7d6afbae809",
   "metadata": {},
   "outputs": [],
   "source": []
  },
  {
   "cell_type": "code",
   "execution_count": null,
   "id": "2ca22fc8-84ce-444e-9be6-72b2ea6787e6",
   "metadata": {},
   "outputs": [],
   "source": []
  },
  {
   "cell_type": "code",
   "execution_count": null,
   "id": "e80d7479-d74c-43f4-8a17-a86ceba7d841",
   "metadata": {},
   "outputs": [],
   "source": []
  },
  {
   "cell_type": "code",
   "execution_count": null,
   "id": "974065ef-9b72-4a9b-96e1-92a98d277494",
   "metadata": {},
   "outputs": [],
   "source": []
  },
  {
   "cell_type": "code",
   "execution_count": null,
   "id": "5739837b-fb23-473f-8a5e-af462d01fd36",
   "metadata": {},
   "outputs": [],
   "source": []
  },
  {
   "cell_type": "code",
   "execution_count": null,
   "id": "79b40796-29ff-4b0b-8706-6d2dee13b8c1",
   "metadata": {},
   "outputs": [],
   "source": []
  },
  {
   "cell_type": "code",
   "execution_count": null,
   "id": "763787f8-1d72-46a9-8426-ce4f8da31aba",
   "metadata": {},
   "outputs": [],
   "source": []
  },
  {
   "cell_type": "code",
   "execution_count": null,
   "id": "5c63c27c-b06c-4d2b-9222-e9aafea528c9",
   "metadata": {},
   "outputs": [],
   "source": []
  },
  {
   "cell_type": "code",
   "execution_count": null,
   "id": "4a2a2d1b-9049-475e-8e74-ecad4ef6f439",
   "metadata": {},
   "outputs": [],
   "source": []
  },
  {
   "cell_type": "code",
   "execution_count": null,
   "id": "756bb85e-ddd3-488d-bc29-8102038cf77a",
   "metadata": {},
   "outputs": [],
   "source": []
  },
  {
   "cell_type": "code",
   "execution_count": null,
   "id": "6f2fbb42-fe50-48e6-ab1d-b07e579db385",
   "metadata": {},
   "outputs": [],
   "source": []
  },
  {
   "cell_type": "code",
   "execution_count": null,
   "id": "c665b927-6bca-435a-b087-8cf2646b93f1",
   "metadata": {},
   "outputs": [],
   "source": []
  },
  {
   "cell_type": "code",
   "execution_count": null,
   "id": "804944d5-d4ac-4191-a844-6930b848bd39",
   "metadata": {},
   "outputs": [],
   "source": []
  },
  {
   "cell_type": "code",
   "execution_count": null,
   "id": "bb848fe0-323e-49d6-9842-ba45527342d2",
   "metadata": {},
   "outputs": [],
   "source": []
  },
  {
   "cell_type": "code",
   "execution_count": null,
   "id": "2ef966f8-88a3-481a-b650-cd3f909df6d4",
   "metadata": {},
   "outputs": [],
   "source": []
  },
  {
   "cell_type": "code",
   "execution_count": null,
   "id": "d0f18417-526c-4d0b-8720-fcc09b2079b1",
   "metadata": {},
   "outputs": [],
   "source": []
  },
  {
   "cell_type": "code",
   "execution_count": null,
   "id": "5208f1f2-88ec-4b98-beae-8e8435dbe87a",
   "metadata": {},
   "outputs": [],
   "source": []
  },
  {
   "cell_type": "code",
   "execution_count": null,
   "id": "9b447aef-9fc6-4f21-95c4-45becb0d49af",
   "metadata": {},
   "outputs": [],
   "source": []
  },
  {
   "cell_type": "code",
   "execution_count": null,
   "id": "e81d7d00-e4d2-4c8d-8959-b74643bfb7ce",
   "metadata": {},
   "outputs": [],
   "source": []
  },
  {
   "cell_type": "code",
   "execution_count": null,
   "id": "29dab11d-dceb-4de1-93b4-1eecace3de88",
   "metadata": {},
   "outputs": [],
   "source": []
  },
  {
   "cell_type": "code",
   "execution_count": null,
   "id": "b2fe8961-edc4-4bf2-a352-31f4c7de71ff",
   "metadata": {},
   "outputs": [],
   "source": []
  },
  {
   "cell_type": "code",
   "execution_count": null,
   "id": "8224cfbf-d920-4203-a535-03732a51b86f",
   "metadata": {},
   "outputs": [],
   "source": []
  },
  {
   "cell_type": "code",
   "execution_count": null,
   "id": "d3047bdf-a708-425b-9b22-936088bf38d8",
   "metadata": {},
   "outputs": [],
   "source": []
  },
  {
   "cell_type": "code",
   "execution_count": null,
   "id": "ffe8aab1-e91d-454f-8b76-e1c3482005c7",
   "metadata": {},
   "outputs": [],
   "source": []
  },
  {
   "cell_type": "code",
   "execution_count": null,
   "id": "a1dd32d8-a976-49d5-ade4-08f17fde038f",
   "metadata": {},
   "outputs": [],
   "source": []
  },
  {
   "cell_type": "code",
   "execution_count": null,
   "id": "aabe27e7-fd95-448d-b399-0fec7b81f728",
   "metadata": {},
   "outputs": [],
   "source": []
  },
  {
   "cell_type": "code",
   "execution_count": null,
   "id": "8c06f462-bd32-4c8f-b3ab-07590c556693",
   "metadata": {},
   "outputs": [],
   "source": []
  },
  {
   "cell_type": "code",
   "execution_count": null,
   "id": "817c3619-2f11-490f-937d-7616c0a83c7b",
   "metadata": {},
   "outputs": [],
   "source": []
  },
  {
   "cell_type": "code",
   "execution_count": null,
   "id": "9a0f027c-e2f8-41c7-9243-1fe01fdd73fa",
   "metadata": {},
   "outputs": [],
   "source": []
  },
  {
   "cell_type": "code",
   "execution_count": null,
   "id": "2a763159-7b31-431b-9a19-6c35f73c278d",
   "metadata": {},
   "outputs": [],
   "source": []
  },
  {
   "cell_type": "code",
   "execution_count": null,
   "id": "1008ab23-dbec-4f8a-a6be-8657773efa3b",
   "metadata": {},
   "outputs": [],
   "source": []
  },
  {
   "cell_type": "code",
   "execution_count": null,
   "id": "c04faa32-97e3-4fb8-b550-6fc98bcc37ff",
   "metadata": {},
   "outputs": [],
   "source": []
  },
  {
   "cell_type": "code",
   "execution_count": null,
   "id": "6932fa22-ab6a-4c5f-b35c-7a57757c8b44",
   "metadata": {},
   "outputs": [],
   "source": []
  },
  {
   "cell_type": "code",
   "execution_count": null,
   "id": "14dc52fe-2bc8-48db-9bdf-41d0706d0394",
   "metadata": {},
   "outputs": [],
   "source": []
  },
  {
   "cell_type": "code",
   "execution_count": null,
   "id": "7220d43a-d929-4ba9-97b4-027a4e2a4f7a",
   "metadata": {},
   "outputs": [],
   "source": []
  },
  {
   "cell_type": "code",
   "execution_count": null,
   "id": "062dea2c-a004-4501-94b6-cadbe1796952",
   "metadata": {},
   "outputs": [],
   "source": []
  },
  {
   "cell_type": "code",
   "execution_count": null,
   "id": "3e8326dd-c3a8-4b04-80fa-5cf9da0182fc",
   "metadata": {},
   "outputs": [],
   "source": []
  },
  {
   "cell_type": "code",
   "execution_count": null,
   "id": "61157a82-9194-4546-9a0b-c52dc363725f",
   "metadata": {},
   "outputs": [],
   "source": []
  },
  {
   "cell_type": "code",
   "execution_count": null,
   "id": "ed1a0724-cabd-415d-85ec-36435dd0af99",
   "metadata": {},
   "outputs": [],
   "source": []
  },
  {
   "cell_type": "code",
   "execution_count": null,
   "id": "90f47f1f-80f5-4962-ad0d-e2fb3eb2ae41",
   "metadata": {},
   "outputs": [],
   "source": []
  },
  {
   "cell_type": "code",
   "execution_count": null,
   "id": "851529b1-92a5-4f9c-b486-15d612d74905",
   "metadata": {},
   "outputs": [],
   "source": []
  },
  {
   "cell_type": "code",
   "execution_count": null,
   "id": "b3aed505-71a6-4702-b594-4d5e280999c3",
   "metadata": {},
   "outputs": [],
   "source": []
  },
  {
   "cell_type": "code",
   "execution_count": null,
   "id": "f08a17c2-39e8-4cf0-af8c-16aaf4bcd6cb",
   "metadata": {},
   "outputs": [],
   "source": []
  },
  {
   "cell_type": "code",
   "execution_count": null,
   "id": "2d909171-0e5c-45e0-8b6a-b28244ae0070",
   "metadata": {},
   "outputs": [],
   "source": []
  },
  {
   "cell_type": "code",
   "execution_count": null,
   "id": "e4884883-3132-4f4f-a1c1-e95d960aab3a",
   "metadata": {},
   "outputs": [],
   "source": []
  },
  {
   "cell_type": "code",
   "execution_count": null,
   "id": "bf3fd166-63fd-42da-b217-ae65287110b0",
   "metadata": {},
   "outputs": [],
   "source": []
  },
  {
   "cell_type": "code",
   "execution_count": null,
   "id": "e9b0e77c-cf4d-43e2-8eea-805a83d6c855",
   "metadata": {},
   "outputs": [],
   "source": []
  },
  {
   "cell_type": "code",
   "execution_count": null,
   "id": "acdcb22d-5503-41b1-9fd0-b24621477952",
   "metadata": {},
   "outputs": [],
   "source": []
  },
  {
   "cell_type": "code",
   "execution_count": null,
   "id": "2c45a10f-47b1-4618-9c91-41326706ba2c",
   "metadata": {},
   "outputs": [],
   "source": []
  },
  {
   "cell_type": "code",
   "execution_count": null,
   "id": "257be42f-28d4-42d1-a0bb-5c4d5238c5d8",
   "metadata": {},
   "outputs": [],
   "source": []
  },
  {
   "cell_type": "code",
   "execution_count": null,
   "id": "b6e1e6dc-9ba5-43e5-988e-b14584fa98f9",
   "metadata": {},
   "outputs": [],
   "source": []
  },
  {
   "cell_type": "code",
   "execution_count": null,
   "id": "3577080b-558e-4f07-af4c-dbbc91a598cc",
   "metadata": {},
   "outputs": [],
   "source": []
  },
  {
   "cell_type": "code",
   "execution_count": null,
   "id": "580d6c5c-a648-498c-8733-f21fbe7a7e2d",
   "metadata": {},
   "outputs": [],
   "source": []
  },
  {
   "cell_type": "code",
   "execution_count": null,
   "id": "0b0adbe8-83ae-4eb0-acfe-a40f19c99c75",
   "metadata": {},
   "outputs": [],
   "source": []
  },
  {
   "cell_type": "code",
   "execution_count": null,
   "id": "3e976d1c-bc8a-4c4b-bae3-845dc6c49540",
   "metadata": {},
   "outputs": [],
   "source": []
  },
  {
   "cell_type": "code",
   "execution_count": null,
   "id": "26fef04c-cf89-409c-b6fe-61afcdbb6e90",
   "metadata": {},
   "outputs": [],
   "source": []
  },
  {
   "cell_type": "code",
   "execution_count": null,
   "id": "c7558a91-113a-49ad-9a03-452c4682aa33",
   "metadata": {},
   "outputs": [],
   "source": []
  },
  {
   "cell_type": "code",
   "execution_count": null,
   "id": "6c4ca2eb-e4ac-4797-9468-878fa0039fa6",
   "metadata": {},
   "outputs": [],
   "source": []
  },
  {
   "cell_type": "code",
   "execution_count": null,
   "id": "7ffc0e74-25f0-4ffc-9fb8-62c4c6877fe0",
   "metadata": {},
   "outputs": [],
   "source": []
  },
  {
   "cell_type": "code",
   "execution_count": null,
   "id": "a6e7b6f1-e2f3-46e0-bd8d-23527b30e116",
   "metadata": {},
   "outputs": [],
   "source": []
  },
  {
   "cell_type": "code",
   "execution_count": null,
   "id": "94b2d536-5d09-4242-a9dc-3ed7a539ac30",
   "metadata": {},
   "outputs": [],
   "source": []
  },
  {
   "cell_type": "code",
   "execution_count": null,
   "id": "3ed3f790-d263-4c11-a953-a8e22c18423e",
   "metadata": {},
   "outputs": [],
   "source": []
  },
  {
   "cell_type": "code",
   "execution_count": null,
   "id": "601e60bf-3043-4359-9cf9-b52640d05c99",
   "metadata": {},
   "outputs": [],
   "source": []
  },
  {
   "cell_type": "code",
   "execution_count": null,
   "id": "7f45ffa8-545e-4093-b715-2af89ab4cdc7",
   "metadata": {},
   "outputs": [],
   "source": []
  },
  {
   "cell_type": "code",
   "execution_count": null,
   "id": "55831017-acb3-4abd-a406-08a4c592f555",
   "metadata": {},
   "outputs": [],
   "source": []
  },
  {
   "cell_type": "code",
   "execution_count": null,
   "id": "c68c4497-a3e9-4cad-83a6-79569d0613e2",
   "metadata": {},
   "outputs": [],
   "source": []
  },
  {
   "cell_type": "code",
   "execution_count": null,
   "id": "6cf733cc-0db5-47c0-ac9a-9533e57e7ad6",
   "metadata": {},
   "outputs": [],
   "source": []
  },
  {
   "cell_type": "code",
   "execution_count": null,
   "id": "de1e974d-3dec-4694-8dae-8fe41d909060",
   "metadata": {},
   "outputs": [],
   "source": []
  },
  {
   "cell_type": "code",
   "execution_count": null,
   "id": "a1dbf72e-eae9-4988-a07e-5cf2bc83a49d",
   "metadata": {},
   "outputs": [],
   "source": []
  },
  {
   "cell_type": "code",
   "execution_count": null,
   "id": "05492663-bf0c-4358-986f-cc68ccc7e3c9",
   "metadata": {},
   "outputs": [],
   "source": []
  },
  {
   "cell_type": "code",
   "execution_count": null,
   "id": "33ea3bb6-783d-44ef-97a1-32a0d633a442",
   "metadata": {},
   "outputs": [],
   "source": []
  },
  {
   "cell_type": "code",
   "execution_count": null,
   "id": "d25c45c0-36d3-4f56-ba0b-41c9adacdcb2",
   "metadata": {},
   "outputs": [],
   "source": []
  },
  {
   "cell_type": "code",
   "execution_count": null,
   "id": "88f31372-baf5-46e1-bc3f-da12d9232e40",
   "metadata": {},
   "outputs": [],
   "source": []
  },
  {
   "cell_type": "code",
   "execution_count": null,
   "id": "bf899940-84b8-46c2-9f8a-a02e1ed13e60",
   "metadata": {},
   "outputs": [],
   "source": []
  },
  {
   "cell_type": "code",
   "execution_count": null,
   "id": "4dfdb0ec-975f-4e89-842b-5dddce61d591",
   "metadata": {},
   "outputs": [],
   "source": [
    "\n",
    "\n"
   ]
  },
  {
   "cell_type": "code",
   "execution_count": null,
   "id": "9995a89a-b1d0-4ab9-9662-e63289f1e580",
   "metadata": {},
   "outputs": [],
   "source": []
  },
  {
   "cell_type": "code",
   "execution_count": null,
   "id": "4e25eed0-aef5-44a5-9e4a-4fa19cd38f19",
   "metadata": {},
   "outputs": [],
   "source": []
  },
  {
   "cell_type": "code",
   "execution_count": null,
   "id": "ddc60e6a-0e72-4793-96ac-bd18306754dd",
   "metadata": {},
   "outputs": [],
   "source": []
  }
 ],
 "metadata": {
  "kernelspec": {
   "display_name": "Python 3 (ipykernel)",
   "language": "python",
   "name": "python3"
  },
  "language_info": {
   "codemirror_mode": {
    "name": "ipython",
    "version": 3
   },
   "file_extension": ".py",
   "mimetype": "text/x-python",
   "name": "python",
   "nbconvert_exporter": "python",
   "pygments_lexer": "ipython3",
   "version": "3.12.7"
  }
 },
 "nbformat": 4,
 "nbformat_minor": 5
}
