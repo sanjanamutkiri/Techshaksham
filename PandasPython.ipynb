{
 "cells": [
  {
   "cell_type": "code",
   "execution_count": 1,
   "id": "e3c3f4f9-a489-4ee6-ba1f-ba364d933ad8",
   "metadata": {},
   "outputs": [],
   "source": [
    "import pandas as pd"
   ]
  },
  {
   "cell_type": "code",
   "execution_count": 2,
   "id": "d2756dfe-fd82-4473-b4a1-f06be2134adc",
   "metadata": {},
   "outputs": [],
   "source": [
    "import numpy as np"
   ]
  },
  {
   "cell_type": "code",
   "execution_count": 5,
   "id": "b29674bf-f667-49c7-9bb2-57a6c81e403e",
   "metadata": {},
   "outputs": [],
   "source": [
    "#pandas\n",
    "# 1D array - series"
   ]
  },
  {
   "cell_type": "code",
   "execution_count": 6,
   "id": "e7913f67-b172-401f-8452-12c960ddd1b9",
   "metadata": {},
   "outputs": [],
   "source": [
    "#2D array  - dataframe"
   ]
  },
  {
   "cell_type": "code",
   "execution_count": 13,
   "id": "b608ebb2-642b-4ba4-9020-e8d4511ff221",
   "metadata": {},
   "outputs": [
    {
     "data": {
      "text/plain": [
       "0    1\n",
       "1    2\n",
       "2    3\n",
       "3    3\n",
       "4    5\n",
       "dtype: int64"
      ]
     },
     "execution_count": 13,
     "metadata": {},
     "output_type": "execute_result"
    }
   ],
   "source": [
    "s=pd.Series([1,2,3,3,5])\n",
    "s"
   ]
  },
  {
   "cell_type": "markdown",
   "id": "5df237b1-1727-492c-97cc-2eb643548f88",
   "metadata": {},
   "source": [
    "s1=pd.Series([1,2,3,4],index=['a','b','c','d'])"
   ]
  },
  {
   "cell_type": "code",
   "execution_count": 15,
   "id": "f8018b6e-473e-45bd-b4df-b1205ac64d6a",
   "metadata": {},
   "outputs": [],
   "source": [
    "s1=pd.Series([1,2,3,4],index=['a','b','c','d'])"
   ]
  },
  {
   "cell_type": "markdown",
   "id": "646f8a25-127f-428f-bd00-619174ad4c05",
   "metadata": {},
   "source": [
    "# "
   ]
  },
  {
   "cell_type": "code",
   "execution_count": 16,
   "id": "2434dbdb-2955-4b69-8ec0-549918d6c0ac",
   "metadata": {},
   "outputs": [
    {
     "data": {
      "text/plain": [
       "a    1\n",
       "b    2\n",
       "c    3\n",
       "d    4\n",
       "dtype: int64"
      ]
     },
     "execution_count": 16,
     "metadata": {},
     "output_type": "execute_result"
    }
   ],
   "source": [
    "s1"
   ]
  },
  {
   "cell_type": "code",
   "execution_count": 20,
   "id": "77873a28-0f95-441a-a94c-0bd88a196964",
   "metadata": {},
   "outputs": [
    {
     "data": {
      "text/plain": [
       "a    1\n",
       "b    2\n",
       "c    3\n",
       "d    4\n",
       "dtype: int64"
      ]
     },
     "execution_count": 20,
     "metadata": {},
     "output_type": "execute_result"
    }
   ],
   "source": [
    "s1=pd.Series([1,2,3,4],index=['a','b','c','d'])\n",
    "s1"
   ]
  },
  {
   "cell_type": "code",
   "execution_count": 22,
   "id": "d7321509-3ebd-427b-9a0f-1253ae27ab5f",
   "metadata": {},
   "outputs": [
    {
     "data": {
      "text/plain": [
       "a    0.010810\n",
       "b    0.709231\n",
       "c    0.973479\n",
       "d    0.138016\n",
       "e    0.950347\n",
       "dtype: float64"
      ]
     },
     "execution_count": 22,
     "metadata": {},
     "output_type": "execute_result"
    }
   ],
   "source": [
    "s2=pd.Series(np.random.rand(5),index=['a','b','c','d','e'])\n",
    "s2"
   ]
  },
  {
   "cell_type": "code",
   "execution_count": 25,
   "id": "baf53af6-c3c3-424e-8c1d-230606604361",
   "metadata": {},
   "outputs": [
    {
     "data": {
      "text/plain": [
       "a    0.721722\n",
       "b    0.561880\n",
       "c    0.943887\n",
       "d   -1.173665\n",
       "e   -1.174756\n",
       "dtype: float64"
      ]
     },
     "execution_count": 25,
     "metadata": {},
     "output_type": "execute_result"
    }
   ],
   "source": [
    "s3=pd.Series(np.random.randn(5),index=['a','b','c','d','e'])\n",
    "s3"
   ]
  },
  {
   "cell_type": "code",
   "execution_count": 26,
   "id": "7c1f23d7-3371-4e76-a913-cb917044e2d0",
   "metadata": {},
   "outputs": [],
   "source": [
    "s4=pd.Series(np.random.randn(10))"
   ]
  },
  {
   "cell_type": "code",
   "execution_count": 27,
   "id": "820387a6-521f-4436-91a5-68315f36ac3d",
   "metadata": {},
   "outputs": [
    {
     "data": {
      "text/plain": [
       "0   -1.590690\n",
       "1    1.422520\n",
       "2   -0.604045\n",
       "3   -1.363089\n",
       "4   -0.837335\n",
       "5    1.707159\n",
       "6   -0.043598\n",
       "7   -1.607828\n",
       "8    1.700680\n",
       "9   -2.094885\n",
       "dtype: float64"
      ]
     },
     "execution_count": 27,
     "metadata": {},
     "output_type": "execute_result"
    }
   ],
   "source": [
    "s4"
   ]
  },
  {
   "cell_type": "code",
   "execution_count": 28,
   "id": "9c7d37ea-f5d3-402a-ba4f-75f34ed10e54",
   "metadata": {},
   "outputs": [],
   "source": [
    "#rand - positive 0 to 1"
   ]
  },
  {
   "cell_type": "code",
   "execution_count": null,
   "id": "abe065da-8b98-4ed2-8b78-fa613e834b97",
   "metadata": {},
   "outputs": [],
   "source": [
    "#randn - negative number also"
   ]
  },
  {
   "cell_type": "code",
   "execution_count": 35,
   "id": "2a7ce386-fe15-4418-843f-3d292fce6df3",
   "metadata": {},
   "outputs": [
    {
     "data": {
      "text/plain": [
       "{'a': 1, 'b': 'sanjana', 'c': 3}"
      ]
     },
     "execution_count": 35,
     "metadata": {},
     "output_type": "execute_result"
    }
   ],
   "source": [
    "dict={'a':1,'b':'sanjana','c':3}\n",
    "dict"
   ]
  },
  {
   "cell_type": "code",
   "execution_count": 36,
   "id": "6df59384-d599-4bb2-9c40-5b96b55e7217",
   "metadata": {},
   "outputs": [],
   "source": [
    "dict1=pd.Series(dict)"
   ]
  },
  {
   "cell_type": "code",
   "execution_count": 37,
   "id": "42e592b0-3a06-48d2-aea2-b1273141b7b1",
   "metadata": {},
   "outputs": [
    {
     "data": {
      "text/plain": [
       "a          1\n",
       "b    sanjana\n",
       "c          3\n",
       "dtype: object"
      ]
     },
     "execution_count": 37,
     "metadata": {},
     "output_type": "execute_result"
    }
   ],
   "source": [
    "dict1"
   ]
  },
  {
   "cell_type": "code",
   "execution_count": 41,
   "id": "34919395-0319-4a25-8e10-b1247ac68508",
   "metadata": {},
   "outputs": [
    {
     "data": {
      "text/plain": [
       "'sanjana'"
      ]
     },
     "execution_count": 41,
     "metadata": {},
     "output_type": "execute_result"
    }
   ],
   "source": [
    "dict1.iloc[1]"
   ]
  },
  {
   "cell_type": "code",
   "execution_count": 43,
   "id": "52eccc3a-97b2-4cf3-9c63-e6b3d09abc7a",
   "metadata": {},
   "outputs": [
    {
     "data": {
      "text/plain": [
       "1"
      ]
     },
     "execution_count": 43,
     "metadata": {},
     "output_type": "execute_result"
    }
   ],
   "source": [
    "dict1.iloc[0]"
   ]
  },
  {
   "cell_type": "code",
   "execution_count": 48,
   "id": "97bd137f-0b8e-4e1c-a579-d9b3aa36201f",
   "metadata": {},
   "outputs": [
    {
     "data": {
      "text/plain": [
       "a    1\n",
       "dtype: object"
      ]
     },
     "execution_count": 48,
     "metadata": {},
     "output_type": "execute_result"
    }
   ],
   "source": [
    "dict1.iloc[[1,2]]\n",
    "#dict1[[1,2]]"
   ]
  },
  {
   "cell_type": "code",
   "execution_count": 55,
   "id": "a012ed25-15fb-4633-bad1-3079cbb5a7df",
   "metadata": {},
   "outputs": [
    {
     "data": {
      "text/plain": [
       "a   NaN\n",
       "b   NaN\n",
       "c   NaN\n",
       "d   NaN\n",
       "0   NaN\n",
       "1   NaN\n",
       "2   NaN\n",
       "3   NaN\n",
       "4   NaN\n",
       "5   NaN\n",
       "6   NaN\n",
       "7   NaN\n",
       "8   NaN\n",
       "9   NaN\n",
       "dtype: float64"
      ]
     },
     "execution_count": 55,
     "metadata": {},
     "output_type": "execute_result"
    }
   ],
   "source": [
    "s1+s4"
   ]
  },
  {
   "cell_type": "code",
   "execution_count": 56,
   "id": "f6333707-99f6-4966-987e-50978db460b8",
   "metadata": {},
   "outputs": [
    {
     "data": {
      "text/plain": [
       "a    1.010810\n",
       "b    2.709231\n",
       "c    3.973479\n",
       "d    4.138016\n",
       "e         NaN\n",
       "dtype: float64"
      ]
     },
     "execution_count": 56,
     "metadata": {},
     "output_type": "execute_result"
    }
   ],
   "source": [
    "s1+s2"
   ]
  },
  {
   "cell_type": "code",
   "execution_count": 58,
   "id": "c7c2f7db-aac8-4752-8367-3784bad7a11b",
   "metadata": {},
   "outputs": [
    {
     "data": {
      "text/html": [
       "<div>\n",
       "<style scoped>\n",
       "    .dataframe tbody tr th:only-of-type {\n",
       "        vertical-align: middle;\n",
       "    }\n",
       "\n",
       "    .dataframe tbody tr th {\n",
       "        vertical-align: top;\n",
       "    }\n",
       "\n",
       "    .dataframe thead th {\n",
       "        text-align: right;\n",
       "    }\n",
       "</style>\n",
       "<table border=\"1\" class=\"dataframe\">\n",
       "  <thead>\n",
       "    <tr style=\"text-align: right;\">\n",
       "      <th></th>\n",
       "    </tr>\n",
       "  </thead>\n",
       "  <tbody>\n",
       "  </tbody>\n",
       "</table>\n",
       "</div>"
      ],
      "text/plain": [
       "Empty DataFrame\n",
       "Columns: []\n",
       "Index: []"
      ]
     },
     "execution_count": 58,
     "metadata": {},
     "output_type": "execute_result"
    }
   ],
   "source": [
    "df=pd.DataFrame()\n",
    "df"
   ]
  },
  {
   "cell_type": "code",
   "execution_count": 62,
   "id": "e8fce459-6561-4a63-9e23-feb8c0895658",
   "metadata": {},
   "outputs": [
    {
     "data": {
      "text/html": [
       "<div>\n",
       "<style scoped>\n",
       "    .dataframe tbody tr th:only-of-type {\n",
       "        vertical-align: middle;\n",
       "    }\n",
       "\n",
       "    .dataframe tbody tr th {\n",
       "        vertical-align: top;\n",
       "    }\n",
       "\n",
       "    .dataframe thead th {\n",
       "        text-align: right;\n",
       "    }\n",
       "</style>\n",
       "<table border=\"1\" class=\"dataframe\">\n",
       "  <thead>\n",
       "    <tr style=\"text-align: right;\">\n",
       "      <th></th>\n",
       "      <th>c1</th>\n",
       "      <th>c2</th>\n",
       "      <th>c3</th>\n",
       "    </tr>\n",
       "  </thead>\n",
       "  <tbody>\n",
       "    <tr>\n",
       "      <th>1</th>\n",
       "      <td>NaN</td>\n",
       "      <td>NaN</td>\n",
       "      <td>NaN</td>\n",
       "    </tr>\n",
       "    <tr>\n",
       "      <th>2</th>\n",
       "      <td>NaN</td>\n",
       "      <td>NaN</td>\n",
       "      <td>NaN</td>\n",
       "    </tr>\n",
       "    <tr>\n",
       "      <th>3</th>\n",
       "      <td>NaN</td>\n",
       "      <td>NaN</td>\n",
       "      <td>NaN</td>\n",
       "    </tr>\n",
       "    <tr>\n",
       "      <th>4</th>\n",
       "      <td>NaN</td>\n",
       "      <td>NaN</td>\n",
       "      <td>NaN</td>\n",
       "    </tr>\n",
       "    <tr>\n",
       "      <th>5</th>\n",
       "      <td>NaN</td>\n",
       "      <td>NaN</td>\n",
       "      <td>NaN</td>\n",
       "    </tr>\n",
       "    <tr>\n",
       "      <th>6</th>\n",
       "      <td>NaN</td>\n",
       "      <td>NaN</td>\n",
       "      <td>NaN</td>\n",
       "    </tr>\n",
       "    <tr>\n",
       "      <th>7</th>\n",
       "      <td>NaN</td>\n",
       "      <td>NaN</td>\n",
       "      <td>NaN</td>\n",
       "    </tr>\n",
       "    <tr>\n",
       "      <th>8</th>\n",
       "      <td>NaN</td>\n",
       "      <td>NaN</td>\n",
       "      <td>NaN</td>\n",
       "    </tr>\n",
       "    <tr>\n",
       "      <th>9</th>\n",
       "      <td>NaN</td>\n",
       "      <td>NaN</td>\n",
       "      <td>NaN</td>\n",
       "    </tr>\n",
       "  </tbody>\n",
       "</table>\n",
       "</div>"
      ],
      "text/plain": [
       "    c1   c2   c3\n",
       "1  NaN  NaN  NaN\n",
       "2  NaN  NaN  NaN\n",
       "3  NaN  NaN  NaN\n",
       "4  NaN  NaN  NaN\n",
       "5  NaN  NaN  NaN\n",
       "6  NaN  NaN  NaN\n",
       "7  NaN  NaN  NaN\n",
       "8  NaN  NaN  NaN\n",
       "9  NaN  NaN  NaN"
      ]
     },
     "execution_count": 62,
     "metadata": {},
     "output_type": "execute_result"
    }
   ],
   "source": [
    "df=pd.DataFrame(columns=['c1','c2','c3'],index=range(1,10))\n",
    "df"
   ]
  },
  {
   "cell_type": "code",
   "execution_count": 66,
   "id": "837a491d-b579-4c25-bb88-0b12db1ac41f",
   "metadata": {},
   "outputs": [],
   "source": [
    "df1=pd.DataFrame(dict1)"
   ]
  },
  {
   "cell_type": "markdown",
   "id": "21f41dcb-49c5-4dfd-b550-a0c520d5fcbe",
   "metadata": {},
   "source": [
    "# "
   ]
  },
  {
   "cell_type": "code",
   "execution_count": 67,
   "id": "6a125177-e6c2-4620-b3ae-792faf06e24b",
   "metadata": {},
   "outputs": [
    {
     "data": {
      "text/html": [
       "<div>\n",
       "<style scoped>\n",
       "    .dataframe tbody tr th:only-of-type {\n",
       "        vertical-align: middle;\n",
       "    }\n",
       "\n",
       "    .dataframe tbody tr th {\n",
       "        vertical-align: top;\n",
       "    }\n",
       "\n",
       "    .dataframe thead th {\n",
       "        text-align: right;\n",
       "    }\n",
       "</style>\n",
       "<table border=\"1\" class=\"dataframe\">\n",
       "  <thead>\n",
       "    <tr style=\"text-align: right;\">\n",
       "      <th></th>\n",
       "      <th>0</th>\n",
       "    </tr>\n",
       "  </thead>\n",
       "  <tbody>\n",
       "    <tr>\n",
       "      <th>a</th>\n",
       "      <td>1</td>\n",
       "    </tr>\n",
       "    <tr>\n",
       "      <th>b</th>\n",
       "      <td>sanjana</td>\n",
       "    </tr>\n",
       "    <tr>\n",
       "      <th>c</th>\n",
       "      <td>3</td>\n",
       "    </tr>\n",
       "  </tbody>\n",
       "</table>\n",
       "</div>"
      ],
      "text/plain": [
       "         0\n",
       "a        1\n",
       "b  sanjana\n",
       "c        3"
      ]
     },
     "execution_count": 67,
     "metadata": {},
     "output_type": "execute_result"
    }
   ],
   "source": [
    "df1"
   ]
  },
  {
   "cell_type": "code",
   "execution_count": 68,
   "id": "2fb834b2-b89b-46e6-a968-c0190a956a69",
   "metadata": {},
   "outputs": [
    {
     "data": {
      "text/plain": [
       "Index(['a', 'b', 'c'], dtype='object')"
      ]
     },
     "execution_count": 68,
     "metadata": {},
     "output_type": "execute_result"
    }
   ],
   "source": [
    "df1.index"
   ]
  },
  {
   "cell_type": "code",
   "execution_count": 69,
   "id": "65f51eeb-130e-42b2-9a71-d4331742de87",
   "metadata": {},
   "outputs": [
    {
     "data": {
      "text/plain": [
       "RangeIndex(start=0, stop=1, step=1)"
      ]
     },
     "execution_count": 69,
     "metadata": {},
     "output_type": "execute_result"
    }
   ],
   "source": [
    "df1.columns"
   ]
  },
  {
   "cell_type": "code",
   "execution_count": 70,
   "id": "ce7995ba-f13d-42b4-a03d-3e0e751e2643",
   "metadata": {},
   "outputs": [
    {
     "data": {
      "text/plain": [
       "Index(['c1', 'c2', 'c3'], dtype='object')"
      ]
     },
     "execution_count": 70,
     "metadata": {},
     "output_type": "execute_result"
    }
   ],
   "source": [
    "df.columns"
   ]
  },
  {
   "cell_type": "code",
   "execution_count": 74,
   "id": "90ca9834-abee-488f-a327-3c947fd972b8",
   "metadata": {},
   "outputs": [
    {
     "data": {
      "text/plain": [
       "a          1\n",
       "b    sanjana\n",
       "c          3\n",
       "Name: 0, dtype: object"
      ]
     },
     "execution_count": 74,
     "metadata": {},
     "output_type": "execute_result"
    }
   ],
   "source": [
    "df1[0]"
   ]
  },
  {
   "cell_type": "code",
   "execution_count": 76,
   "id": "e463ae1d-e9c9-488f-9f51-7c343dd15d51",
   "metadata": {},
   "outputs": [
    {
     "name": "stderr",
     "output_type": "stream",
     "text": [
      "C:\\Users\\smutk\\AppData\\Local\\Temp\\ipykernel_1980\\2534099685.py:1: FutureWarning: Series.__getitem__ treating keys as positions is deprecated. In a future version, integer keys will always be treated as labels (consistent with DataFrame behavior). To access a value by position, use `ser.iloc[pos]`\n",
      "  df1[0][0]\n"
     ]
    },
    {
     "data": {
      "text/plain": [
       "1"
      ]
     },
     "execution_count": 76,
     "metadata": {},
     "output_type": "execute_result"
    }
   ],
   "source": [
    "df1[0][0]"
   ]
  },
  {
   "cell_type": "code",
   "execution_count": 90,
   "id": "dea535d2-487d-461c-a828-d9b966a0f141",
   "metadata": {},
   "outputs": [],
   "source": [
    "mylist=[\n",
    "    ['Apple','Red'],\n",
    "    ['banana','yellow'],\n",
    "    ['orange','orange']\n",
    "]"
   ]
  },
  {
   "cell_type": "code",
   "execution_count": 91,
   "id": "559c2f0b-8365-4cc8-8617-1cbaef06e6e7",
   "metadata": {},
   "outputs": [
    {
     "data": {
      "text/plain": [
       "[['Apple', 'Red'], ['banana', 'yellow'], ['orange', 'orange']]"
      ]
     },
     "execution_count": 91,
     "metadata": {},
     "output_type": "execute_result"
    }
   ],
   "source": [
    "mylist"
   ]
  },
  {
   "cell_type": "code",
   "execution_count": 92,
   "id": "b6c5cc38-fb08-48fc-9a94-579fb90fe7dd",
   "metadata": {},
   "outputs": [],
   "source": [
    "mylist1=pd.DataFrame(mylist)"
   ]
  },
  {
   "cell_type": "code",
   "execution_count": 93,
   "id": "e96be3c2-ae07-46c9-9fee-402a65f7249f",
   "metadata": {},
   "outputs": [
    {
     "data": {
      "text/html": [
       "<div>\n",
       "<style scoped>\n",
       "    .dataframe tbody tr th:only-of-type {\n",
       "        vertical-align: middle;\n",
       "    }\n",
       "\n",
       "    .dataframe tbody tr th {\n",
       "        vertical-align: top;\n",
       "    }\n",
       "\n",
       "    .dataframe thead th {\n",
       "        text-align: right;\n",
       "    }\n",
       "</style>\n",
       "<table border=\"1\" class=\"dataframe\">\n",
       "  <thead>\n",
       "    <tr style=\"text-align: right;\">\n",
       "      <th></th>\n",
       "      <th>0</th>\n",
       "      <th>1</th>\n",
       "    </tr>\n",
       "  </thead>\n",
       "  <tbody>\n",
       "    <tr>\n",
       "      <th>0</th>\n",
       "      <td>Apple</td>\n",
       "      <td>Red</td>\n",
       "    </tr>\n",
       "    <tr>\n",
       "      <th>1</th>\n",
       "      <td>banana</td>\n",
       "      <td>yellow</td>\n",
       "    </tr>\n",
       "    <tr>\n",
       "      <th>2</th>\n",
       "      <td>orange</td>\n",
       "      <td>orange</td>\n",
       "    </tr>\n",
       "  </tbody>\n",
       "</table>\n",
       "</div>"
      ],
      "text/plain": [
       "        0       1\n",
       "0   Apple     Red\n",
       "1  banana  yellow\n",
       "2  orange  orange"
      ]
     },
     "execution_count": 93,
     "metadata": {},
     "output_type": "execute_result"
    }
   ],
   "source": [
    "mylist1"
   ]
  },
  {
   "cell_type": "code",
   "execution_count": 94,
   "id": "a628a9b9-05d1-496c-b969-760de4bae2aa",
   "metadata": {},
   "outputs": [],
   "source": [
    "mylist1=pd.DataFrame(mylist,columns=['Fruit name','color'])"
   ]
  },
  {
   "cell_type": "code",
   "execution_count": 96,
   "id": "24581628-636a-4619-9ea4-9b1e32c8d8a2",
   "metadata": {},
   "outputs": [
    {
     "data": {
      "text/html": [
       "<div>\n",
       "<style scoped>\n",
       "    .dataframe tbody tr th:only-of-type {\n",
       "        vertical-align: middle;\n",
       "    }\n",
       "\n",
       "    .dataframe tbody tr th {\n",
       "        vertical-align: top;\n",
       "    }\n",
       "\n",
       "    .dataframe thead th {\n",
       "        text-align: right;\n",
       "    }\n",
       "</style>\n",
       "<table border=\"1\" class=\"dataframe\">\n",
       "  <thead>\n",
       "    <tr style=\"text-align: right;\">\n",
       "      <th></th>\n",
       "      <th>Fruit name</th>\n",
       "      <th>color</th>\n",
       "    </tr>\n",
       "  </thead>\n",
       "  <tbody>\n",
       "    <tr>\n",
       "      <th>0</th>\n",
       "      <td>Apple</td>\n",
       "      <td>Red</td>\n",
       "    </tr>\n",
       "    <tr>\n",
       "      <th>1</th>\n",
       "      <td>banana</td>\n",
       "      <td>yellow</td>\n",
       "    </tr>\n",
       "    <tr>\n",
       "      <th>2</th>\n",
       "      <td>orange</td>\n",
       "      <td>orange</td>\n",
       "    </tr>\n",
       "  </tbody>\n",
       "</table>\n",
       "</div>"
      ],
      "text/plain": [
       "  Fruit name   color\n",
       "0      Apple     Red\n",
       "1     banana  yellow\n",
       "2     orange  orange"
      ]
     },
     "execution_count": 96,
     "metadata": {},
     "output_type": "execute_result"
    }
   ],
   "source": [
    "mylist1"
   ]
  },
  {
   "cell_type": "code",
   "execution_count": 98,
   "id": "0f58bec4-f662-4d6c-ab8e-c11e71e6048d",
   "metadata": {},
   "outputs": [
    {
     "data": {
      "text/plain": [
       "array([[0, 1],\n",
       "       [2, 3],\n",
       "       [4, 5]])"
      ]
     },
     "execution_count": 98,
     "metadata": {},
     "output_type": "execute_result"
    }
   ],
   "source": [
    "mylist3=np.array([\n",
    "    [0,1],\n",
    "    [2,3],\n",
    "    [4,5]])\n",
    "mylist3"
   ]
  },
  {
   "cell_type": "code",
   "execution_count": 102,
   "id": "92e90b3a-e8a5-4978-b9e8-fad7befdd079",
   "metadata": {},
   "outputs": [],
   "source": [
    "df3=pd.DataFrame(mylist3,columns=['even','odd'])"
   ]
  },
  {
   "cell_type": "markdown",
   "id": "38a303cd-fec1-4619-8c25-68dbd55a0b09",
   "metadata": {},
   "source": [
    "### "
   ]
  },
  {
   "cell_type": "code",
   "execution_count": 104,
   "id": "6a0cfcf9-532d-4943-a27a-997aeccd3cda",
   "metadata": {
    "scrolled": true
   },
   "outputs": [
    {
     "data": {
      "text/html": [
       "<div>\n",
       "<style scoped>\n",
       "    .dataframe tbody tr th:only-of-type {\n",
       "        vertical-align: middle;\n",
       "    }\n",
       "\n",
       "    .dataframe tbody tr th {\n",
       "        vertical-align: top;\n",
       "    }\n",
       "\n",
       "    .dataframe thead th {\n",
       "        text-align: right;\n",
       "    }\n",
       "</style>\n",
       "<table border=\"1\" class=\"dataframe\">\n",
       "  <thead>\n",
       "    <tr style=\"text-align: right;\">\n",
       "      <th></th>\n",
       "      <th>even</th>\n",
       "      <th>odd</th>\n",
       "    </tr>\n",
       "  </thead>\n",
       "  <tbody>\n",
       "    <tr>\n",
       "      <th>0</th>\n",
       "      <td>0</td>\n",
       "      <td>1</td>\n",
       "    </tr>\n",
       "    <tr>\n",
       "      <th>1</th>\n",
       "      <td>2</td>\n",
       "      <td>3</td>\n",
       "    </tr>\n",
       "    <tr>\n",
       "      <th>2</th>\n",
       "      <td>4</td>\n",
       "      <td>5</td>\n",
       "    </tr>\n",
       "  </tbody>\n",
       "</table>\n",
       "</div>"
      ],
      "text/plain": [
       "   even  odd\n",
       "0     0    1\n",
       "1     2    3\n",
       "2     4    5"
      ]
     },
     "execution_count": 104,
     "metadata": {},
     "output_type": "execute_result"
    }
   ],
   "source": [
    "df3"
   ]
  },
  {
   "cell_type": "code",
   "execution_count": null,
   "id": "938f4242-52a1-45c8-a1ca-28b1aaa85252",
   "metadata": {},
   "outputs": [],
   "source": [
    "\n",
    "\n",
    "\n",
    "\n",
    "\n",
    "\n"
   ]
  },
  {
   "cell_type": "code",
   "execution_count": null,
   "id": "811d71ee-8d3b-4069-9d3c-4c0ca15c56b0",
   "metadata": {},
   "outputs": [],
   "source": []
  },
  {
   "cell_type": "code",
   "execution_count": null,
   "id": "f99bcc3d-cf42-4e13-9f7e-f6bedd2f823b",
   "metadata": {},
   "outputs": [],
   "source": []
  }
 ],
 "metadata": {
  "kernelspec": {
   "display_name": "Python 3 (ipykernel)",
   "language": "python",
   "name": "python3"
  },
  "language_info": {
   "codemirror_mode": {
    "name": "ipython",
    "version": 3
   },
   "file_extension": ".py",
   "mimetype": "text/x-python",
   "name": "python",
   "nbconvert_exporter": "python",
   "pygments_lexer": "ipython3",
   "version": "3.12.7"
  }
 },
 "nbformat": 4,
 "nbformat_minor": 5
}
