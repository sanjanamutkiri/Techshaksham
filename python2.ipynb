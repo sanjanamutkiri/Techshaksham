{
 "cells": [
  {
   "cell_type": "code",
   "execution_count": 1,
   "id": "16c73037-ab99-4414-a27d-85bd5aba04e3",
   "metadata": {},
   "outputs": [],
   "source": [
    "#control structures"
   ]
  },
  {
   "cell_type": "code",
   "execution_count": 2,
   "id": "5a9bffc0-f09d-4a5a-af89-f4c47318c4ba",
   "metadata": {},
   "outputs": [
    {
     "name": "stdout",
     "output_type": "stream",
     "text": [
      "hello\n"
     ]
    }
   ],
   "source": [
    "if True:\n",
    "    print(\"hello\")"
   ]
  },
  {
   "cell_type": "code",
   "execution_count": 3,
   "id": "03d70fc4-edde-415e-9e8e-974014dbccd4",
   "metadata": {},
   "outputs": [],
   "source": [
    "if False:\n",
    "    print(\"helloo\")"
   ]
  },
  {
   "cell_type": "code",
   "execution_count": 6,
   "id": "047ebfc3-c2e4-4da6-895f-42ed35aecacc",
   "metadata": {},
   "outputs": [
    {
     "name": "stdout",
     "output_type": "stream",
     "text": [
      "true\n"
     ]
    }
   ],
   "source": [
    "x=True\n",
    "if x:\n",
    "    print('true')\n",
    "else:\n",
    "    print('false')"
   ]
  },
  {
   "cell_type": "code",
   "execution_count": 10,
   "id": "f3917217-bbf3-490a-aa60-7e82abdad9ed",
   "metadata": {},
   "outputs": [
    {
     "name": "stdout",
     "output_type": "stream",
     "text": [
      "c\n"
     ]
    }
   ],
   "source": [
    "loc='d'\n",
    "if loc=='a':\n",
    "    print('a')\n",
    "elif loc=='b':\n",
    "    print('b')\n",
    "else:\n",
    "    print('c')"
   ]
  },
  {
   "cell_type": "code",
   "execution_count": 30,
   "id": "66d0573b-7a85-4914-b543-1bd06b336f6c",
   "metadata": {},
   "outputs": [
    {
     "name": "stdout",
     "output_type": "stream",
     "text": [
      "43600\n"
     ]
    }
   ],
   "source": [
    "unit=3550\n",
    "if unit>=200:\n",
    "    total=0\n",
    "    unit=unit-200\n",
    "if unit>=300:\n",
    "    total=total+300*8\n",
    "    unit=unit-300\n",
    "if unit>=500:\n",
    "    total=total+500*11\n",
    "    unit=unit-500\n",
    "if unit>500:\n",
    "    total=total+unit*14\n",
    "print(total)"
   ]
  },
  {
   "cell_type": "code",
   "execution_count": null,
   "id": "cbe5751c-65f7-4b66-a92d-661c85f505df",
   "metadata": {},
   "outputs": [],
   "source": []
  },
  {
   "cell_type": "code",
   "execution_count": 50,
   "id": "535d2fe5-c851-47ce-b441-266ae01c467a",
   "metadata": {},
   "outputs": [
    {
     "name": "stdout",
     "output_type": "stream",
     "text": [
      "765000.0\n"
     ]
    }
   ],
   "source": [
    "total=4500000\n",
    "saving=150000\n",
    "tax=0\n",
    "amount=total-saving\n",
    "if amount>1000000:\n",
    "    amount=amount-1000000\n",
    "    tax=tax+(10/100)*amount\n",
    "    \n",
    "if amount>1200000:\n",
    "    amount=amount-1200000\n",
    "    tax=tax+(20/100)*amount\n",
    "    \n",
    "if amount>3000000:\n",
    "    amount=amount-3000000\n",
    "    tax=tax+(30/100)*amount\n",
    "print(tax)"
   ]
  },
  {
   "cell_type": "code",
   "execution_count": 57,
   "id": "df656a99-16d3-454e-bdc2-6bcc9b8c1fe7",
   "metadata": {},
   "outputs": [
    {
     "name": "stdout",
     "output_type": "stream",
     "text": [
      "1045000.0\n"
     ]
    }
   ],
   "source": [
    "amount=6500000\n",
    "interest=0\n",
    "if amount>=1000000:\n",
    "    interest=interest+(10/100)*1000000\n",
    "    amount=amount-1000000\n",
    "if amount>=1500000:\n",
    "    interest=interest+(15/100)*1500000\n",
    "    amount=amount-1500000\n",
    "if amount:\n",
    "    interest=interest+(18/100)*amount\n",
    "print(interest)"
   ]
  },
  {
   "cell_type": "code",
   "execution_count": 59,
   "id": "5708947a-f451-4bac-8864-042ad93a3534",
   "metadata": {},
   "outputs": [
    {
     "name": "stdout",
     "output_type": "stream",
     "text": [
      "2\n",
      "4\n"
     ]
    }
   ],
   "source": [
    "list=[1,2,3,4]\n",
    "for num in list:\n",
    "    if num%2==0:\n",
    "        print(num)"
   ]
  },
  {
   "cell_type": "code",
   "execution_count": 96,
   "id": "aa90139c-d684-4426-b75a-96c881c4beea",
   "metadata": {},
   "outputs": [],
   "source": [
    "for i in range(10,1):\n",
    "    print(i)"
   ]
  },
  {
   "cell_type": "code",
   "execution_count": null,
   "id": "259fe585-8a33-474a-8193-788501203a02",
   "metadata": {},
   "outputs": [],
   "source": []
  },
  {
   "cell_type": "code",
   "execution_count": null,
   "id": "776114f1-5fff-4dc7-ace0-da97ebd01faa",
   "metadata": {},
   "outputs": [],
   "source": []
  },
  {
   "cell_type": "code",
   "execution_count": null,
   "id": "1c2ac76f-aee6-463c-aa17-5b6d0a523fef",
   "metadata": {},
   "outputs": [],
   "source": []
  },
  {
   "cell_type": "code",
   "execution_count": 61,
   "id": "8241d996-d06a-4c86-826d-48704260b8f4",
   "metadata": {},
   "outputs": [
    {
     "name": "stdout",
     "output_type": "stream",
     "text": [
      "0\n",
      "1\n",
      "1\n",
      "2\n",
      "3\n",
      "5\n",
      "8\n",
      "13\n"
     ]
    }
   ],
   "source": [
    "num=8\n",
    "c=0\n",
    "a=0\n",
    "b=1\n",
    "for i in range(0,num):\n",
    "    print(a)\n",
    "    c=a+b\n",
    "    a=b\n",
    "    b=c"
   ]
  },
  {
   "cell_type": "code",
   "execution_count": 73,
   "id": "e8664867-14a6-42cf-9d0a-3c4b357f2d93",
   "metadata": {},
   "outputs": [
    {
     "name": "stdout",
     "output_type": "stream",
     "text": [
      "not prime\n"
     ]
    }
   ],
   "source": [
    "num=18\n",
    "i=0\n",
    "for i in range(2,(int)(num/2)+1):\n",
    "    if num%i==0:\n",
    "        print(\"not prime\")\n",
    "        break\n",
    "if i>=(int)(num/2):\n",
    "    print(\"prime\")"
   ]
  },
  {
   "cell_type": "code",
   "execution_count": 88,
   "id": "4d962e93-94ed-46f5-b59d-dff8b5a1cba8",
   "metadata": {},
   "outputs": [
    {
     "name": "stdout",
     "output_type": "stream",
     "text": [
      "    \n",
      "\n",
      "    *  \n",
      "\n",
      "   *   *  \n",
      "\n",
      "  *   *   *  \n",
      "\n",
      " *   *   *   *  \n",
      "\n"
     ]
    }
   ],
   "source": [
    "num=5\n",
    "for i in range (0,num):\n",
    "    for k in range(i+1,num):\n",
    "        print(end=\" \")\n",
    "    for j in range (0,i):\n",
    "        print(\" * \",end=\" \")\n",
    "    print('\\n')"
   ]
  },
  {
   "cell_type": "code",
   "execution_count": 113,
   "id": "905f21a9-d44d-4f53-a3df-29a0cb88ad43",
   "metadata": {},
   "outputs": [
    {
     "name": "stdout",
     "output_type": "stream",
     "text": [
      "          \n",
      "\n",
      "         *  \n",
      "\n",
      "       *   *  \n",
      "\n",
      "     *   *   *  \n",
      "\n",
      "   *   *   *   *  \n",
      "\n",
      " *   *   *   *   *  \n",
      "\n",
      "   *   *   *   *  \n",
      "\n",
      "     *   *   *   \n",
      "\n",
      "       *   *    \n",
      "\n",
      "         *     \n",
      "\n"
     ]
    }
   ],
   "source": [
    "num=5\n",
    "for i in range (0,num):\n",
    "    for k in range(num-i):\n",
    "        print(\" \",end=\" \")\n",
    "    for j in range (0,i):\n",
    "        print(\" * \",end=\" \")\n",
    "    print('\\n')\n",
    "\n",
    "for i in range (num,0,-1):\n",
    "    for k in range (num-i):\n",
    "        print(\" \",end=\" \")\n",
    "    for j in range (i,0,-1):\n",
    "        print(\" * \",end=\" \")\n",
    "    for k in range (num,i+1,-1):\n",
    "        print(end=\" \")\n",
    "    print('\\n')"
   ]
  },
  {
   "cell_type": "code",
   "execution_count": 115,
   "id": "4d2b0115-adcf-46b0-90b5-63ca0b0be062",
   "metadata": {},
   "outputs": [
    {
     "name": "stdout",
     "output_type": "stream",
     "text": [
      "1 \n",
      "2 2 \n",
      "3 3 3 \n",
      "4 4 4 4 \n",
      "5 5 5 5 5 \n"
     ]
    }
   ],
   "source": [
    "num=5\n",
    "for i in range (1,num+1):\n",
    "    for j in range (1,i+1):\n",
    "        print(i,end=\" \")\n",
    "    print()"
   ]
  },
  {
   "cell_type": "code",
   "execution_count": 117,
   "id": "423450d6-5a9d-4f67-9ead-02cf14fd79d0",
   "metadata": {},
   "outputs": [
    {
     "name": "stdout",
     "output_type": "stream",
     "text": [
      "1 \n",
      "2 3 \n",
      "4 5 6 \n",
      "7 8 9 10 \n",
      "11 12 13 14 15 \n"
     ]
    }
   ],
   "source": [
    "\n",
    "num=5\n",
    "count=1\n",
    "for i in range (1,num+1):\n",
    "    for j in range (1,i+1):\n",
    "        print(count,end=\" \")\n",
    "        count=count+1\n",
    "    print()"
   ]
  },
  {
   "cell_type": "code",
   "execution_count": 137,
   "id": "e9e53c36-6ad6-485b-a7f8-6725d1743e48",
   "metadata": {},
   "outputs": [
    {
     "name": "stdin",
     "output_type": "stream",
     "text": [
      " 15\n"
     ]
    },
    {
     "name": "stdout",
     "output_type": "stream",
     "text": [
      "2\n",
      "3\n",
      "5\n",
      "7\n",
      "11\n",
      "13\n",
      "17\n",
      "19\n",
      "23\n",
      "29\n",
      "31\n",
      "37\n",
      "41\n",
      "43\n",
      "47\n"
     ]
    }
   ],
   "source": [
    "def is_prime(num):\n",
    "    for i in range(2,(int)(num/2)+1):\n",
    "        if num%i==0:\n",
    "            return False\n",
    "    return True\n",
    "num=int(input())\n",
    "n=2\n",
    "while num>0:\n",
    "    if is_prime(n):\n",
    "        print(n)\n",
    "        num=num-1\n",
    "    n=n+1\n",
    "\n",
    "\n",
    "         "
   ]
  },
  {
   "cell_type": "code",
   "execution_count": 138,
   "id": "3dd87e11-9119-4775-b859-3f8a3a94b515",
   "metadata": {},
   "outputs": [],
   "source": [
    "list=[4,7,1,20,6,1,7,8,23,45,78,1,2,3,4]"
   ]
  },
  {
   "cell_type": "code",
   "execution_count": 139,
   "id": "41f985f5-ff7b-470e-88db-2df2b13f81b2",
   "metadata": {},
   "outputs": [
    {
     "data": {
      "text/plain": [
       "[1, 1, 1, 2, 3, 4, 4, 6, 7, 7, 8, 20, 23, 45, 78]"
      ]
     },
     "execution_count": 139,
     "metadata": {},
     "output_type": "execute_result"
    }
   ],
   "source": [
    "for i in range(0,len(list)):\n",
    "    for j in range(0,len(list)):\n",
    "        if(list[i]<list[j]):\n",
    "            temp=list[i]\n",
    "            list[i]=list[j]\n",
    "            list[j]=temp\n",
    "        \n",
    "list"
   ]
  },
  {
   "cell_type": "code",
   "execution_count": 140,
   "id": "6222503d-ab59-4592-b14a-fb716f59ba4d",
   "metadata": {},
   "outputs": [
    {
     "data": {
      "text/plain": [
       "[78, 45, 23, 20, 8, 7, 7, 6, 4, 4, 3, 2, 1, 1, 1]"
      ]
     },
     "execution_count": 140,
     "metadata": {},
     "output_type": "execute_result"
    }
   ],
   "source": [
    "for i in range(0,len(list)):\n",
    "    for j in range(0,len(list)):\n",
    "        if(list[i]>list[j]):\n",
    "            temp=list[i]\n",
    "            list[i]=list[j]\n",
    "            list[j]=temp\n",
    "        \n",
    "list"
   ]
  },
  {
   "cell_type": "code",
   "execution_count": 141,
   "id": "79e01b7b-940a-4d83-b3d1-699c0bb03249",
   "metadata": {},
   "outputs": [],
   "source": [
    "s=\"walchand Institute Of Technology , Soalpur , Maharastra\""
   ]
  },
  {
   "cell_type": "code",
   "execution_count": 158,
   "id": "8e229d40-84bb-46a6-9259-3d3c41fd0f98",
   "metadata": {},
   "outputs": [
    {
     "name": "stdout",
     "output_type": "stream",
     "text": [
      "artsarahaM , ruplaoS , ygolonhceT fO etutitsnI dnahcla"
     ]
    }
   ],
   "source": [
    "for i in range (len(s)-1,0,-1):\n",
    "    print(s[i],end=\"\")"
   ]
  },
  {
   "cell_type": "code",
   "execution_count": 143,
   "id": "a6ec74bc-5d08-4358-846f-f567184feaf3",
   "metadata": {},
   "outputs": [
    {
     "name": "stdout",
     "output_type": "stream",
     "text": [
      "w l h n   n t t t   f T c n l g     o l u     a a a t a "
     ]
    }
   ],
   "source": [
    "for i in range(0,len(s)):\n",
    "    if i%2==0:\n",
    "        print(s[i],end=\" \")"
   ]
  },
  {
   "cell_type": "code",
   "execution_count": 144,
   "id": "7699a319-952d-4432-b4a4-c7a87118d5c0",
   "metadata": {},
   "outputs": [
    {
     "name": "stdout",
     "output_type": "stream",
     "text": [
      "a c a d I s i u e O   e h o o y , S a p r , M h r s r "
     ]
    }
   ],
   "source": [
    "for i in range(0,len(s)):\n",
    "    if i%2==1:\n",
    "        print(s[i],end=\" \")"
   ]
  },
  {
   "cell_type": "code",
   "execution_count": 145,
   "id": "65cbe37c-5243-42af-b7fa-8ec04a79170c",
   "metadata": {},
   "outputs": [
    {
     "data": {
      "text/plain": [
       "['walchand',\n",
       " 'Institute',\n",
       " 'Of',\n",
       " 'Technology',\n",
       " ',',\n",
       " 'Soalpur',\n",
       " ',',\n",
       " 'Maharastra']"
      ]
     },
     "execution_count": 145,
     "metadata": {},
     "output_type": "execute_result"
    }
   ],
   "source": [
    "s.split()"
   ]
  },
  {
   "cell_type": "code",
   "execution_count": 156,
   "id": "791ee273-1b85-4173-b945-79bac62f0843",
   "metadata": {},
   "outputs": [
    {
     "name": "stdout",
     "output_type": "stream",
     "text": [
      "vowels\n",
      "a\n",
      "a\n",
      "i\n",
      "u\n",
      "e\n",
      "e\n",
      "o\n",
      "o\n",
      "o\n",
      "a\n",
      "u\n",
      "a\n",
      "a\n",
      "a\n",
      "a\n"
     ]
    }
   ],
   "source": [
    "def is_vowel(c):\n",
    "    if c in 'aeiou':\n",
    "        return True\n",
    "    return False\n",
    "print(\"vowels\")\n",
    "for i in range (0,len(s)):\n",
    "    if is_vowel(s[i]):\n",
    "        print(s[i])\n"
   ]
  },
  {
   "cell_type": "code",
   "execution_count": 193,
   "id": "da04a473-ec7a-4b1d-b674-ac0f2389cc16",
   "metadata": {},
   "outputs": [
    {
     "name": "stdout",
     "output_type": "stream",
     "text": [
      "{}\n",
      "{'w': 1}\n",
      "{'w': 1, 'a': 1}\n",
      "{'w': 1, 'a': 1, 'l': 1}\n",
      "{'w': 1, 'a': 1, 'l': 1, 'c': 1}\n",
      "{'w': 1, 'a': 1, 'l': 1, 'c': 1, 'h': 1}\n",
      "{'w': 1, 'a': 2, 'l': 1, 'c': 1, 'h': 1}\n",
      "{'w': 1, 'a': 2, 'l': 1, 'c': 1, 'h': 1, 'n': 1}\n",
      "{'w': 1, 'a': 2, 'l': 1, 'c': 1, 'h': 1, 'n': 1, 'd': 1}\n",
      "{'w': 1, 'a': 2, 'l': 1, 'c': 1, 'h': 1, 'n': 1, 'd': 1, ' ': 1}\n",
      "{'w': 1, 'a': 2, 'l': 1, 'c': 1, 'h': 1, 'n': 1, 'd': 1, ' ': 1, 'i': 1}\n",
      "{'w': 1, 'a': 2, 'l': 1, 'c': 1, 'h': 1, 'n': 2, 'd': 1, ' ': 1, 'i': 1}\n",
      "{'w': 1, 'a': 2, 'l': 1, 'c': 1, 'h': 1, 'n': 2, 'd': 1, ' ': 1, 'i': 1, 's': 1}\n",
      "{'w': 1, 'a': 2, 'l': 1, 'c': 1, 'h': 1, 'n': 2, 'd': 1, ' ': 1, 'i': 1, 's': 1, 't': 1}\n",
      "{'w': 1, 'a': 2, 'l': 1, 'c': 1, 'h': 1, 'n': 2, 'd': 1, ' ': 1, 'i': 2, 's': 1, 't': 1}\n",
      "{'w': 1, 'a': 2, 'l': 1, 'c': 1, 'h': 1, 'n': 2, 'd': 1, ' ': 1, 'i': 2, 's': 1, 't': 2}\n",
      "{'w': 1, 'a': 2, 'l': 1, 'c': 1, 'h': 1, 'n': 2, 'd': 1, ' ': 1, 'i': 2, 's': 1, 't': 2, 'u': 1}\n",
      "{'w': 1, 'a': 2, 'l': 1, 'c': 1, 'h': 1, 'n': 2, 'd': 1, ' ': 1, 'i': 2, 's': 1, 't': 3, 'u': 1}\n",
      "{'w': 1, 'a': 2, 'l': 1, 'c': 1, 'h': 1, 'n': 2, 'd': 1, ' ': 1, 'i': 2, 's': 1, 't': 3, 'u': 1, 'e': 1}\n",
      "{'w': 1, 'a': 2, 'l': 1, 'c': 1, 'h': 1, 'n': 2, 'd': 1, ' ': 2, 'i': 2, 's': 1, 't': 3, 'u': 1, 'e': 1}\n",
      "{'w': 1, 'a': 2, 'l': 1, 'c': 1, 'h': 1, 'n': 2, 'd': 1, ' ': 2, 'i': 2, 's': 1, 't': 3, 'u': 1, 'e': 1, 'o': 1}\n",
      "{'w': 1, 'a': 2, 'l': 1, 'c': 1, 'h': 1, 'n': 2, 'd': 1, ' ': 2, 'i': 2, 's': 1, 't': 3, 'u': 1, 'e': 1, 'o': 1, 'f': 1}\n",
      "{'w': 1, 'a': 2, 'l': 1, 'c': 1, 'h': 1, 'n': 2, 'd': 1, ' ': 3, 'i': 2, 's': 1, 't': 3, 'u': 1, 'e': 1, 'o': 1, 'f': 1}\n",
      "{'w': 1, 'a': 2, 'l': 1, 'c': 1, 'h': 1, 'n': 2, 'd': 1, ' ': 3, 'i': 2, 's': 1, 't': 4, 'u': 1, 'e': 1, 'o': 1, 'f': 1}\n",
      "{'w': 1, 'a': 2, 'l': 1, 'c': 1, 'h': 1, 'n': 2, 'd': 1, ' ': 3, 'i': 2, 's': 1, 't': 4, 'u': 1, 'e': 2, 'o': 1, 'f': 1}\n",
      "{'w': 1, 'a': 2, 'l': 1, 'c': 2, 'h': 1, 'n': 2, 'd': 1, ' ': 3, 'i': 2, 's': 1, 't': 4, 'u': 1, 'e': 2, 'o': 1, 'f': 1}\n",
      "{'w': 1, 'a': 2, 'l': 1, 'c': 2, 'h': 2, 'n': 2, 'd': 1, ' ': 3, 'i': 2, 's': 1, 't': 4, 'u': 1, 'e': 2, 'o': 1, 'f': 1}\n",
      "{'w': 1, 'a': 2, 'l': 1, 'c': 2, 'h': 2, 'n': 3, 'd': 1, ' ': 3, 'i': 2, 's': 1, 't': 4, 'u': 1, 'e': 2, 'o': 1, 'f': 1}\n",
      "{'w': 1, 'a': 2, 'l': 1, 'c': 2, 'h': 2, 'n': 3, 'd': 1, ' ': 3, 'i': 2, 's': 1, 't': 4, 'u': 1, 'e': 2, 'o': 2, 'f': 1}\n",
      "{'w': 1, 'a': 2, 'l': 2, 'c': 2, 'h': 2, 'n': 3, 'd': 1, ' ': 3, 'i': 2, 's': 1, 't': 4, 'u': 1, 'e': 2, 'o': 2, 'f': 1}\n",
      "{'w': 1, 'a': 2, 'l': 2, 'c': 2, 'h': 2, 'n': 3, 'd': 1, ' ': 3, 'i': 2, 's': 1, 't': 4, 'u': 1, 'e': 2, 'o': 3, 'f': 1}\n",
      "{'w': 1, 'a': 2, 'l': 2, 'c': 2, 'h': 2, 'n': 3, 'd': 1, ' ': 3, 'i': 2, 's': 1, 't': 4, 'u': 1, 'e': 2, 'o': 3, 'f': 1, 'g': 1}\n",
      "{'w': 1, 'a': 2, 'l': 2, 'c': 2, 'h': 2, 'n': 3, 'd': 1, ' ': 3, 'i': 2, 's': 1, 't': 4, 'u': 1, 'e': 2, 'o': 3, 'f': 1, 'g': 1, 'y': 1}\n",
      "{'w': 1, 'a': 2, 'l': 2, 'c': 2, 'h': 2, 'n': 3, 'd': 1, ' ': 4, 'i': 2, 's': 1, 't': 4, 'u': 1, 'e': 2, 'o': 3, 'f': 1, 'g': 1, 'y': 1}\n",
      "{'w': 1, 'a': 2, 'l': 2, 'c': 2, 'h': 2, 'n': 3, 'd': 1, ' ': 4, 'i': 2, 's': 2, 't': 4, 'u': 1, 'e': 2, 'o': 3, 'f': 1, 'g': 1, 'y': 1}\n",
      "{'w': 1, 'a': 2, 'l': 2, 'c': 2, 'h': 2, 'n': 3, 'd': 1, ' ': 4, 'i': 2, 's': 2, 't': 4, 'u': 1, 'e': 2, 'o': 4, 'f': 1, 'g': 1, 'y': 1}\n",
      "{'w': 1, 'a': 2, 'l': 3, 'c': 2, 'h': 2, 'n': 3, 'd': 1, ' ': 4, 'i': 2, 's': 2, 't': 4, 'u': 1, 'e': 2, 'o': 4, 'f': 1, 'g': 1, 'y': 1}\n",
      "{'w': 1, 'a': 3, 'l': 3, 'c': 2, 'h': 2, 'n': 3, 'd': 1, ' ': 4, 'i': 2, 's': 2, 't': 4, 'u': 1, 'e': 2, 'o': 4, 'f': 1, 'g': 1, 'y': 1}\n",
      "{'w': 1, 'a': 3, 'l': 3, 'c': 2, 'h': 2, 'n': 3, 'd': 1, ' ': 4, 'i': 2, 's': 2, 't': 4, 'u': 1, 'e': 2, 'o': 4, 'f': 1, 'g': 1, 'y': 1, 'p': 1}\n",
      "{'w': 1, 'a': 3, 'l': 3, 'c': 2, 'h': 2, 'n': 3, 'd': 1, ' ': 4, 'i': 2, 's': 2, 't': 4, 'u': 2, 'e': 2, 'o': 4, 'f': 1, 'g': 1, 'y': 1, 'p': 1}\n",
      "{'w': 1, 'a': 3, 'l': 3, 'c': 2, 'h': 2, 'n': 3, 'd': 1, ' ': 4, 'i': 2, 's': 2, 't': 4, 'u': 2, 'e': 2, 'o': 4, 'f': 1, 'g': 1, 'y': 1, 'p': 1, 'r': 1}\n",
      "{'w': 1, 'a': 3, 'l': 3, 'c': 2, 'h': 2, 'n': 3, 'd': 1, ' ': 5, 'i': 2, 's': 2, 't': 4, 'u': 2, 'e': 2, 'o': 4, 'f': 1, 'g': 1, 'y': 1, 'p': 1, 'r': 1}\n",
      "{'w': 1, 'a': 3, 'l': 3, 'c': 2, 'h': 2, 'n': 3, 'd': 1, ' ': 5, 'i': 2, 's': 2, 't': 4, 'u': 2, 'e': 2, 'o': 4, 'f': 1, 'g': 1, 'y': 1, 'p': 1, 'r': 1, 'm': 1}\n",
      "{'w': 1, 'a': 4, 'l': 3, 'c': 2, 'h': 2, 'n': 3, 'd': 1, ' ': 5, 'i': 2, 's': 2, 't': 4, 'u': 2, 'e': 2, 'o': 4, 'f': 1, 'g': 1, 'y': 1, 'p': 1, 'r': 1, 'm': 1}\n",
      "{'w': 1, 'a': 4, 'l': 3, 'c': 2, 'h': 3, 'n': 3, 'd': 1, ' ': 5, 'i': 2, 's': 2, 't': 4, 'u': 2, 'e': 2, 'o': 4, 'f': 1, 'g': 1, 'y': 1, 'p': 1, 'r': 1, 'm': 1}\n",
      "{'w': 1, 'a': 5, 'l': 3, 'c': 2, 'h': 3, 'n': 3, 'd': 1, ' ': 5, 'i': 2, 's': 2, 't': 4, 'u': 2, 'e': 2, 'o': 4, 'f': 1, 'g': 1, 'y': 1, 'p': 1, 'r': 1, 'm': 1}\n",
      "{'w': 1, 'a': 5, 'l': 3, 'c': 2, 'h': 3, 'n': 3, 'd': 1, ' ': 5, 'i': 2, 's': 2, 't': 4, 'u': 2, 'e': 2, 'o': 4, 'f': 1, 'g': 1, 'y': 1, 'p': 1, 'r': 2, 'm': 1}\n",
      "{'w': 1, 'a': 6, 'l': 3, 'c': 2, 'h': 3, 'n': 3, 'd': 1, ' ': 5, 'i': 2, 's': 2, 't': 4, 'u': 2, 'e': 2, 'o': 4, 'f': 1, 'g': 1, 'y': 1, 'p': 1, 'r': 2, 'm': 1}\n",
      "{'w': 1, 'a': 6, 'l': 3, 'c': 2, 'h': 3, 'n': 3, 'd': 1, ' ': 5, 'i': 2, 's': 3, 't': 4, 'u': 2, 'e': 2, 'o': 4, 'f': 1, 'g': 1, 'y': 1, 'p': 1, 'r': 2, 'm': 1}\n",
      "{'w': 1, 'a': 6, 'l': 3, 'c': 2, 'h': 3, 'n': 3, 'd': 1, ' ': 5, 'i': 2, 's': 3, 't': 5, 'u': 2, 'e': 2, 'o': 4, 'f': 1, 'g': 1, 'y': 1, 'p': 1, 'r': 2, 'm': 1}\n",
      "{'w': 1, 'a': 6, 'l': 3, 'c': 2, 'h': 3, 'n': 3, 'd': 1, ' ': 5, 'i': 2, 's': 3, 't': 5, 'u': 2, 'e': 2, 'o': 4, 'f': 1, 'g': 1, 'y': 1, 'p': 1, 'r': 3, 'm': 1}\n",
      "{'w': 1, 'a': 7, 'l': 3, 'c': 2, 'h': 3, 'n': 3, 'd': 1, ' ': 5, 'i': 2, 's': 3, 't': 5, 'u': 2, 'e': 2, 'o': 4, 'f': 1, 'g': 1, 'y': 1, 'p': 1, 'r': 3, 'm': 1}\n"
     ]
    }
   ],
   "source": [
    "s=\"walchand institute of technology solapur maharastra\"\n",
    "list={}\n",
    "for char in s:\n",
    "    print(list)\n",
    "    if char in list:\n",
    "        list[char]+=1\n",
    "    else:\n",
    "        list[char]=1\n",
    "print(list)\n",
    "    \n",
    "    \n",
    "    \n",
    "    \n",
    "    \n",
    "    "
   ]
  },
  {
   "cell_type": "code",
   "execution_count": 194,
   "id": "eeee1c90-6c41-45ec-9d18-fe18d2d7bc6a",
   "metadata": {},
   "outputs": [
    {
     "name": "stdout",
     "output_type": "stream",
     "text": [
      "{'a': 7, 'i': 2, 'u': 2, 'e': 2, 'o': 4}\n"
     ]
    }
   ],
   "source": [
    "def is_vowel(c):\n",
    "    if c in 'aeiou':\n",
    "        return True\n",
    "    return False\n",
    "s=\"walchand institute of technology solapur maharastra\"\n",
    "list={}\n",
    "for char in s:\n",
    "    if is_vowel(char):\n",
    "        if char in list:\n",
    "            list[char]+=1\n",
    "        else:\n",
    "            list[char]=1\n",
    "print(list)"
   ]
  },
  {
   "cell_type": "code",
   "execution_count": null,
   "id": "90042fc3-5702-468e-8a46-b12312c5a054",
   "metadata": {},
   "outputs": [],
   "source": []
  },
  {
   "cell_type": "code",
   "execution_count": null,
   "id": "7a7044b9-2c5f-4eeb-bea5-57148abe8dbb",
   "metadata": {},
   "outputs": [],
   "source": []
  },
  {
   "cell_type": "code",
   "execution_count": null,
   "id": "b6ba6cea-642b-4a03-b799-c82e3f2fc3b0",
   "metadata": {},
   "outputs": [],
   "source": []
  },
  {
   "cell_type": "code",
   "execution_count": null,
   "id": "8d760f1f-94a7-43f2-a6e8-7bf8820d6725",
   "metadata": {},
   "outputs": [],
   "source": []
  },
  {
   "cell_type": "code",
   "execution_count": null,
   "id": "bb073aab-d558-487d-a855-73f51f4ba609",
   "metadata": {},
   "outputs": [],
   "source": []
  },
  {
   "cell_type": "code",
   "execution_count": null,
   "id": "a418b269-5785-4193-87c0-a664cf5b8b93",
   "metadata": {},
   "outputs": [],
   "source": []
  },
  {
   "cell_type": "code",
   "execution_count": null,
   "id": "5786ef95-5372-40ae-b1c5-ee1ce086d250",
   "metadata": {},
   "outputs": [],
   "source": []
  },
  {
   "cell_type": "code",
   "execution_count": null,
   "id": "aa87322b-b745-4665-9ecf-25165b694098",
   "metadata": {},
   "outputs": [],
   "source": []
  },
  {
   "cell_type": "code",
   "execution_count": null,
   "id": "20e466b3-9fe4-4ddb-b46c-4c3dbfdbbbab",
   "metadata": {},
   "outputs": [],
   "source": []
  },
  {
   "cell_type": "code",
   "execution_count": null,
   "id": "0dbf85db-f0e8-411a-b2b0-3657d7a56c69",
   "metadata": {},
   "outputs": [],
   "source": []
  },
  {
   "cell_type": "code",
   "execution_count": null,
   "id": "d675a6e8-be85-4f36-985c-235adf888d07",
   "metadata": {},
   "outputs": [],
   "source": []
  },
  {
   "cell_type": "code",
   "execution_count": null,
   "id": "5c39d061-4a3c-456b-9b42-fc0d9037dbfb",
   "metadata": {},
   "outputs": [],
   "source": []
  },
  {
   "cell_type": "code",
   "execution_count": null,
   "id": "5040c700-a05a-452b-b79d-9943e48caf7c",
   "metadata": {},
   "outputs": [],
   "source": []
  },
  {
   "cell_type": "code",
   "execution_count": null,
   "id": "4ef77f03-74f7-4a77-805a-62a6da55f6c2",
   "metadata": {},
   "outputs": [],
   "source": []
  },
  {
   "cell_type": "code",
   "execution_count": null,
   "id": "40f030ad-af15-4fb7-9ef5-95e7968deb94",
   "metadata": {},
   "outputs": [],
   "source": []
  },
  {
   "cell_type": "code",
   "execution_count": null,
   "id": "2b6a25a7-fb69-4166-ba18-f6c10b9181b4",
   "metadata": {},
   "outputs": [],
   "source": []
  },
  {
   "cell_type": "code",
   "execution_count": null,
   "id": "a0219aff-f6c0-4cec-8d75-01e3b427b60e",
   "metadata": {},
   "outputs": [],
   "source": []
  },
  {
   "cell_type": "code",
   "execution_count": null,
   "id": "c87555f0-2007-43b1-826e-1f7be5482739",
   "metadata": {},
   "outputs": [],
   "source": []
  },
  {
   "cell_type": "code",
   "execution_count": null,
   "id": "220fac69-b6f4-4de6-ac39-dee3a1bf2b78",
   "metadata": {},
   "outputs": [],
   "source": []
  },
  {
   "cell_type": "code",
   "execution_count": null,
   "id": "b56828fe-ac78-42f2-9547-9cb9e16b8ea7",
   "metadata": {},
   "outputs": [],
   "source": []
  },
  {
   "cell_type": "code",
   "execution_count": null,
   "id": "8267ab96-ddac-4f93-87e0-b90a946cd237",
   "metadata": {},
   "outputs": [],
   "source": []
  },
  {
   "cell_type": "code",
   "execution_count": null,
   "id": "932ff88d-78c8-4442-bb7b-03ce991d04d6",
   "metadata": {},
   "outputs": [],
   "source": []
  },
  {
   "cell_type": "code",
   "execution_count": null,
   "id": "e7d9381d-0a9d-4f40-ae83-3265cc6e94e7",
   "metadata": {},
   "outputs": [],
   "source": []
  },
  {
   "cell_type": "code",
   "execution_count": null,
   "id": "874a8109-5f87-4ce9-8c3a-961f1e122cb3",
   "metadata": {},
   "outputs": [],
   "source": []
  },
  {
   "cell_type": "code",
   "execution_count": null,
   "id": "2dab831b-20f4-4c85-96d7-becd06acf90d",
   "metadata": {},
   "outputs": [],
   "source": []
  },
  {
   "cell_type": "code",
   "execution_count": null,
   "id": "15a4b868-c686-4c31-a041-f2392ec21e20",
   "metadata": {},
   "outputs": [],
   "source": []
  },
  {
   "cell_type": "code",
   "execution_count": null,
   "id": "9e6406b0-8b48-419f-967b-45f6076feb4e",
   "metadata": {},
   "outputs": [],
   "source": []
  },
  {
   "cell_type": "code",
   "execution_count": null,
   "id": "619b6eac-d4cc-49f6-b951-1c4dfe93b70a",
   "metadata": {},
   "outputs": [],
   "source": []
  },
  {
   "cell_type": "code",
   "execution_count": 165,
   "id": "c931ac03-c2af-48a1-9471-4b5c4834734d",
   "metadata": {},
   "outputs": [
    {
     "data": {
      "text/plain": [
       "[1, 2, 6, 4]"
      ]
     },
     "execution_count": 165,
     "metadata": {},
     "output_type": "execute_result"
    }
   ],
   "source": [
    "list=[1,2,3,4]\n",
    "list[2]=6\n",
    "list"
   ]
  },
  {
   "cell_type": "code",
   "execution_count": null,
   "id": "4751aaba-96e8-4e2c-9199-5afd670504f1",
   "metadata": {},
   "outputs": [],
   "source": []
  },
  {
   "cell_type": "code",
   "execution_count": null,
   "id": "f80199ac-22d0-4a88-8c76-7444f1e290cf",
   "metadata": {},
   "outputs": [],
   "source": []
  },
  {
   "cell_type": "code",
   "execution_count": null,
   "id": "2831fe78-fd35-4014-969e-b65e10170424",
   "metadata": {},
   "outputs": [],
   "source": []
  },
  {
   "cell_type": "code",
   "execution_count": null,
   "id": "5e381c8c-c309-45a5-8222-93b3e0ea55a9",
   "metadata": {},
   "outputs": [],
   "source": []
  },
  {
   "cell_type": "code",
   "execution_count": null,
   "id": "33f0a347-b6cf-4a00-a260-d4d588fb2b43",
   "metadata": {},
   "outputs": [],
   "source": []
  },
  {
   "cell_type": "code",
   "execution_count": null,
   "id": "16e15855-2d50-4a48-9422-fa7dc260019e",
   "metadata": {},
   "outputs": [],
   "source": []
  },
  {
   "cell_type": "code",
   "execution_count": null,
   "id": "c38aee0e-e581-4252-9b35-9a0cc56c312f",
   "metadata": {},
   "outputs": [],
   "source": []
  },
  {
   "cell_type": "code",
   "execution_count": null,
   "id": "378662e8-3bc2-4065-8146-873225911c67",
   "metadata": {},
   "outputs": [],
   "source": []
  },
  {
   "cell_type": "code",
   "execution_count": null,
   "id": "87620fb2-b490-4687-a389-599c544188c8",
   "metadata": {},
   "outputs": [],
   "source": []
  },
  {
   "cell_type": "code",
   "execution_count": null,
   "id": "d6b06a79-26f3-4a4b-af6a-f083959d8966",
   "metadata": {},
   "outputs": [],
   "source": []
  },
  {
   "cell_type": "code",
   "execution_count": null,
   "id": "91b8a88d-57c0-4b17-b3c1-b2bd8f67dbe7",
   "metadata": {},
   "outputs": [],
   "source": []
  },
  {
   "cell_type": "code",
   "execution_count": null,
   "id": "54d9f240-0629-46db-aebd-b2e94fea8d73",
   "metadata": {},
   "outputs": [],
   "source": []
  },
  {
   "cell_type": "code",
   "execution_count": null,
   "id": "aa6bfe07-73ba-4de1-b724-753d8ae699c7",
   "metadata": {},
   "outputs": [],
   "source": []
  },
  {
   "cell_type": "code",
   "execution_count": null,
   "id": "b0e7991a-636b-4a19-b940-24ce67460599",
   "metadata": {},
   "outputs": [],
   "source": []
  },
  {
   "cell_type": "code",
   "execution_count": null,
   "id": "1fc5053e-11b7-4eab-a143-cba12f060463",
   "metadata": {},
   "outputs": [],
   "source": []
  },
  {
   "cell_type": "code",
   "execution_count": null,
   "id": "499209d2-64ff-4a5b-9d79-4a106a025a4c",
   "metadata": {},
   "outputs": [],
   "source": []
  },
  {
   "cell_type": "code",
   "execution_count": null,
   "id": "d6243cc2-63f2-4ae9-bb9f-3f717999c469",
   "metadata": {},
   "outputs": [],
   "source": []
  },
  {
   "cell_type": "code",
   "execution_count": null,
   "id": "72629300-5821-42b8-9917-5b008f537b72",
   "metadata": {},
   "outputs": [],
   "source": []
  },
  {
   "cell_type": "code",
   "execution_count": null,
   "id": "624336c5-9b06-4ff9-9a2a-d4aaec2fa918",
   "metadata": {},
   "outputs": [],
   "source": []
  },
  {
   "cell_type": "code",
   "execution_count": null,
   "id": "a08c3eb6-c334-4b0f-bdec-2ee70da80c05",
   "metadata": {},
   "outputs": [],
   "source": []
  },
  {
   "cell_type": "code",
   "execution_count": null,
   "id": "f512a5b5-6857-428a-b264-2e4f269c69d3",
   "metadata": {},
   "outputs": [],
   "source": []
  },
  {
   "cell_type": "code",
   "execution_count": null,
   "id": "f8a9630b-79a2-496b-a284-d9f48739b1f7",
   "metadata": {},
   "outputs": [],
   "source": []
  },
  {
   "cell_type": "code",
   "execution_count": null,
   "id": "164dba8a-09bd-415f-8c34-a59be3469a71",
   "metadata": {},
   "outputs": [],
   "source": []
  },
  {
   "cell_type": "code",
   "execution_count": null,
   "id": "989e0c8f-df8f-41e4-853d-55c5cf07652f",
   "metadata": {},
   "outputs": [],
   "source": []
  },
  {
   "cell_type": "code",
   "execution_count": null,
   "id": "5061638e-e6a6-4e8a-9b75-62c2255ab685",
   "metadata": {},
   "outputs": [],
   "source": []
  },
  {
   "cell_type": "code",
   "execution_count": null,
   "id": "86f121ab-4c92-489e-8ad9-d590a5ef6fc7",
   "metadata": {},
   "outputs": [],
   "source": []
  },
  {
   "cell_type": "code",
   "execution_count": null,
   "id": "cebb6b5e-2b7f-4cba-8040-2a5a86a4d15e",
   "metadata": {},
   "outputs": [],
   "source": []
  },
  {
   "cell_type": "code",
   "execution_count": null,
   "id": "0cbe3538-a998-47e1-84b2-9f75bf814846",
   "metadata": {},
   "outputs": [],
   "source": []
  },
  {
   "cell_type": "code",
   "execution_count": null,
   "id": "96a065e1-c1d6-4172-a01a-5726020820b7",
   "metadata": {},
   "outputs": [],
   "source": []
  },
  {
   "cell_type": "code",
   "execution_count": null,
   "id": "a4aea3e7-5e33-4c3d-9328-b2ee53345604",
   "metadata": {},
   "outputs": [],
   "source": []
  },
  {
   "cell_type": "code",
   "execution_count": null,
   "id": "9073207c-09f6-4c06-897e-38c9013ddfb2",
   "metadata": {},
   "outputs": [],
   "source": []
  },
  {
   "cell_type": "code",
   "execution_count": null,
   "id": "eb0dfd1b-86e2-44cf-8df4-5551a3099e16",
   "metadata": {},
   "outputs": [],
   "source": []
  },
  {
   "cell_type": "code",
   "execution_count": null,
   "id": "ff415094-4fe1-4cde-b209-bc07ff5c528f",
   "metadata": {},
   "outputs": [],
   "source": []
  },
  {
   "cell_type": "code",
   "execution_count": null,
   "id": "f5788acd-0d44-449b-8a87-ef3b6c5fa7e5",
   "metadata": {},
   "outputs": [],
   "source": []
  },
  {
   "cell_type": "code",
   "execution_count": null,
   "id": "2160cd97-7ce2-449c-b249-54103454b46f",
   "metadata": {},
   "outputs": [],
   "source": []
  },
  {
   "cell_type": "code",
   "execution_count": null,
   "id": "757e8bfb-1f8f-4f5d-b6b9-19c50806b23d",
   "metadata": {},
   "outputs": [],
   "source": []
  },
  {
   "cell_type": "code",
   "execution_count": null,
   "id": "98ab3cd7-a1a6-4ac6-8ddb-30b187ff5771",
   "metadata": {},
   "outputs": [],
   "source": []
  },
  {
   "cell_type": "code",
   "execution_count": null,
   "id": "74f3481b-8076-4832-a185-dec6e5ffe147",
   "metadata": {},
   "outputs": [],
   "source": []
  },
  {
   "cell_type": "code",
   "execution_count": null,
   "id": "ddc0c030-b113-44b4-a6f5-7052beb85faa",
   "metadata": {},
   "outputs": [],
   "source": []
  },
  {
   "cell_type": "code",
   "execution_count": null,
   "id": "11280671-a0a1-496b-8417-886e8040901d",
   "metadata": {},
   "outputs": [],
   "source": []
  },
  {
   "cell_type": "code",
   "execution_count": null,
   "id": "8cb74c2a-fe92-4b53-9eee-83286a005c22",
   "metadata": {},
   "outputs": [],
   "source": []
  },
  {
   "cell_type": "code",
   "execution_count": null,
   "id": "b3240a85-cb35-48af-865b-455ae4e4ce4b",
   "metadata": {},
   "outputs": [],
   "source": []
  },
  {
   "cell_type": "code",
   "execution_count": null,
   "id": "c5d45118-fef2-4d0a-a5b6-614ce2b95497",
   "metadata": {},
   "outputs": [],
   "source": []
  },
  {
   "cell_type": "code",
   "execution_count": null,
   "id": "6d9df300-d48f-46a2-a249-f4ddbbf7e924",
   "metadata": {},
   "outputs": [],
   "source": []
  },
  {
   "cell_type": "code",
   "execution_count": null,
   "id": "0082663c-2458-4c64-8f10-17523fde97fb",
   "metadata": {},
   "outputs": [],
   "source": []
  },
  {
   "cell_type": "code",
   "execution_count": null,
   "id": "f62cb451-b538-419f-8606-4d1d0dc0809b",
   "metadata": {},
   "outputs": [],
   "source": []
  },
  {
   "cell_type": "code",
   "execution_count": null,
   "id": "e8ea3a0e-4420-466a-a301-78f3701b3ade",
   "metadata": {},
   "outputs": [],
   "source": []
  },
  {
   "cell_type": "code",
   "execution_count": null,
   "id": "4bdec2f0-760d-46fe-9bb3-b57303e8be96",
   "metadata": {},
   "outputs": [],
   "source": [
    "num=5"
   ]
  },
  {
   "cell_type": "code",
   "execution_count": null,
   "id": "a4d73434-dbe0-4174-aadf-649cc0d7ffc2",
   "metadata": {},
   "outputs": [],
   "source": []
  },
  {
   "cell_type": "code",
   "execution_count": null,
   "id": "5abd5c88-c6aa-4111-bd4f-f89d754aa695",
   "metadata": {},
   "outputs": [],
   "source": []
  },
  {
   "cell_type": "code",
   "execution_count": null,
   "id": "e7522ddb-ee8f-4be8-a8e6-a278b5d96a86",
   "metadata": {},
   "outputs": [],
   "source": []
  },
  {
   "cell_type": "code",
   "execution_count": null,
   "id": "37c6bcd2-38aa-42ac-a8f3-1bb9157075ce",
   "metadata": {},
   "outputs": [],
   "source": []
  },
  {
   "cell_type": "code",
   "execution_count": null,
   "id": "522f3803-b159-4d35-bb04-77ed6b3c0e49",
   "metadata": {},
   "outputs": [],
   "source": []
  },
  {
   "cell_type": "code",
   "execution_count": null,
   "id": "ad0b20d1-7091-4722-b96b-e5bec65e9c93",
   "metadata": {},
   "outputs": [],
   "source": []
  },
  {
   "cell_type": "code",
   "execution_count": null,
   "id": "9e1e8d13-3475-492e-ab71-eef0754e8cdd",
   "metadata": {},
   "outputs": [],
   "source": []
  },
  {
   "cell_type": "code",
   "execution_count": null,
   "id": "b2899501-4cc3-4757-b78f-702d35b2c77b",
   "metadata": {},
   "outputs": [],
   "source": []
  },
  {
   "cell_type": "code",
   "execution_count": null,
   "id": "e2eff4c3-7503-4325-850d-70f2a7aacc9e",
   "metadata": {},
   "outputs": [],
   "source": []
  },
  {
   "cell_type": "code",
   "execution_count": null,
   "id": "1377aa78-cbfc-41a0-af41-df008a09e601",
   "metadata": {},
   "outputs": [],
   "source": []
  },
  {
   "cell_type": "code",
   "execution_count": null,
   "id": "e8217336-b274-4062-8fdc-f12f29a9a1f0",
   "metadata": {},
   "outputs": [],
   "source": []
  },
  {
   "cell_type": "code",
   "execution_count": null,
   "id": "0d58175d-2c0a-4a7d-8f59-1f51e041aa86",
   "metadata": {},
   "outputs": [],
   "source": []
  },
  {
   "cell_type": "code",
   "execution_count": null,
   "id": "7dac0dc8-a3bb-4cc9-9286-b216a14c5870",
   "metadata": {},
   "outputs": [],
   "source": []
  },
  {
   "cell_type": "code",
   "execution_count": null,
   "id": "f544114e-963d-41b1-8f79-9550ffd8b45f",
   "metadata": {},
   "outputs": [],
   "source": []
  },
  {
   "cell_type": "code",
   "execution_count": null,
   "id": "39c03e71-f157-4c47-8f83-a8971d162dda",
   "metadata": {},
   "outputs": [],
   "source": []
  },
  {
   "cell_type": "code",
   "execution_count": null,
   "id": "95cdca4b-e0a2-4e7b-a5c6-7d3f4a759105",
   "metadata": {},
   "outputs": [],
   "source": []
  },
  {
   "cell_type": "code",
   "execution_count": null,
   "id": "43292651-d919-4442-a129-954b1f9467e6",
   "metadata": {},
   "outputs": [],
   "source": []
  },
  {
   "cell_type": "code",
   "execution_count": null,
   "id": "ad7fc9cc-b6fc-43d2-aa22-a92a503a1770",
   "metadata": {},
   "outputs": [],
   "source": []
  },
  {
   "cell_type": "code",
   "execution_count": null,
   "id": "cd467d29-ce88-4820-b5cd-a17dfaff84f4",
   "metadata": {},
   "outputs": [],
   "source": []
  },
  {
   "cell_type": "code",
   "execution_count": null,
   "id": "a66932c7-2c2c-43a3-8830-2a14b763e32e",
   "metadata": {},
   "outputs": [],
   "source": []
  },
  {
   "cell_type": "code",
   "execution_count": null,
   "id": "4d277ed4-ec6e-49bb-894d-1a6a61cd120d",
   "metadata": {},
   "outputs": [],
   "source": []
  },
  {
   "cell_type": "code",
   "execution_count": null,
   "id": "fbea3dd8-f5ce-44f7-8c1a-b894c5eb38ad",
   "metadata": {},
   "outputs": [],
   "source": []
  },
  {
   "cell_type": "code",
   "execution_count": null,
   "id": "60f4402c-7a0a-4aee-8f94-0327d465f753",
   "metadata": {},
   "outputs": [],
   "source": []
  },
  {
   "cell_type": "code",
   "execution_count": null,
   "id": "5e6f37f4-29ae-4b36-baca-778aca23ab7f",
   "metadata": {},
   "outputs": [],
   "source": []
  },
  {
   "cell_type": "code",
   "execution_count": null,
   "id": "3fc8266f-b131-439e-a14e-90509d7ab9a9",
   "metadata": {},
   "outputs": [],
   "source": []
  },
  {
   "cell_type": "code",
   "execution_count": null,
   "id": "e070f7e5-5332-474f-9046-f8575a652fd5",
   "metadata": {},
   "outputs": [],
   "source": []
  },
  {
   "cell_type": "code",
   "execution_count": null,
   "id": "81691b30-5aa5-4ef5-a34d-6a68ec992f8a",
   "metadata": {},
   "outputs": [],
   "source": []
  },
  {
   "cell_type": "code",
   "execution_count": null,
   "id": "e0bdf019-d5f0-4d6f-bced-70d2e9523197",
   "metadata": {},
   "outputs": [],
   "source": []
  },
  {
   "cell_type": "code",
   "execution_count": null,
   "id": "8805aaaf-567c-420e-926a-be326e25eaee",
   "metadata": {},
   "outputs": [],
   "source": []
  },
  {
   "cell_type": "code",
   "execution_count": null,
   "id": "dc3735fd-ea44-40e0-b2cf-c1b216203e20",
   "metadata": {},
   "outputs": [],
   "source": []
  },
  {
   "cell_type": "code",
   "execution_count": null,
   "id": "1167515e-1320-4dd6-b680-87d70eeaa3e5",
   "metadata": {},
   "outputs": [],
   "source": []
  },
  {
   "cell_type": "code",
   "execution_count": null,
   "id": "42c30abf-8cf2-4c2e-acc4-4845a29b52c9",
   "metadata": {},
   "outputs": [],
   "source": []
  },
  {
   "cell_type": "code",
   "execution_count": null,
   "id": "4a03f30e-5a20-41a8-be4b-2bad6025a9ac",
   "metadata": {},
   "outputs": [],
   "source": []
  },
  {
   "cell_type": "code",
   "execution_count": null,
   "id": "e7d1b059-4bd6-4764-b9f1-de49afb45851",
   "metadata": {},
   "outputs": [],
   "source": []
  },
  {
   "cell_type": "code",
   "execution_count": null,
   "id": "dde6455c-cadb-4841-a0d8-a3072e40e998",
   "metadata": {},
   "outputs": [],
   "source": [
    "\n"
   ]
  },
  {
   "cell_type": "code",
   "execution_count": null,
   "id": "f22ecd66-0f62-4bca-a568-10a24b81437b",
   "metadata": {},
   "outputs": [],
   "source": []
  },
  {
   "cell_type": "code",
   "execution_count": null,
   "id": "3d55fea6-946d-4930-a414-1660d8f52ba4",
   "metadata": {},
   "outputs": [],
   "source": []
  },
  {
   "cell_type": "code",
   "execution_count": null,
   "id": "f05eaaf4-241e-40d7-82e4-5ecada76d0e5",
   "metadata": {},
   "outputs": [],
   "source": []
  },
  {
   "cell_type": "code",
   "execution_count": null,
   "id": "973c22b2-6eb8-4e3e-b36c-b8f06e31290f",
   "metadata": {},
   "outputs": [],
   "source": []
  },
  {
   "cell_type": "code",
   "execution_count": null,
   "id": "05d8e6c8-b1e9-4c75-ac62-91af876b913d",
   "metadata": {},
   "outputs": [],
   "source": []
  },
  {
   "cell_type": "code",
   "execution_count": null,
   "id": "e37430ca-e700-4e01-9c44-d99a9fc0272c",
   "metadata": {},
   "outputs": [],
   "source": []
  },
  {
   "cell_type": "code",
   "execution_count": null,
   "id": "1f7ed2c5-4e61-48c3-b86b-2045228026be",
   "metadata": {},
   "outputs": [],
   "source": []
  },
  {
   "cell_type": "code",
   "execution_count": null,
   "id": "3d7fccc9-eebd-4b5e-98de-8edfa9c13925",
   "metadata": {},
   "outputs": [],
   "source": []
  },
  {
   "cell_type": "code",
   "execution_count": null,
   "id": "f81f84d4-c467-4550-9045-c7a3273db24c",
   "metadata": {},
   "outputs": [],
   "source": []
  },
  {
   "cell_type": "code",
   "execution_count": null,
   "id": "51cf9b0e-230a-4693-8cd9-c87f1a593af3",
   "metadata": {},
   "outputs": [],
   "source": []
  },
  {
   "cell_type": "code",
   "execution_count": null,
   "id": "f4504efd-87e8-493e-b0a2-2259aec32d72",
   "metadata": {},
   "outputs": [],
   "source": []
  },
  {
   "cell_type": "code",
   "execution_count": null,
   "id": "9405bf6d-69ad-4ef2-866b-2c8a8a9b3837",
   "metadata": {},
   "outputs": [],
   "source": []
  },
  {
   "cell_type": "code",
   "execution_count": null,
   "id": "23a9b41f-54a5-48d2-9cbb-cb82d4951aa1",
   "metadata": {},
   "outputs": [],
   "source": []
  },
  {
   "cell_type": "code",
   "execution_count": null,
   "id": "2038d977-fb66-468f-befc-f343d57afdd9",
   "metadata": {},
   "outputs": [],
   "source": []
  },
  {
   "cell_type": "code",
   "execution_count": null,
   "id": "c97e44d5-f0b0-48a0-bf3b-6d7921724c15",
   "metadata": {},
   "outputs": [],
   "source": []
  },
  {
   "cell_type": "code",
   "execution_count": null,
   "id": "1ed8bd58-2f29-4a77-a2b2-b4a5a07d993b",
   "metadata": {},
   "outputs": [],
   "source": []
  },
  {
   "cell_type": "code",
   "execution_count": null,
   "id": "8b7245b8-26da-458a-9c90-e98f28b1946c",
   "metadata": {},
   "outputs": [],
   "source": []
  },
  {
   "cell_type": "code",
   "execution_count": null,
   "id": "cac9eba0-0bae-4160-93f9-c28e65b56eeb",
   "metadata": {},
   "outputs": [],
   "source": []
  },
  {
   "cell_type": "code",
   "execution_count": null,
   "id": "772fd7ae-0052-4b3e-ad6a-30a50948a6dc",
   "metadata": {},
   "outputs": [],
   "source": []
  },
  {
   "cell_type": "code",
   "execution_count": null,
   "id": "0d6b8266-f1f5-4614-bf64-ea8274f8fdfb",
   "metadata": {},
   "outputs": [],
   "source": []
  },
  {
   "cell_type": "code",
   "execution_count": null,
   "id": "992d874a-a26e-4220-8ac0-be0386c45acd",
   "metadata": {},
   "outputs": [],
   "source": []
  },
  {
   "cell_type": "code",
   "execution_count": null,
   "id": "af6a2019-4d0a-4ca8-b730-90241ae0cf39",
   "metadata": {},
   "outputs": [],
   "source": []
  },
  {
   "cell_type": "code",
   "execution_count": null,
   "id": "303e0f79-4078-480b-bffa-379bff4e8fc4",
   "metadata": {},
   "outputs": [],
   "source": []
  },
  {
   "cell_type": "code",
   "execution_count": null,
   "id": "469faccd-3367-4f0b-9d63-bdd1b0c91b25",
   "metadata": {},
   "outputs": [],
   "source": []
  },
  {
   "cell_type": "code",
   "execution_count": null,
   "id": "44312331-1ba0-45af-95b7-c1f459a9d8fe",
   "metadata": {},
   "outputs": [],
   "source": []
  },
  {
   "cell_type": "code",
   "execution_count": null,
   "id": "168abbd0-3274-41b3-81fc-222bc8a657db",
   "metadata": {},
   "outputs": [],
   "source": []
  },
  {
   "cell_type": "code",
   "execution_count": null,
   "id": "10a2f2b7-b6d2-4dd6-b154-6eb8e6facf10",
   "metadata": {},
   "outputs": [],
   "source": []
  },
  {
   "cell_type": "code",
   "execution_count": null,
   "id": "08485d3c-0e3d-4cd2-87b9-b4c97dd77f16",
   "metadata": {},
   "outputs": [],
   "source": []
  },
  {
   "cell_type": "code",
   "execution_count": null,
   "id": "aee3e26e-c5f7-4fd2-b0e2-f360456855c7",
   "metadata": {},
   "outputs": [],
   "source": []
  },
  {
   "cell_type": "code",
   "execution_count": null,
   "id": "fc41f305-fa65-4426-9392-9738ddf2b3eb",
   "metadata": {},
   "outputs": [],
   "source": []
  },
  {
   "cell_type": "code",
   "execution_count": null,
   "id": "83b99e5a-9cf3-49ad-aa09-443440bc9350",
   "metadata": {},
   "outputs": [],
   "source": []
  },
  {
   "cell_type": "code",
   "execution_count": null,
   "id": "01d23122-64e7-497b-9165-38f1857cf6e9",
   "metadata": {},
   "outputs": [],
   "source": []
  },
  {
   "cell_type": "code",
   "execution_count": null,
   "id": "ad27b21d-995b-4175-a13c-8e3e5e158ee2",
   "metadata": {},
   "outputs": [],
   "source": []
  },
  {
   "cell_type": "code",
   "execution_count": null,
   "id": "9c908db8-a86a-4d34-80a7-cf54f4a62806",
   "metadata": {},
   "outputs": [],
   "source": []
  },
  {
   "cell_type": "code",
   "execution_count": null,
   "id": "8a1ca8dc-813a-4f28-b096-d0e301d5d915",
   "metadata": {},
   "outputs": [],
   "source": []
  },
  {
   "cell_type": "code",
   "execution_count": null,
   "id": "338e4e43-8b92-4b00-a3da-32fe65db8dc0",
   "metadata": {},
   "outputs": [],
   "source": []
  },
  {
   "cell_type": "code",
   "execution_count": null,
   "id": "d69c30fd-617b-4bfa-b075-1c1e45824c68",
   "metadata": {},
   "outputs": [],
   "source": []
  },
  {
   "cell_type": "code",
   "execution_count": null,
   "id": "5b14ac45-85cb-4c70-81ad-8b71a0331738",
   "metadata": {},
   "outputs": [],
   "source": []
  },
  {
   "cell_type": "code",
   "execution_count": null,
   "id": "536a83d0-7b0e-4c63-b40b-8fe6cc1a6c98",
   "metadata": {},
   "outputs": [],
   "source": []
  },
  {
   "cell_type": "code",
   "execution_count": null,
   "id": "ae1490c3-66b8-4e62-b6d7-e698721f2683",
   "metadata": {},
   "outputs": [],
   "source": []
  },
  {
   "cell_type": "code",
   "execution_count": null,
   "id": "c18ddd17-649a-472f-b7ed-f15e4aeaf58f",
   "metadata": {},
   "outputs": [],
   "source": []
  },
  {
   "cell_type": "code",
   "execution_count": null,
   "id": "4cbd7257-ece8-44b0-8888-35a0385743bd",
   "metadata": {},
   "outputs": [],
   "source": []
  },
  {
   "cell_type": "code",
   "execution_count": null,
   "id": "fcaa3bc8-dbb9-4ab5-90a2-673f8f11f08e",
   "metadata": {},
   "outputs": [],
   "source": []
  },
  {
   "cell_type": "code",
   "execution_count": null,
   "id": "572ddb50-a65f-4f3a-9615-85167c5c55f7",
   "metadata": {},
   "outputs": [],
   "source": []
  },
  {
   "cell_type": "code",
   "execution_count": null,
   "id": "7fd8d69f-e6c4-4da3-9d2a-7effbc87ec2f",
   "metadata": {},
   "outputs": [],
   "source": []
  },
  {
   "cell_type": "code",
   "execution_count": null,
   "id": "22452385-7769-49c8-a495-4d74e547ac76",
   "metadata": {},
   "outputs": [],
   "source": []
  },
  {
   "cell_type": "code",
   "execution_count": null,
   "id": "bfe944ae-3eaf-4c64-b17a-4f4e025937dc",
   "metadata": {},
   "outputs": [],
   "source": []
  },
  {
   "cell_type": "code",
   "execution_count": null,
   "id": "a0c74aaa-d735-4754-a5bd-fe08e78b1941",
   "metadata": {},
   "outputs": [],
   "source": []
  },
  {
   "cell_type": "code",
   "execution_count": null,
   "id": "2fd623a6-51ea-479a-8002-5f7d4f4f53b1",
   "metadata": {},
   "outputs": [],
   "source": []
  },
  {
   "cell_type": "code",
   "execution_count": null,
   "id": "53c88ec2-1c79-407c-a112-5f99e9a251cf",
   "metadata": {},
   "outputs": [],
   "source": []
  },
  {
   "cell_type": "code",
   "execution_count": null,
   "id": "b9793d38-bfcb-4404-a425-5b419e880979",
   "metadata": {},
   "outputs": [],
   "source": []
  },
  {
   "cell_type": "code",
   "execution_count": null,
   "id": "8fb13c5c-5464-49cb-9d76-eadf8ae7ba10",
   "metadata": {},
   "outputs": [],
   "source": []
  },
  {
   "cell_type": "code",
   "execution_count": null,
   "id": "7622a2ef-f496-498a-88b1-7328288599f2",
   "metadata": {},
   "outputs": [],
   "source": []
  },
  {
   "cell_type": "code",
   "execution_count": null,
   "id": "61fc4194-0ccc-43a1-a634-4f46eb444d0b",
   "metadata": {},
   "outputs": [],
   "source": []
  }
 ],
 "metadata": {
  "kernelspec": {
   "display_name": "Python 3 (ipykernel)",
   "language": "python",
   "name": "python3"
  },
  "language_info": {
   "codemirror_mode": {
    "name": "ipython",
    "version": 3
   },
   "file_extension": ".py",
   "mimetype": "text/x-python",
   "name": "python",
   "nbconvert_exporter": "python",
   "pygments_lexer": "ipython3",
   "version": "3.12.7"
  }
 },
 "nbformat": 4,
 "nbformat_minor": 5
}
