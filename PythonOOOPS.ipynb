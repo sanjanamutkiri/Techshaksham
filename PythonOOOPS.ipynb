{
 "cells": [
  {
   "cell_type": "code",
   "execution_count": 1,
   "id": "e7da1b91-f735-426a-bc37-a33c7eb0e871",
   "metadata": {},
   "outputs": [
    {
     "name": "stdout",
     "output_type": "stream",
     "text": [
      "Added: Science\n",
      "Added: Math\n",
      "Library Books:\n",
      "ID: 1, Name: Science\n",
      "ID: 2, Name: Math\n",
      "Removed: Science\n",
      "Library Books:\n",
      "ID: 2, Name: Math\n"
     ]
    }
   ],
   "source": [
    "class Library:\n",
    "    def __init__(self):\n",
    "        self.books = {}  # Dictionary to store books\n",
    "\n",
    "    def add(self, book_id, book_name):\n",
    "        self.books[book_id] = book_name\n",
    "        print(f\"Added: {book_name}\")\n",
    "\n",
    "    def remove_book(self, book_id):\n",
    "        if book_id in self.books:\n",
    "            removed = self.books.pop(book_id)\n",
    "            print(f\"Removed: {removed}\")\n",
    "        else:\n",
    "            print(\"Book not found\")\n",
    "\n",
    "    def display(self):\n",
    "        if not self.books:\n",
    "            print(\"No books in the library\")\n",
    "        else:\n",
    "            print(\"Library Books:\")\n",
    "            for book_id, book_name in self.books.items():\n",
    "                print(f\"ID: {book_id}, Name: {book_name}\")\n",
    "\n",
    "# Example Usage\n",
    "lib = Library()\n",
    "lib.add(1, \"Science\")\n",
    "lib.add(2, \"Math\")\n",
    "lib.display()\n",
    "lib.remove_book(1)\n",
    "lib.display()\n",
    "\n"
   ]
  },
  {
   "cell_type": "code",
   "execution_count": 9,
   "id": "5c4deddb-b901-42f0-99c8-f2b77d753d4b",
   "metadata": {},
   "outputs": [
    {
     "name": "stdout",
     "output_type": "stream",
     "text": [
      "Rahul\n",
      "47896\n",
      "My name is Rahul\n",
      "Idnumber is 47896\n",
      "Post is 500000\n",
      "Salary is Intern\n"
     ]
    }
   ],
   "source": [
    "#parent class\n",
    "class Person(object):\n",
    "    def __init__(self, name, idnumber):\n",
    "        self.name=name\n",
    "        self.idnumber=idnumber\n",
    "    def display(self):\n",
    "        print(self.name)\n",
    "        print(self.idnumber)\n",
    "    def details(self):\n",
    "        print(\"my name is {}\".format(self.name))\n",
    "        print(\"my name is {}\".format(self.idnumber))\n",
    "\n",
    "#child class\n",
    "class Employee(Person):\n",
    "    def __init__(self,name,idnumber,salary,post):\n",
    "        self.salary=salary\n",
    "        self.post=post\n",
    "        Person.__init__(self,name,idnumber)\n",
    "    def details(self):\n",
    "        print(\"My name is {}\".format(self.name))\n",
    "        print(\"Idnumber is {}\".format(self.idnumber))\n",
    "        print(\"Post is {}\".format(self.post))\n",
    "        print(\"Salary is {}\".format(self.salary))\n",
    "\n",
    "a=Employee('Rahul',47896,\"Intern\", 500000)\n",
    "a.display()\n",
    "a.details()"
   ]
  },
  {
   "cell_type": "code",
   "execution_count": null,
   "id": "efebd135-d540-4336-8ffb-87557d2302aa",
   "metadata": {},
   "outputs": [],
   "source": []
  }
 ],
 "metadata": {
  "kernelspec": {
   "display_name": "Python 3 (ipykernel)",
   "language": "python",
   "name": "python3"
  },
  "language_info": {
   "codemirror_mode": {
    "name": "ipython",
    "version": 3
   },
   "file_extension": ".py",
   "mimetype": "text/x-python",
   "name": "python",
   "nbconvert_exporter": "python",
   "pygments_lexer": "ipython3",
   "version": "3.12.7"
  }
 },
 "nbformat": 4,
 "nbformat_minor": 5
}
