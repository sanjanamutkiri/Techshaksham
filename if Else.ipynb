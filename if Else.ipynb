{
 "cells": [
  {
   "cell_type": "code",
   "execution_count": 1,
   "id": "c1c9f4be-8446-4294-aa91-0e8d70425706",
   "metadata": {},
   "outputs": [
    {
     "data": {
      "text/plain": [
       "[1, 2, 3]"
      ]
     },
     "execution_count": 1,
     "metadata": {},
     "output_type": "execute_result"
    }
   ],
   "source": [
    "list1=[1,2,3]\n",
    "list1"
   ]
  },
  {
   "cell_type": "code",
   "execution_count": 2,
   "id": "fb84c3d2-468f-4afc-ba6f-e8820ca8864c",
   "metadata": {},
   "outputs": [
    {
     "data": {
      "text/plain": [
       "[1, 2, 3]"
      ]
     },
     "execution_count": 2,
     "metadata": {},
     "output_type": "execute_result"
    }
   ],
   "source": [
    "list2=list1\n",
    "list2"
   ]
  },
  {
   "cell_type": "code",
   "execution_count": 3,
   "id": "a5131eb2-7af2-4483-bc1b-18df7baff047",
   "metadata": {},
   "outputs": [
    {
     "name": "stdout",
     "output_type": "stream",
     "text": [
      "[2, 3]\n",
      "[1, 2, 3]\n"
     ]
    }
   ],
   "source": [
    "list1=[2,3]\n",
    "print(list1)\n",
    "print(list2)"
   ]
  },
  {
   "cell_type": "code",
   "execution_count": 4,
   "id": "81db5491-64de-4683-8b5b-399465127dcf",
   "metadata": {},
   "outputs": [
    {
     "data": {
      "text/plain": [
       "[2, 3]"
      ]
     },
     "execution_count": 4,
     "metadata": {},
     "output_type": "execute_result"
    }
   ],
   "source": [
    "list3=list1.copy()\n",
    "list3"
   ]
  },
  {
   "cell_type": "code",
   "execution_count": 5,
   "id": "5f7bf658-2ba0-4af3-b765-403e42473ee5",
   "metadata": {},
   "outputs": [
    {
     "data": {
      "text/plain": [
       "[4, 56]"
      ]
     },
     "execution_count": 5,
     "metadata": {},
     "output_type": "execute_result"
    }
   ],
   "source": [
    "list1=[4,56]\n",
    "list1"
   ]
  },
  {
   "cell_type": "code",
   "execution_count": 6,
   "id": "6e0bdd39-53ad-46ff-87bc-7cd11ac52f48",
   "metadata": {},
   "outputs": [
    {
     "data": {
      "text/plain": [
       "[2, 3]"
      ]
     },
     "execution_count": 6,
     "metadata": {},
     "output_type": "execute_result"
    }
   ],
   "source": [
    "list3"
   ]
  },
  {
   "cell_type": "code",
   "execution_count": null,
   "id": "66432d94-005c-406e-a4e6-0740a4a0844f",
   "metadata": {},
   "outputs": [],
   "source": []
  },
  {
   "cell_type": "code",
   "execution_count": 33,
   "id": "ae8f9511-0575-4a1b-a0dd-7e8b53668a9d",
   "metadata": {},
   "outputs": [
    {
     "name": "stdout",
     "output_type": "stream",
     "text": [
      "8\n"
     ]
    }
   ],
   "source": [
    "prev_xor=0\n",
    "list=[2,3,3]\n",
    "res=0\n",
    "for i in list:\n",
    "    if(prev_xor!=0 or not (prev_xor==xor)  ):\n",
    "        res+=i\n",
    "        \n",
    "        \n",
    "    prev_xor=xor\n",
    "    \n",
    "    xor=xor^i\n",
    "    \n",
    "    \n",
    "print(res)"
   ]
  },
  {
   "cell_type": "code",
   "execution_count": 43,
   "id": "4fc7ac5e-83c6-43b8-8dfc-1ef1f3a97980",
   "metadata": {},
   "outputs": [
    {
     "name": "stdout",
     "output_type": "stream",
     "text": [
      "3\n"
     ]
    }
   ],
   "source": [
    "list=[1,2,3]\n",
    "list.sort()\n",
    "res=0\n",
    "for i in range(0,len(list)-1):\n",
    "    if(list[i]!=list[i+1]):\n",
    "        res+=list[i]\n",
    "print(res+)\n",
    "    "
   ]
  },
  {
   "cell_type": "code",
   "execution_count": 59,
   "id": "4c1976f3-2a68-4660-979d-e11632f477e4",
   "metadata": {},
   "outputs": [
    {
     "name": "stdout",
     "output_type": "stream",
     "text": [
      "1\n",
      "3\n",
      "1\n",
      "4\n",
      "4\n"
     ]
    },
    {
     "data": {
      "text/plain": [
       "[1, 3, 1, 4]"
      ]
     },
     "execution_count": 59,
     "metadata": {},
     "output_type": "execute_result"
    }
   ],
   "source": [
    "list=[1,2,2,5]\n",
    "ans=[]\n",
    "xor=0\n",
    "\n",
    "for i in list:\n",
    "    xor=xor^i\n",
    "    print(xor)\n",
    "    ans.append(xor)\n",
    "print(xor)\n",
    "ans\n",
    "\n",
    "    "
   ]
  },
  {
   "cell_type": "code",
   "execution_count": 79,
   "id": "388565b5-74e3-4dac-b0c5-5bfa09b66cdb",
   "metadata": {},
   "outputs": [
    {
     "name": "stdout",
     "output_type": "stream",
     "text": [
      "1\n"
     ]
    }
   ],
   "source": [
    "list=[1,2,2]\n",
    "dict={}\n",
    "res=0\n",
    "for i in list:\n",
    "    \n",
    "    if i in dict:\n",
    "        dict[i]+=1\n",
    "    else:\n",
    "        dict[i]=1\n",
    "for key,value in dict.items():\n",
    "    if value==1:\n",
    "        res+=key\n",
    "print(res)"
   ]
  },
  {
   "cell_type": "code",
   "execution_count": 80,
   "id": "8b0691b6-4389-4755-bdc0-8686d26758af",
   "metadata": {},
   "outputs": [
    {
     "name": "stdin",
     "output_type": "stream",
     "text": [
      "enter string : sanjana\n"
     ]
    },
    {
     "name": "stdout",
     "output_type": "stream",
     "text": [
      "{'s': 1, 'a': 3, 'n': 2, 'j': 1}\n"
     ]
    }
   ],
   "source": [
    "#1\n",
    "s=input(\"enter string :\")\n",
    "dict={}\n",
    "for c in s:\n",
    "    if c in dict:\n",
    "        dict[c]+=1\n",
    "    else:\n",
    "        dict[c]=1\n",
    "print(dict)\n",
    "    "
   ]
  },
  {
   "cell_type": "code",
   "execution_count": 78,
   "id": "efe109f3-b9c5-4037-98a9-46603a46d506",
   "metadata": {},
   "outputs": [
    {
     "name": "stdout",
     "output_type": "stream",
     "text": [
      "1\n",
      "2\n",
      "fizz\n",
      "4\n",
      "buzz\n",
      "fizz\n",
      "7\n",
      "8\n",
      "fizz\n",
      "buzz\n",
      "11\n",
      "fizz\n",
      "13\n",
      "14\n",
      "fizzbuzz\n",
      "16\n",
      "17\n",
      "fizz\n",
      "19\n",
      "buzz\n",
      "fizz\n",
      "22\n",
      "23\n",
      "fizz\n",
      "buzz\n",
      "26\n",
      "fizz\n",
      "28\n",
      "29\n",
      "fizzbuzz\n",
      "31\n",
      "32\n",
      "fizz\n",
      "34\n",
      "buzz\n",
      "fizz\n",
      "37\n",
      "38\n",
      "fizz\n",
      "buzz\n",
      "41\n",
      "fizz\n",
      "43\n",
      "44\n",
      "fizzbuzz\n",
      "46\n",
      "47\n",
      "fizz\n",
      "49\n",
      "buzz\n",
      "fizz\n",
      "52\n",
      "53\n",
      "fizz\n",
      "buzz\n",
      "56\n",
      "fizz\n",
      "58\n",
      "59\n",
      "fizzbuzz\n",
      "61\n",
      "62\n",
      "fizz\n",
      "64\n",
      "buzz\n",
      "fizz\n",
      "67\n",
      "68\n",
      "fizz\n",
      "buzz\n",
      "71\n",
      "fizz\n",
      "73\n",
      "74\n",
      "fizzbuzz\n",
      "76\n",
      "77\n",
      "fizz\n",
      "79\n",
      "buzz\n",
      "fizz\n",
      "82\n",
      "83\n",
      "fizz\n",
      "buzz\n",
      "86\n",
      "fizz\n",
      "88\n",
      "89\n",
      "fizzbuzz\n",
      "91\n",
      "92\n",
      "fizz\n",
      "94\n",
      "buzz\n",
      "fizz\n",
      "97\n",
      "98\n",
      "fizz\n",
      "buzz\n"
     ]
    }
   ],
   "source": [
    "#2\n",
    "for i in range (1,101):\n",
    "    if(i%3==0 and i%5==0):\n",
    "        print(\"fizzbuzz\")\n",
    "    elif(i%5==0):\n",
    "        print(\"buzz\")\n",
    "    elif(i%3==0):\n",
    "        print(\"fizz\")\n",
    "    else:\n",
    "        print(i)"
   ]
  },
  {
   "cell_type": "code",
   "execution_count": 117,
   "id": "058d9d72-dcf0-4e8e-825f-9b0d6b515be6",
   "metadata": {},
   "outputs": [
    {
     "name": "stdout",
     "output_type": "stream",
     "text": [
      "invalid  uMB6z4Ur%3njFXSj\n"
     ]
    }
   ],
   "source": [
    "#3\n",
    "import random as rand\n",
    "import string\n",
    "def valid(password):\n",
    "    \n",
    "    has_len=8<len(password)<16\n",
    "    has_alpha=any(char.isalpha() for char in password)\n",
    "    has_digit=any(char.isnumeric() for char in password)\n",
    "    has_special=any(char in \"#$%^&\" for char in password)\n",
    "\n",
    "leng=rand.randint(9,16)\n",
    "characters=string.ascii_letters+string.digits+'@#$%^&*'\n",
    "password=''.join(rand.choices(characters,k=leng))\n",
    "if(valid(password)):\n",
    "    print('valid ',password)\n",
    "else:\n",
    "    print('invalid ',password)\n"
   ]
  },
  {
   "cell_type": "code",
   "execution_count": 108,
   "id": "375bfbee-c1bb-4ac5-a8de-9c742abfcd42",
   "metadata": {},
   "outputs": [
    {
     "name": "stdout",
     "output_type": "stream",
     "text": [
      "enter \n",
      "1.rock\n",
      "2.paper\n",
      "3.scissor\n",
      "4.exit\n"
     ]
    },
    {
     "name": "stdin",
     "output_type": "stream",
     "text": [
      "enter choice  1\n"
     ]
    },
    {
     "name": "stdout",
     "output_type": "stream",
     "text": [
      "you lost....\n"
     ]
    },
    {
     "name": "stdin",
     "output_type": "stream",
     "text": [
      "enter choice  2\n"
     ]
    },
    {
     "name": "stdout",
     "output_type": "stream",
     "text": [
      "you lost.....\n"
     ]
    },
    {
     "name": "stdin",
     "output_type": "stream",
     "text": [
      "enter choice  3\n"
     ]
    },
    {
     "name": "stdout",
     "output_type": "stream",
     "text": [
      "its Tie......Try again\n"
     ]
    },
    {
     "name": "stdin",
     "output_type": "stream",
     "text": [
      "enter choice  4\n"
     ]
    },
    {
     "name": "stdout",
     "output_type": "stream",
     "text": [
      "ending..................\n"
     ]
    }
   ],
   "source": [
    "## flag=True\n",
    "print(\"enter \")\n",
    "print(\"1.rock\")\n",
    "print(\"2.paper\")\n",
    "print(\"3.scissor\")\n",
    "print(\"4.exit\")\n",
    "while(flag):\n",
    "    \n",
    "    comp=rand.randint(1,3)\n",
    "    user=int(input(\"enter choice \"))\n",
    "    if(comp==user):\n",
    "        print(\"its Tie......Try again\")\n",
    "    elif(comp==1 and user==2):\n",
    "        print(\"You Won.......\")\n",
    "    elif(comp==1 and user==3):\n",
    "        print(\"you lost..........\")\n",
    "    elif(comp==2 and user==1):\n",
    "        print(\"you lost....\")\n",
    "    elif(comp==2 and user==3):\n",
    "        print(\"you won......\")\n",
    "    elif(comp==3 and comp==1):\n",
    "        print(\"you won........\")\n",
    "    elif(comp==3 and user==2):\n",
    "        print(\"you lost.....\")\n",
    "    elif(user==4):\n",
    "        print(\"ending..................\")\n",
    "        break"
   ]
  },
  {
   "cell_type": "code",
   "execution_count": null,
   "id": "96d80a27-01b7-43c6-9246-71cca3d04285",
   "metadata": {},
   "outputs": [],
   "source": []
  },
  {
   "cell_type": "code",
   "execution_count": null,
   "id": "8333226e-bb2f-4ed0-af1b-a46228478455",
   "metadata": {},
   "outputs": [],
   "source": []
  },
  {
   "cell_type": "code",
   "execution_count": null,
   "id": "2aa70018-45a0-4a14-82dc-77077cd490c9",
   "metadata": {},
   "outputs": [],
   "source": []
  },
  {
   "cell_type": "code",
   "execution_count": null,
   "id": "e25e9e82-d8c0-4fa1-9b57-1ab2fa007faf",
   "metadata": {},
   "outputs": [],
   "source": []
  },
  {
   "cell_type": "code",
   "execution_count": null,
   "id": "b48ceae3-9b7a-42cc-a1e6-6fe75f8d0bc2",
   "metadata": {},
   "outputs": [],
   "source": []
  },
  {
   "cell_type": "code",
   "execution_count": null,
   "id": "0fe47788-b760-4810-8d15-eb3a3fb89d08",
   "metadata": {},
   "outputs": [],
   "source": []
  },
  {
   "cell_type": "code",
   "execution_count": null,
   "id": "b20c1a5a-b9f7-477d-8c2c-2d7276a081ef",
   "metadata": {},
   "outputs": [],
   "source": []
  },
  {
   "cell_type": "code",
   "execution_count": null,
   "id": "d8f604f5-96a1-4f26-aeca-729e667e50d3",
   "metadata": {},
   "outputs": [],
   "source": []
  },
  {
   "cell_type": "code",
   "execution_count": null,
   "id": "6943dcfa-0ec5-4a93-80b6-02d1f7239169",
   "metadata": {},
   "outputs": [],
   "source": []
  },
  {
   "cell_type": "code",
   "execution_count": null,
   "id": "ec1ecd11-9ee3-4975-bf19-a10596666b5e",
   "metadata": {},
   "outputs": [],
   "source": []
  },
  {
   "cell_type": "code",
   "execution_count": null,
   "id": "54247228-9b28-45e4-bf30-b17b774f5d6e",
   "metadata": {},
   "outputs": [],
   "source": []
  },
  {
   "cell_type": "code",
   "execution_count": null,
   "id": "b0dbe261-3098-49b6-ab03-b505612cd661",
   "metadata": {},
   "outputs": [],
   "source": []
  },
  {
   "cell_type": "code",
   "execution_count": null,
   "id": "cd35edd6-8684-4ae0-83e6-ea9510650530",
   "metadata": {},
   "outputs": [],
   "source": []
  },
  {
   "cell_type": "code",
   "execution_count": null,
   "id": "13245831-488d-44f6-85b1-804e24eb1dcf",
   "metadata": {},
   "outputs": [],
   "source": []
  },
  {
   "cell_type": "code",
   "execution_count": null,
   "id": "1eaa8449-2559-4ed1-8dc7-e618e51f191a",
   "metadata": {},
   "outputs": [],
   "source": []
  },
  {
   "cell_type": "code",
   "execution_count": null,
   "id": "af3a7f24-17ec-49a3-a4b9-658ab93a121d",
   "metadata": {},
   "outputs": [],
   "source": []
  },
  {
   "cell_type": "code",
   "execution_count": null,
   "id": "6b6cd3d7-d85a-4bc6-bd31-c0373d0af16b",
   "metadata": {},
   "outputs": [],
   "source": []
  },
  {
   "cell_type": "code",
   "execution_count": null,
   "id": "4437632e-4d4e-4247-91d5-2ed360d1ac6a",
   "metadata": {},
   "outputs": [],
   "source": []
  },
  {
   "cell_type": "code",
   "execution_count": null,
   "id": "ef84f98e-1076-4a23-ba17-dfcea2ea3d3b",
   "metadata": {},
   "outputs": [],
   "source": []
  },
  {
   "cell_type": "code",
   "execution_count": null,
   "id": "ce32a60c-9ba9-40ed-b432-d1ebefd641b5",
   "metadata": {},
   "outputs": [],
   "source": []
  },
  {
   "cell_type": "code",
   "execution_count": null,
   "id": "d450af13-d7e7-4faa-bab3-2def7c1e78f3",
   "metadata": {},
   "outputs": [],
   "source": []
  },
  {
   "cell_type": "code",
   "execution_count": null,
   "id": "6a2f74f3-7db5-4213-ad2d-cdc8332e6722",
   "metadata": {},
   "outputs": [],
   "source": []
  },
  {
   "cell_type": "code",
   "execution_count": null,
   "id": "c3d96e79-3df0-4899-9223-7fa19bed5eb4",
   "metadata": {},
   "outputs": [],
   "source": []
  },
  {
   "cell_type": "code",
   "execution_count": null,
   "id": "699495fb-2bf6-43c3-af29-b8c2848bafb6",
   "metadata": {},
   "outputs": [],
   "source": []
  },
  {
   "cell_type": "code",
   "execution_count": null,
   "id": "c9630dd5-7d50-41fb-b2c1-c05cfa0a9e23",
   "metadata": {},
   "outputs": [],
   "source": []
  },
  {
   "cell_type": "code",
   "execution_count": null,
   "id": "237cbf8b-2199-4d3e-92c7-8f9fc0a23243",
   "metadata": {},
   "outputs": [],
   "source": []
  },
  {
   "cell_type": "code",
   "execution_count": null,
   "id": "20bbb8d4-c331-4469-8f9b-fecc7f2cff6a",
   "metadata": {},
   "outputs": [],
   "source": []
  },
  {
   "cell_type": "code",
   "execution_count": null,
   "id": "d7d04237-4664-47a5-b474-3dc1228699ec",
   "metadata": {},
   "outputs": [],
   "source": []
  },
  {
   "cell_type": "code",
   "execution_count": null,
   "id": "6c65ef4e-4352-43fa-aca8-845ecaa1c25a",
   "metadata": {},
   "outputs": [],
   "source": []
  },
  {
   "cell_type": "code",
   "execution_count": null,
   "id": "5fd88bbd-4c40-476f-9e5e-21c6de236f99",
   "metadata": {},
   "outputs": [],
   "source": []
  },
  {
   "cell_type": "code",
   "execution_count": null,
   "id": "b6f36a1d-e8ba-4bc9-990d-6ee5953bd15d",
   "metadata": {},
   "outputs": [],
   "source": []
  },
  {
   "cell_type": "code",
   "execution_count": null,
   "id": "596e2da1-2b3d-43af-9b7a-3f17e7938f14",
   "metadata": {},
   "outputs": [],
   "source": []
  },
  {
   "cell_type": "code",
   "execution_count": null,
   "id": "cd19ae10-c52f-4527-8219-d267d33ca404",
   "metadata": {},
   "outputs": [],
   "source": []
  },
  {
   "cell_type": "code",
   "execution_count": null,
   "id": "0cf69640-b0f9-468a-941d-41f8ba456d8a",
   "metadata": {},
   "outputs": [],
   "source": []
  },
  {
   "cell_type": "code",
   "execution_count": null,
   "id": "823259c6-6446-4522-a3f5-c628c09047eb",
   "metadata": {},
   "outputs": [],
   "source": []
  },
  {
   "cell_type": "code",
   "execution_count": null,
   "id": "0d10262d-e516-4b3a-ba36-fb1d63f6237c",
   "metadata": {},
   "outputs": [],
   "source": []
  },
  {
   "cell_type": "code",
   "execution_count": null,
   "id": "20786b8b-f32f-40af-831f-64f7bc11b417",
   "metadata": {},
   "outputs": [],
   "source": []
  },
  {
   "cell_type": "code",
   "execution_count": null,
   "id": "9d71199c-c45f-4804-a701-81bf63c8a196",
   "metadata": {},
   "outputs": [],
   "source": []
  },
  {
   "cell_type": "code",
   "execution_count": null,
   "id": "f1dbe335-ce12-4bc1-a8ed-ded2497cc8ad",
   "metadata": {},
   "outputs": [],
   "source": []
  },
  {
   "cell_type": "code",
   "execution_count": null,
   "id": "7515f4b7-0ca2-4b0d-858e-95df10b2c74c",
   "metadata": {},
   "outputs": [],
   "source": []
  },
  {
   "cell_type": "code",
   "execution_count": null,
   "id": "24ab2281-5001-49a3-b2ea-01d847221d60",
   "metadata": {},
   "outputs": [],
   "source": []
  },
  {
   "cell_type": "code",
   "execution_count": null,
   "id": "b7893c99-72fc-4759-824f-2fff97d31bd4",
   "metadata": {},
   "outputs": [],
   "source": []
  },
  {
   "cell_type": "code",
   "execution_count": null,
   "id": "f37eb5dd-3513-4560-9714-9e042914e551",
   "metadata": {},
   "outputs": [],
   "source": []
  },
  {
   "cell_type": "code",
   "execution_count": null,
   "id": "f687d730-f244-4521-8045-b52c54c9128a",
   "metadata": {},
   "outputs": [],
   "source": []
  },
  {
   "cell_type": "code",
   "execution_count": null,
   "id": "97c4dc7e-acae-4a5b-869a-7ecdc6be99af",
   "metadata": {},
   "outputs": [],
   "source": []
  },
  {
   "cell_type": "code",
   "execution_count": null,
   "id": "c158ab57-1d47-48ab-a491-7b6540ebdebb",
   "metadata": {},
   "outputs": [],
   "source": []
  },
  {
   "cell_type": "code",
   "execution_count": null,
   "id": "b309c607-92d5-453a-9ec3-0539b16db103",
   "metadata": {},
   "outputs": [],
   "source": []
  },
  {
   "cell_type": "code",
   "execution_count": null,
   "id": "8d6da01f-21df-437d-aceb-486219ceddc8",
   "metadata": {},
   "outputs": [],
   "source": []
  },
  {
   "cell_type": "code",
   "execution_count": null,
   "id": "f1b3ebd4-9ab4-44ce-b05e-b5d5d9053a61",
   "metadata": {},
   "outputs": [],
   "source": []
  },
  {
   "cell_type": "code",
   "execution_count": null,
   "id": "d4f3df53-68d8-4719-8e62-b789cbc70a5a",
   "metadata": {},
   "outputs": [],
   "source": []
  },
  {
   "cell_type": "code",
   "execution_count": null,
   "id": "37f7a36e-3885-4c90-b082-be50e84ce4fb",
   "metadata": {},
   "outputs": [],
   "source": []
  },
  {
   "cell_type": "code",
   "execution_count": null,
   "id": "381f2b0f-8962-44c0-8466-5571dc83cec6",
   "metadata": {},
   "outputs": [],
   "source": []
  },
  {
   "cell_type": "code",
   "execution_count": null,
   "id": "f0322967-031e-4b90-ad35-29d373dff1c2",
   "metadata": {},
   "outputs": [],
   "source": []
  },
  {
   "cell_type": "code",
   "execution_count": null,
   "id": "8b4b5cab-4415-43bd-9c7e-f4ddbaa87953",
   "metadata": {},
   "outputs": [],
   "source": []
  },
  {
   "cell_type": "code",
   "execution_count": null,
   "id": "8f84640a-427a-403a-95b4-caaa714bf020",
   "metadata": {},
   "outputs": [],
   "source": []
  },
  {
   "cell_type": "code",
   "execution_count": null,
   "id": "e80f89a7-24d8-4fbb-a993-3e97bf6a45c8",
   "metadata": {},
   "outputs": [],
   "source": []
  },
  {
   "cell_type": "code",
   "execution_count": null,
   "id": "b8cca229-1b6f-4ce6-a1a4-c3034ecdf4db",
   "metadata": {},
   "outputs": [],
   "source": []
  },
  {
   "cell_type": "code",
   "execution_count": null,
   "id": "7b7e3161-e878-4f68-80c0-f5aadd56cd83",
   "metadata": {},
   "outputs": [],
   "source": []
  },
  {
   "cell_type": "code",
   "execution_count": null,
   "id": "0fb54702-c0f5-4834-a733-3685da13eb8f",
   "metadata": {},
   "outputs": [],
   "source": []
  },
  {
   "cell_type": "code",
   "execution_count": null,
   "id": "1d9ad7a1-a8c4-48a7-a603-c6a5c333ab55",
   "metadata": {},
   "outputs": [],
   "source": []
  },
  {
   "cell_type": "code",
   "execution_count": null,
   "id": "c0b7af35-a0f2-4308-a6f8-265301713610",
   "metadata": {},
   "outputs": [],
   "source": []
  },
  {
   "cell_type": "code",
   "execution_count": null,
   "id": "d068aec4-10b7-4fe4-8b3f-46a5e6949633",
   "metadata": {},
   "outputs": [],
   "source": []
  },
  {
   "cell_type": "code",
   "execution_count": null,
   "id": "a8ac5939-e675-4f50-b3f2-e82e6f704125",
   "metadata": {},
   "outputs": [],
   "source": []
  },
  {
   "cell_type": "code",
   "execution_count": null,
   "id": "31dd4724-2775-4f10-94a2-863bd90079fe",
   "metadata": {},
   "outputs": [],
   "source": []
  },
  {
   "cell_type": "code",
   "execution_count": null,
   "id": "9393e9d9-456c-42ce-b6a4-2fd31e5ba5b3",
   "metadata": {},
   "outputs": [],
   "source": []
  },
  {
   "cell_type": "code",
   "execution_count": null,
   "id": "11f7c87e-4ee1-45cc-bf43-fba523ae137c",
   "metadata": {},
   "outputs": [],
   "source": []
  },
  {
   "cell_type": "code",
   "execution_count": null,
   "id": "6fb37470-dbc0-484e-95ca-d265beb8ff0f",
   "metadata": {},
   "outputs": [],
   "source": []
  },
  {
   "cell_type": "code",
   "execution_count": null,
   "id": "e0b04ca1-a744-4305-92ca-ccd2ab78de49",
   "metadata": {},
   "outputs": [],
   "source": []
  },
  {
   "cell_type": "code",
   "execution_count": null,
   "id": "3b273bfb-c152-407f-a615-cdb081f4716b",
   "metadata": {},
   "outputs": [],
   "source": []
  },
  {
   "cell_type": "code",
   "execution_count": null,
   "id": "e39eab58-d721-44c1-a905-d0f4b29fbba9",
   "metadata": {},
   "outputs": [],
   "source": []
  },
  {
   "cell_type": "code",
   "execution_count": null,
   "id": "9c20ca43-b53e-435c-8830-a47b393b600d",
   "metadata": {},
   "outputs": [],
   "source": []
  },
  {
   "cell_type": "code",
   "execution_count": null,
   "id": "7947e996-14ba-4671-bda7-eb76c6badf80",
   "metadata": {},
   "outputs": [],
   "source": []
  },
  {
   "cell_type": "code",
   "execution_count": null,
   "id": "291cf2a3-8a76-4583-bb00-76dd8bb4eae9",
   "metadata": {},
   "outputs": [],
   "source": []
  },
  {
   "cell_type": "code",
   "execution_count": null,
   "id": "ec9db30a-a69e-4d60-a459-155996a042b6",
   "metadata": {},
   "outputs": [],
   "source": []
  },
  {
   "cell_type": "code",
   "execution_count": null,
   "id": "52f4e923-ccab-41ed-9564-bc67a5ba699c",
   "metadata": {},
   "outputs": [],
   "source": []
  },
  {
   "cell_type": "code",
   "execution_count": null,
   "id": "da0886a9-c7f1-4ac1-8f6c-e91229599763",
   "metadata": {},
   "outputs": [],
   "source": []
  },
  {
   "cell_type": "code",
   "execution_count": null,
   "id": "49b5b2d0-6472-4ed4-8657-dcc19b362d63",
   "metadata": {},
   "outputs": [],
   "source": []
  },
  {
   "cell_type": "code",
   "execution_count": null,
   "id": "c6f674e4-0463-413c-a52b-470995aaaaef",
   "metadata": {},
   "outputs": [],
   "source": []
  },
  {
   "cell_type": "code",
   "execution_count": null,
   "id": "e5652500-5c85-430a-973e-1d44a670a491",
   "metadata": {},
   "outputs": [],
   "source": []
  },
  {
   "cell_type": "code",
   "execution_count": null,
   "id": "3ebdddb9-e85a-4ae5-84c5-9779307263c9",
   "metadata": {},
   "outputs": [],
   "source": []
  },
  {
   "cell_type": "code",
   "execution_count": null,
   "id": "cc704265-12fe-4995-b896-09d7ed61af0b",
   "metadata": {},
   "outputs": [],
   "source": []
  },
  {
   "cell_type": "code",
   "execution_count": null,
   "id": "6d428636-3acf-4085-be42-795b96667407",
   "metadata": {},
   "outputs": [],
   "source": []
  },
  {
   "cell_type": "code",
   "execution_count": null,
   "id": "f1dce717-deaa-47e5-84f7-a9d94cdf67bf",
   "metadata": {},
   "outputs": [],
   "source": []
  },
  {
   "cell_type": "code",
   "execution_count": null,
   "id": "369da821-a1f0-4b11-ab0c-5f8fd048b0bf",
   "metadata": {},
   "outputs": [],
   "source": []
  },
  {
   "cell_type": "code",
   "execution_count": null,
   "id": "7a0216a9-db92-4a7b-8e3e-086744e24efd",
   "metadata": {},
   "outputs": [],
   "source": []
  },
  {
   "cell_type": "code",
   "execution_count": null,
   "id": "0888bd9a-04dc-4b82-a5f2-f926df5afaff",
   "metadata": {},
   "outputs": [],
   "source": []
  },
  {
   "cell_type": "code",
   "execution_count": null,
   "id": "707bc605-a552-4adf-826a-31ea6819dd83",
   "metadata": {},
   "outputs": [],
   "source": []
  },
  {
   "cell_type": "code",
   "execution_count": null,
   "id": "5d59607b-c4a1-401c-a218-018303a08936",
   "metadata": {},
   "outputs": [],
   "source": []
  },
  {
   "cell_type": "code",
   "execution_count": null,
   "id": "f6500e13-7226-4276-8687-1dfd9ab4dd5c",
   "metadata": {},
   "outputs": [],
   "source": []
  },
  {
   "cell_type": "code",
   "execution_count": null,
   "id": "c4a1b1b7-d786-4e3c-8e2b-a146ba5012be",
   "metadata": {},
   "outputs": [],
   "source": []
  },
  {
   "cell_type": "code",
   "execution_count": null,
   "id": "6cc0dca9-8699-48d4-9c63-14e5894201ce",
   "metadata": {},
   "outputs": [],
   "source": []
  },
  {
   "cell_type": "code",
   "execution_count": null,
   "id": "497cf80c-a2c5-48eb-b044-e5039e9d6b9c",
   "metadata": {},
   "outputs": [],
   "source": []
  },
  {
   "cell_type": "code",
   "execution_count": null,
   "id": "b20bf470-e992-4bcc-bfe3-628cb852cda7",
   "metadata": {},
   "outputs": [],
   "source": []
  },
  {
   "cell_type": "code",
   "execution_count": null,
   "id": "7276dd0a-17b3-4c67-ac9a-e14ee82b4053",
   "metadata": {},
   "outputs": [],
   "source": []
  },
  {
   "cell_type": "code",
   "execution_count": 8,
   "id": "736bfa5a-aa5b-4a8f-883f-7809b3f24e55",
   "metadata": {},
   "outputs": [
    {
     "ename": "TypeError",
     "evalue": "'set' object is not callable",
     "output_type": "error",
     "traceback": [
      "\u001b[1;31m---------------------------------------------------------------------------\u001b[0m",
      "\u001b[1;31mTypeError\u001b[0m                                 Traceback (most recent call last)",
      "Cell \u001b[1;32mIn[8], line 2\u001b[0m\n\u001b[0;32m      1\u001b[0m \u001b[38;5;28mlist\u001b[39m\u001b[38;5;241m=\u001b[39m[\u001b[38;5;241m1\u001b[39m,\u001b[38;5;241m2\u001b[39m,\u001b[38;5;241m3\u001b[39m,\u001b[38;5;241m3\u001b[39m]\n\u001b[1;32m----> 2\u001b[0m \u001b[38;5;28mset\u001b[39m\u001b[38;5;241m=\u001b[39m\u001b[38;5;28mset\u001b[39m(\u001b[38;5;28mlist\u001b[39m)\n\u001b[0;32m      3\u001b[0m res\u001b[38;5;241m=\u001b[39m\u001b[38;5;241m0\u001b[39m\n\u001b[0;32m      4\u001b[0m \u001b[38;5;28;01mfor\u001b[39;00m i \u001b[38;5;129;01min\u001b[39;00m \u001b[38;5;28mset\u001b[39m:\n",
      "\u001b[1;31mTypeError\u001b[0m: 'set' object is not callable"
     ]
    }
   ],
   "source": [
    "list=[1,2,3,3]\n",
    "set=set(list)\n",
    "res=0\n",
    "for i in (0,len(set)):\n",
    "    res+=i\n",
    "print(res)"
   ]
  },
  {
   "cell_type": "code",
   "execution_count": null,
   "id": "b0319bfd-c327-40ba-9e5f-d268ce0da1a6",
   "metadata": {},
   "outputs": [],
   "source": []
  },
  {
   "cell_type": "code",
   "execution_count": null,
   "id": "4ce36833-9bf4-4128-943a-bea402ac484e",
   "metadata": {},
   "outputs": [],
   "source": []
  },
  {
   "cell_type": "code",
   "execution_count": null,
   "id": "69b0d7f1-813d-4245-b7b4-9f56b936bfbb",
   "metadata": {},
   "outputs": [],
   "source": []
  },
  {
   "cell_type": "code",
   "execution_count": null,
   "id": "0ce164d9-6c19-46a4-819e-c3f9b1ea6082",
   "metadata": {},
   "outputs": [],
   "source": []
  },
  {
   "cell_type": "code",
   "execution_count": null,
   "id": "7143aa5a-d3f3-4fd7-bbf9-5e45f3e3d2b2",
   "metadata": {},
   "outputs": [],
   "source": []
  },
  {
   "cell_type": "code",
   "execution_count": null,
   "id": "f38dcd43-d87b-41c6-b2bc-7db0e2a3c2d7",
   "metadata": {},
   "outputs": [],
   "source": [
    "list=[2,3,4,5]"
   ]
  },
  {
   "cell_type": "code",
   "execution_count": null,
   "id": "f5d55d63-2083-4465-b33c-f64ee7822069",
   "metadata": {},
   "outputs": [],
   "source": []
  },
  {
   "cell_type": "code",
   "execution_count": null,
   "id": "285e54dc-b506-4a4c-98ef-4b0f5dde21c0",
   "metadata": {},
   "outputs": [],
   "source": []
  },
  {
   "cell_type": "code",
   "execution_count": null,
   "id": "2de6b5cc-1927-4d7e-9428-928bb47ccda6",
   "metadata": {},
   "outputs": [],
   "source": []
  },
  {
   "cell_type": "code",
   "execution_count": null,
   "id": "519a2b7c-394f-4c10-863c-0610afce1abb",
   "metadata": {},
   "outputs": [],
   "source": []
  },
  {
   "cell_type": "code",
   "execution_count": null,
   "id": "a76e1be5-ff56-4552-aadb-9d77e344d260",
   "metadata": {},
   "outputs": [],
   "source": []
  },
  {
   "cell_type": "code",
   "execution_count": null,
   "id": "58a5e468-12cf-40ae-9b7e-26a68a931891",
   "metadata": {},
   "outputs": [],
   "source": []
  },
  {
   "cell_type": "code",
   "execution_count": null,
   "id": "d87d39cd-b829-461f-ab70-ef4ed5ae522f",
   "metadata": {},
   "outputs": [],
   "source": []
  },
  {
   "cell_type": "code",
   "execution_count": null,
   "id": "9298f04f-7be0-492f-b451-77d9aa06ae40",
   "metadata": {},
   "outputs": [],
   "source": []
  },
  {
   "cell_type": "code",
   "execution_count": null,
   "id": "42073530-fe13-4347-86c3-673a44720ee8",
   "metadata": {},
   "outputs": [],
   "source": []
  },
  {
   "cell_type": "code",
   "execution_count": null,
   "id": "242df18f-7252-47f8-a4fa-8ab2f9f35089",
   "metadata": {},
   "outputs": [],
   "source": []
  },
  {
   "cell_type": "code",
   "execution_count": null,
   "id": "c02237c2-598e-4bae-8729-e0563a25838d",
   "metadata": {},
   "outputs": [],
   "source": []
  },
  {
   "cell_type": "code",
   "execution_count": null,
   "id": "28293393-f27b-45e4-87cb-01280ec21b98",
   "metadata": {},
   "outputs": [],
   "source": []
  },
  {
   "cell_type": "code",
   "execution_count": null,
   "id": "3e4f4dfc-b1da-469e-bd91-644dc34f5f03",
   "metadata": {},
   "outputs": [],
   "source": []
  },
  {
   "cell_type": "code",
   "execution_count": null,
   "id": "16271959-7511-45ec-be94-db9e33eaa875",
   "metadata": {},
   "outputs": [],
   "source": []
  },
  {
   "cell_type": "code",
   "execution_count": null,
   "id": "e47b47d6-bdf9-4dfc-84d5-a06fb08b59b1",
   "metadata": {},
   "outputs": [],
   "source": []
  },
  {
   "cell_type": "code",
   "execution_count": null,
   "id": "594b9c7c-62bb-4da9-b4be-f8bd0d1a394b",
   "metadata": {},
   "outputs": [],
   "source": []
  },
  {
   "cell_type": "code",
   "execution_count": null,
   "id": "3a867514-1034-4e1f-8673-c486414f71aa",
   "metadata": {},
   "outputs": [],
   "source": []
  },
  {
   "cell_type": "code",
   "execution_count": 26,
   "id": "1cee685e-b527-4545-befe-eff2dd56194f",
   "metadata": {},
   "outputs": [
    {
     "name": "stdout",
     "output_type": "stream",
     "text": [
      "False\n"
     ]
    }
   ],
   "source": [
    "def special(password):\n",
    "    if(password.split() in ['@','$','&','*','/','|']):\n",
    "        print(password.split())\n",
    "        return True\n",
    "    return False\n",
    "pssword=\"sanjana\"\n",
    "if (\"@\" or \"%\") in pssword:\n",
    "    print(True)\n",
    "print(special(pssword))"
   ]
  },
  {
   "cell_type": "code",
   "execution_count": null,
   "id": "bc2b53c7-50c7-4e3b-a604-a13dd27cf694",
   "metadata": {},
   "outputs": [],
   "source": []
  },
  {
   "cell_type": "code",
   "execution_count": null,
   "id": "bb36fdcf-22b5-4d35-9a0c-1fa17650a5df",
   "metadata": {},
   "outputs": [],
   "source": []
  },
  {
   "cell_type": "code",
   "execution_count": null,
   "id": "b5fcd5fb-b955-4b4d-8da9-867a2c86e8b5",
   "metadata": {},
   "outputs": [],
   "source": []
  },
  {
   "cell_type": "code",
   "execution_count": null,
   "id": "78f83cbd-cdd1-43ba-9326-6c49ed45f448",
   "metadata": {},
   "outputs": [],
   "source": []
  },
  {
   "cell_type": "code",
   "execution_count": null,
   "id": "7841664b-4733-4dda-b9fd-513e8e045072",
   "metadata": {},
   "outputs": [],
   "source": []
  },
  {
   "cell_type": "code",
   "execution_count": null,
   "id": "f01ecda8-4015-4af6-b988-13fe376abf34",
   "metadata": {},
   "outputs": [],
   "source": []
  },
  {
   "cell_type": "code",
   "execution_count": null,
   "id": "1735e6b9-e493-48d3-9365-fe834c6ed198",
   "metadata": {},
   "outputs": [],
   "source": []
  },
  {
   "cell_type": "code",
   "execution_count": null,
   "id": "0db2ea51-972c-4a17-80e0-13e344dc6ea7",
   "metadata": {},
   "outputs": [],
   "source": []
  },
  {
   "cell_type": "code",
   "execution_count": null,
   "id": "73c31635-41b2-4a02-af99-d4e221a64084",
   "metadata": {},
   "outputs": [],
   "source": []
  },
  {
   "cell_type": "code",
   "execution_count": null,
   "id": "83b0c1f8-bb99-4bf1-8c5b-112e5c447198",
   "metadata": {},
   "outputs": [],
   "source": []
  },
  {
   "cell_type": "code",
   "execution_count": null,
   "id": "1f5cd181-7b52-4dd5-a4ee-a15213c8d502",
   "metadata": {},
   "outputs": [],
   "source": []
  },
  {
   "cell_type": "code",
   "execution_count": null,
   "id": "80f90e6a-7f29-4a16-a7e4-2f547f8bb28a",
   "metadata": {},
   "outputs": [],
   "source": []
  },
  {
   "cell_type": "code",
   "execution_count": null,
   "id": "1dc38e42-31a2-46d4-be37-4384e6a9ddff",
   "metadata": {},
   "outputs": [],
   "source": []
  },
  {
   "cell_type": "code",
   "execution_count": null,
   "id": "e6d3317e-ce3b-42f0-a2e3-e1a351a7f61f",
   "metadata": {},
   "outputs": [],
   "source": []
  },
  {
   "cell_type": "code",
   "execution_count": null,
   "id": "72e364f5-ac68-4f7f-96f3-890772d6803a",
   "metadata": {},
   "outputs": [],
   "source": []
  },
  {
   "cell_type": "code",
   "execution_count": null,
   "id": "8f80356f-a652-4810-b19a-d93b6d55edc6",
   "metadata": {},
   "outputs": [],
   "source": []
  },
  {
   "cell_type": "code",
   "execution_count": null,
   "id": "e1e1e1bd-2c3d-4901-bd4d-3d1b9a6f301d",
   "metadata": {},
   "outputs": [],
   "source": []
  },
  {
   "cell_type": "code",
   "execution_count": null,
   "id": "4b19e500-0fa4-4d71-aecb-e78a66069d29",
   "metadata": {},
   "outputs": [],
   "source": []
  },
  {
   "cell_type": "code",
   "execution_count": null,
   "id": "ee12ae26-d5e2-4a0f-a099-777ecbeee758",
   "metadata": {},
   "outputs": [],
   "source": []
  },
  {
   "cell_type": "code",
   "execution_count": null,
   "id": "9e6ed5bb-78ff-4555-aa68-289e9609c567",
   "metadata": {},
   "outputs": [],
   "source": []
  },
  {
   "cell_type": "code",
   "execution_count": null,
   "id": "8a6ebb7f-ed6d-4349-9f3e-7ab154ae6a26",
   "metadata": {},
   "outputs": [],
   "source": []
  },
  {
   "cell_type": "code",
   "execution_count": null,
   "id": "54f083d6-c92c-46db-8f35-ad63bd314873",
   "metadata": {},
   "outputs": [],
   "source": []
  },
  {
   "cell_type": "code",
   "execution_count": null,
   "id": "064d9762-e747-45db-8984-9b8c66efaca3",
   "metadata": {},
   "outputs": [],
   "source": []
  },
  {
   "cell_type": "code",
   "execution_count": null,
   "id": "1483b906-7d6f-4a47-9ae3-22a922d63213",
   "metadata": {},
   "outputs": [],
   "source": []
  },
  {
   "cell_type": "code",
   "execution_count": null,
   "id": "cde059ce-f6a5-4e2f-9a20-e96341fa6073",
   "metadata": {},
   "outputs": [],
   "source": []
  },
  {
   "cell_type": "code",
   "execution_count": null,
   "id": "e281a2f6-cd01-4912-b8ad-1e91c990fa14",
   "metadata": {},
   "outputs": [],
   "source": []
  },
  {
   "cell_type": "code",
   "execution_count": null,
   "id": "65ec173c-f60d-4115-ad5c-8d58e4340890",
   "metadata": {},
   "outputs": [],
   "source": []
  },
  {
   "cell_type": "code",
   "execution_count": null,
   "id": "429a39cd-e322-4c56-9bcf-5e5d731483df",
   "metadata": {},
   "outputs": [],
   "source": []
  },
  {
   "cell_type": "code",
   "execution_count": null,
   "id": "06a656d7-b2b2-48ee-b929-ccc8cb488b46",
   "metadata": {},
   "outputs": [],
   "source": []
  },
  {
   "cell_type": "code",
   "execution_count": null,
   "id": "0d784711-9b0c-4635-abd7-b046f25914bd",
   "metadata": {},
   "outputs": [],
   "source": []
  },
  {
   "cell_type": "code",
   "execution_count": null,
   "id": "b344ab92-db1a-4309-a4a2-6faabd076b71",
   "metadata": {},
   "outputs": [],
   "source": []
  },
  {
   "cell_type": "code",
   "execution_count": null,
   "id": "4221190d-7feb-4f92-aefb-412fd5b47909",
   "metadata": {},
   "outputs": [],
   "source": []
  },
  {
   "cell_type": "code",
   "execution_count": null,
   "id": "8012374c-5242-4295-88df-9e8c9ecebd59",
   "metadata": {},
   "outputs": [],
   "source": []
  }
 ],
 "metadata": {
  "kernelspec": {
   "display_name": "Python 3 (ipykernel)",
   "language": "python",
   "name": "python3"
  },
  "language_info": {
   "codemirror_mode": {
    "name": "ipython",
    "version": 3
   },
   "file_extension": ".py",
   "mimetype": "text/x-python",
   "name": "python",
   "nbconvert_exporter": "python",
   "pygments_lexer": "ipython3",
   "version": "3.12.7"
  }
 },
 "nbformat": 4,
 "nbformat_minor": 5
}
