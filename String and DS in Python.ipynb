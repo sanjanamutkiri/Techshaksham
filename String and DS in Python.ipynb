{
 "cells": [
  {
   "cell_type": "code",
   "execution_count": 1,
   "id": "997d8716-113f-4c79-968c-0cfb84e9d61d",
   "metadata": {},
   "outputs": [
    {
     "data": {
      "text/plain": [
       "'hello world'"
      ]
     },
     "execution_count": 1,
     "metadata": {},
     "output_type": "execute_result"
    }
   ],
   "source": [
    "\"hello world\""
   ]
  },
  {
   "cell_type": "code",
   "execution_count": 2,
   "id": "bb12f65d-a00d-4e1e-a234-5da29cc42d78",
   "metadata": {},
   "outputs": [
    {
     "data": {
      "text/plain": [
       "'hello,welcome to WIT'"
      ]
     },
     "execution_count": 2,
     "metadata": {},
     "output_type": "execute_result"
    }
   ],
   "source": [
    "\"hello,welcome to WIT\""
   ]
  },
  {
   "cell_type": "code",
   "execution_count": 3,
   "id": "b3654dba-ed71-4ef4-be67-faaa75fe9ca1",
   "metadata": {},
   "outputs": [
    {
     "data": {
      "text/plain": [
       "'i am sanjana'"
      ]
     },
     "execution_count": 3,
     "metadata": {},
     "output_type": "execute_result"
    }
   ],
   "source": [
    "'i am sanjana'\n"
   ]
  },
  {
   "cell_type": "code",
   "execution_count": 4,
   "id": "31b3942a-e77e-44bb-a301-b6b07782ecc7",
   "metadata": {},
   "outputs": [
    {
     "name": "stdout",
     "output_type": "stream",
     "text": [
      "sanja\n",
      "mutkiri\n"
     ]
    }
   ],
   "source": [
    "print(\"sanja\")\n",
    "print(\"mutkiri\")"
   ]
  },
  {
   "cell_type": "code",
   "execution_count": 5,
   "id": "72ac72d4-17da-4952-ac99-5e381ce98168",
   "metadata": {},
   "outputs": [
    {
     "data": {
      "text/plain": [
       "'sanjanamutkiri'"
      ]
     },
     "execution_count": 5,
     "metadata": {},
     "output_type": "execute_result"
    }
   ],
   "source": [
    "\"sanjana\"\"mutkiri\""
   ]
  },
  {
   "cell_type": "code",
   "execution_count": 6,
   "id": "0b1ff86e-06eb-46d5-8a8d-47cb47fce26c",
   "metadata": {},
   "outputs": [
    {
     "data": {
      "text/plain": [
       "'mutkiri'"
      ]
     },
     "execution_count": 6,
     "metadata": {},
     "output_type": "execute_result"
    }
   ],
   "source": [
    "\"sanjana\"\n",
    "\"mutkiri\""
   ]
  },
  {
   "cell_type": "code",
   "execution_count": 7,
   "id": "a998b503-50fc-48c9-8578-837352196083",
   "metadata": {},
   "outputs": [
    {
     "name": "stdout",
     "output_type": "stream",
     "text": [
      "sanjana mutliri\n",
      "it give a line space\n"
     ]
    }
   ],
   "source": [
    "print(\"sanjana mutliri\")\n",
    "print(\"it give a line space\")"
   ]
  },
  {
   "cell_type": "code",
   "execution_count": 8,
   "id": "1e46d4b7-d55a-47a6-aa1c-f23a9a254484",
   "metadata": {},
   "outputs": [
    {
     "name": "stdout",
     "output_type": "stream",
     "text": [
      "sanjana \n",
      " mutkiri\n"
     ]
    }
   ],
   "source": [
    "print(\"sanjana \\n mutkiri\")"
   ]
  },
  {
   "cell_type": "code",
   "execution_count": 9,
   "id": "62fc0297-df6f-47b1-bf39-b6557fb3fb35",
   "metadata": {},
   "outputs": [
    {
     "data": {
      "text/plain": [
       "15"
      ]
     },
     "execution_count": 9,
     "metadata": {},
     "output_type": "execute_result"
    }
   ],
   "source": [
    "len(\"sanjana mutkiri\")"
   ]
  },
  {
   "cell_type": "code",
   "execution_count": 10,
   "id": "e8353289-2a9a-4327-823d-d5228144f22a",
   "metadata": {},
   "outputs": [
    {
     "data": {
      "text/plain": [
       "21"
      ]
     },
     "execution_count": 10,
     "metadata": {},
     "output_type": "execute_result"
    }
   ],
   "source": [
    "len(\" sanjana    mutkiri  \")"
   ]
  },
  {
   "cell_type": "code",
   "execution_count": 13,
   "id": "3ab0df02-81e7-47e8-a171-d1d2d586cdb0",
   "metadata": {},
   "outputs": [
    {
     "data": {
      "text/plain": [
       "'hello how are you '"
      ]
     },
     "execution_count": 13,
     "metadata": {},
     "output_type": "execute_result"
    }
   ],
   "source": [
    "str=\"hello how are you \"\n",
    "str"
   ]
  },
  {
   "cell_type": "code",
   "execution_count": 15,
   "id": "8f2a7a69-8365-4e53-a550-49119e72d995",
   "metadata": {},
   "outputs": [
    {
     "data": {
      "text/plain": [
       "18"
      ]
     },
     "execution_count": 15,
     "metadata": {},
     "output_type": "execute_result"
    }
   ],
   "source": [
    "len(str)"
   ]
  },
  {
   "cell_type": "code",
   "execution_count": 16,
   "id": "a75edfc2-ab7a-481c-8057-8d390e394566",
   "metadata": {},
   "outputs": [
    {
     "data": {
      "text/plain": [
       "'h'"
      ]
     },
     "execution_count": 16,
     "metadata": {},
     "output_type": "execute_result"
    }
   ],
   "source": [
    "str[0]"
   ]
  },
  {
   "cell_type": "code",
   "execution_count": 19,
   "id": "0151501f-926a-4f50-8f8e-46d129084219",
   "metadata": {},
   "outputs": [
    {
     "data": {
      "text/plain": [
       "' '"
      ]
     },
     "execution_count": 19,
     "metadata": {},
     "output_type": "execute_result"
    }
   ],
   "source": [
    "str[len(str)-1]\n"
   ]
  },
  {
   "cell_type": "code",
   "execution_count": 20,
   "id": "3d29d321-5038-4137-a1f6-bc94638f57fc",
   "metadata": {},
   "outputs": [
    {
     "data": {
      "text/plain": [
       "'e'"
      ]
     },
     "execution_count": 20,
     "metadata": {},
     "output_type": "execute_result"
    }
   ],
   "source": [
    "str[1]"
   ]
  },
  {
   "cell_type": "code",
   "execution_count": 21,
   "id": "6ad9d071-7280-4353-8b95-d9a9bff5920c",
   "metadata": {},
   "outputs": [
    {
     "data": {
      "text/plain": [
       "['hello', 'how', 'are', 'you', '']"
      ]
     },
     "execution_count": 21,
     "metadata": {},
     "output_type": "execute_result"
    }
   ],
   "source": [
    "str.split(\" \")"
   ]
  },
  {
   "cell_type": "code",
   "execution_count": 22,
   "id": "c76489f8-5a78-4ab2-aa0e-7da4a5d1e7c1",
   "metadata": {},
   "outputs": [
    {
     "data": {
      "text/plain": [
       "'ello how are you '"
      ]
     },
     "execution_count": 22,
     "metadata": {},
     "output_type": "execute_result"
    }
   ],
   "source": [
    "str[1:]"
   ]
  },
  {
   "cell_type": "code",
   "execution_count": 23,
   "id": "131880e8-c605-4870-857d-753b96594b7a",
   "metadata": {},
   "outputs": [
    {
     "data": {
      "text/plain": [
       "'hello how are you '"
      ]
     },
     "execution_count": 23,
     "metadata": {},
     "output_type": "execute_result"
    }
   ],
   "source": [
    "str[:]"
   ]
  },
  {
   "cell_type": "code",
   "execution_count": 24,
   "id": "ad0fd7b4-c89b-4540-8caa-8ba20873ad80",
   "metadata": {},
   "outputs": [
    {
     "data": {
      "text/plain": [
       "' uoy era woh olleh'"
      ]
     },
     "execution_count": 24,
     "metadata": {},
     "output_type": "execute_result"
    }
   ],
   "source": [
    "str[::-1]"
   ]
  },
  {
   "cell_type": "code",
   "execution_count": 25,
   "id": "44159c07-d1e9-4705-948d-b75a56980e61",
   "metadata": {},
   "outputs": [
    {
     "data": {
      "text/plain": [
       "'hello how are yo'"
      ]
     },
     "execution_count": 25,
     "metadata": {},
     "output_type": "execute_result"
    }
   ],
   "source": [
    "str[:-2]"
   ]
  },
  {
   "cell_type": "code",
   "execution_count": 26,
   "id": "fdce9603-5314-465b-ba7e-f909c7b7a1de",
   "metadata": {},
   "outputs": [
    {
     "data": {
      "text/plain": [
       "'hello how are'"
      ]
     },
     "execution_count": 26,
     "metadata": {},
     "output_type": "execute_result"
    }
   ],
   "source": [
    "str[:-5]"
   ]
  },
  {
   "cell_type": "code",
   "execution_count": 27,
   "id": "bd0a107b-1169-4418-b76f-6f2c3899857f",
   "metadata": {},
   "outputs": [
    {
     "data": {
      "text/plain": [
       "'hello how are you  i am fine'"
      ]
     },
     "execution_count": 27,
     "metadata": {},
     "output_type": "execute_result"
    }
   ],
   "source": [
    "str+' i am fine'"
   ]
  },
  {
   "cell_type": "code",
   "execution_count": 28,
   "id": "ee0c5fce-e5d1-4f9e-8975-0fd2f14ede24",
   "metadata": {},
   "outputs": [
    {
     "data": {
      "text/plain": [
       "'hello how are you \\n i am fine'"
      ]
     },
     "execution_count": 28,
     "metadata": {},
     "output_type": "execute_result"
    }
   ],
   "source": [
    "str+'\\n i am fine'"
   ]
  },
  {
   "cell_type": "code",
   "execution_count": 29,
   "id": "76813012-c35b-4c9a-a836-301e9f9115fb",
   "metadata": {},
   "outputs": [
    {
     "data": {
      "text/plain": [
       "'hello how are you \\ni am fine'"
      ]
     },
     "execution_count": 29,
     "metadata": {},
     "output_type": "execute_result"
    }
   ],
   "source": [
    "str+'\\n'+'i am fine'"
   ]
  },
  {
   "cell_type": "code",
   "execution_count": 30,
   "id": "749e5419-9742-4b3e-8748-6db6ac5038cc",
   "metadata": {},
   "outputs": [
    {
     "name": "stdout",
     "output_type": "stream",
     "text": [
      "hello how are you \n",
      "i am fine\n"
     ]
    }
   ],
   "source": [
    "print(str+'\\n'+'i am fine')"
   ]
  },
  {
   "cell_type": "code",
   "execution_count": 31,
   "id": "ce87658f-a0ce-4a54-8c39-f6962c85ca31",
   "metadata": {},
   "outputs": [
    {
     "name": "stdout",
     "output_type": "stream",
     "text": [
      "hello how are you \n",
      " i am fine\n"
     ]
    }
   ],
   "source": [
    "print(str+'\\n i am fine')"
   ]
  },
  {
   "cell_type": "code",
   "execution_count": 32,
   "id": "8c873b22-e079-42a5-b78b-5206d2f831b4",
   "metadata": {},
   "outputs": [
    {
     "data": {
      "text/plain": [
       "'hello how are you '"
      ]
     },
     "execution_count": 32,
     "metadata": {},
     "output_type": "execute_result"
    }
   ],
   "source": [
    "str"
   ]
  },
  {
   "cell_type": "code",
   "execution_count": 33,
   "id": "8e5cf616-372f-4f1f-8c76-6aeede8d5041",
   "metadata": {},
   "outputs": [
    {
     "data": {
      "text/plain": [
       "'i am fine'"
      ]
     },
     "execution_count": 33,
     "metadata": {},
     "output_type": "execute_result"
    }
   ],
   "source": [
    "str\n",
    "'i am fine'"
   ]
  },
  {
   "cell_type": "code",
   "execution_count": 34,
   "id": "321b835a-84a6-40f7-8e1b-0aba87d47a5e",
   "metadata": {},
   "outputs": [
    {
     "data": {
      "text/plain": [
       "'HELLO HOW ARE YOU '"
      ]
     },
     "execution_count": 34,
     "metadata": {},
     "output_type": "execute_result"
    }
   ],
   "source": [
    "str.upper()"
   ]
  },
  {
   "cell_type": "code",
   "execution_count": 35,
   "id": "cc9a91d5-33c3-4e49-b3c1-9e6f38a77ee4",
   "metadata": {},
   "outputs": [
    {
     "data": {
      "text/plain": [
       "'hello how are you '"
      ]
     },
     "execution_count": 35,
     "metadata": {},
     "output_type": "execute_result"
    }
   ],
   "source": [
    "str.lower()"
   ]
  },
  {
   "cell_type": "code",
   "execution_count": 36,
   "id": "52c9c08a-1a83-40f9-b572-0c27a6b4e2f4",
   "metadata": {},
   "outputs": [
    {
     "data": {
      "text/plain": [
       "'HELLO HOW ARE YOU '"
      ]
     },
     "execution_count": 36,
     "metadata": {},
     "output_type": "execute_result"
    }
   ],
   "source": [
    "str.upper()"
   ]
  },
  {
   "cell_type": "code",
   "execution_count": 37,
   "id": "a96afda0-ecdf-46f3-8817-77a17eb745a7",
   "metadata": {},
   "outputs": [
    {
     "data": {
      "text/plain": [
       "'hello how are you '"
      ]
     },
     "execution_count": 37,
     "metadata": {},
     "output_type": "execute_result"
    }
   ],
   "source": [
    "str"
   ]
  },
  {
   "cell_type": "code",
   "execution_count": 42,
   "id": "1502777b-dbf7-4733-ab84-05a12874cf3c",
   "metadata": {},
   "outputs": [
    {
     "data": {
      "text/plain": [
       "'i am sanjana mutkiri . TYCSE student'"
      ]
     },
     "execution_count": 42,
     "metadata": {},
     "output_type": "execute_result"
    }
   ],
   "source": [
    "str=\"i am sanjana mutkiri . TYCSE student\"\n",
    "str"
   ]
  },
  {
   "cell_type": "code",
   "execution_count": 43,
   "id": "69d3cb0c-c89d-4963-b3a3-fd489638455c",
   "metadata": {},
   "outputs": [
    {
     "data": {
      "text/plain": [
       "['i', 'am', 'sanjana', 'mutkiri', '.', 'TYCSE', 'student']"
      ]
     },
     "execution_count": 43,
     "metadata": {},
     "output_type": "execute_result"
    }
   ],
   "source": [
    "str.split()"
   ]
  },
  {
   "cell_type": "code",
   "execution_count": 44,
   "id": "14f57734-e5e7-4b3d-a5dd-91bf78af3bbd",
   "metadata": {},
   "outputs": [
    {
     "data": {
      "text/plain": [
       "'i,am,sanjana,mutkiri, '"
      ]
     },
     "execution_count": 44,
     "metadata": {},
     "output_type": "execute_result"
    }
   ],
   "source": [
    "str=\"i,am,sanjana,mutkiri, \"\n",
    "str"
   ]
  },
  {
   "cell_type": "code",
   "execution_count": 45,
   "id": "c2db2a55-bc9c-4b1d-b9c5-d6315ab72595",
   "metadata": {},
   "outputs": [
    {
     "data": {
      "text/plain": [
       "['i,am,sanjana,mutkiri,']"
      ]
     },
     "execution_count": 45,
     "metadata": {},
     "output_type": "execute_result"
    }
   ],
   "source": [
    "str.split()"
   ]
  },
  {
   "cell_type": "code",
   "execution_count": 46,
   "id": "b1917f54-f886-45f9-902c-517b3d114644",
   "metadata": {},
   "outputs": [
    {
     "data": {
      "text/plain": [
       "['i', 'am', 'sanjana', 'mutkiri', ' ']"
      ]
     },
     "execution_count": 46,
     "metadata": {},
     "output_type": "execute_result"
    }
   ],
   "source": [
    "str.split(',')"
   ]
  },
  {
   "cell_type": "code",
   "execution_count": 47,
   "id": "6e332a88-5d0c-425c-9a7c-6cf98a6a3351",
   "metadata": {},
   "outputs": [
    {
     "data": {
      "text/plain": [
       "'enter name here sanjana then also parjakta'"
      ]
     },
     "execution_count": 47,
     "metadata": {},
     "output_type": "execute_result"
    }
   ],
   "source": [
    "\"enter name here {} then also {}\".format('sanjana','parjakta')"
   ]
  },
  {
   "cell_type": "code",
   "execution_count": 48,
   "id": "ad29b51f-62ca-4b77-9050-9387fa6ffbfa",
   "metadata": {},
   "outputs": [
    {
     "data": {
      "text/plain": [
       "'enter name here {} then also {}'"
      ]
     },
     "execution_count": 48,
     "metadata": {},
     "output_type": "execute_result"
    }
   ],
   "source": [
    "\"enter name here {} then also {}\""
   ]
  },
  {
   "cell_type": "code",
   "execution_count": 49,
   "id": "0aab132c-1fe3-4157-b6ea-9715ebffa0f1",
   "metadata": {},
   "outputs": [
    {
     "data": {
      "text/plain": [
       "'enter name here  then also '"
      ]
     },
     "execution_count": 49,
     "metadata": {},
     "output_type": "execute_result"
    }
   ],
   "source": [
    "\"enter name here {} then also {}\".format('','')"
   ]
  },
  {
   "cell_type": "code",
   "execution_count": 51,
   "id": "76f84616-4515-4aa4-a088-4f0b5809af3a",
   "metadata": {},
   "outputs": [
    {
     "data": {
      "text/plain": [
       "'the colors are blue black red'"
      ]
     },
     "execution_count": 51,
     "metadata": {},
     "output_type": "execute_result"
    }
   ],
   "source": [
    "\"the colors are {2} {1} {0}\".format('red','black','blue')"
   ]
  },
  {
   "cell_type": "code",
   "execution_count": 57,
   "id": "7725ecfe-7eb6-4100-a00d-8d5446e7df82",
   "metadata": {},
   "outputs": [
    {
     "data": {
      "text/plain": [
       "'First Object: 2 ,Second Object: one '"
      ]
     },
     "execution_count": 57,
     "metadata": {},
     "output_type": "execute_result"
    }
   ],
   "source": [
    "'First Object: {a} ,Second Object: {b} '.format(a=2,b=\"one\")"
   ]
  },
  {
   "cell_type": "code",
   "execution_count": 58,
   "id": "dadc4e12-a685-4958-8cbe-f219f62378bc",
   "metadata": {},
   "outputs": [
    {
     "data": {
      "text/plain": [
       "[1, 2, 3, 4, 5]"
      ]
     },
     "execution_count": 58,
     "metadata": {},
     "output_type": "execute_result"
    }
   ],
   "source": [
    "mylist=[1,2,3,4,5]\n",
    "mylist"
   ]
  },
  {
   "cell_type": "code",
   "execution_count": 60,
   "id": "f3a6580b-036a-4388-96bf-3ee5f73c0d0c",
   "metadata": {},
   "outputs": [
    {
     "data": {
      "text/plain": [
       "[0, 2, 3, 4, 5]"
      ]
     },
     "execution_count": 60,
     "metadata": {},
     "output_type": "execute_result"
    }
   ],
   "source": [
    "mylist[0]=0\n",
    "mylist"
   ]
  },
  {
   "cell_type": "code",
   "execution_count": 63,
   "id": "837fbe22-1275-4beb-8945-e4a11c10268e",
   "metadata": {},
   "outputs": [
    {
     "data": {
      "text/plain": [
       "['sanjana', 1, 2, 34.5, True, 's']"
      ]
     },
     "execution_count": 63,
     "metadata": {},
     "output_type": "execute_result"
    }
   ],
   "source": [
    "mylist=['sanjana',1,2,34.5,True,'s']\n",
    "mylist"
   ]
  },
  {
   "cell_type": "code",
   "execution_count": 67,
   "id": "9d999a0b-35bd-47dd-8a63-d611a82fa4c1",
   "metadata": {},
   "outputs": [
    {
     "data": {
      "text/plain": [
       "6"
      ]
     },
     "execution_count": 67,
     "metadata": {},
     "output_type": "execute_result"
    }
   ],
   "source": [
    "len(mylist)"
   ]
  },
  {
   "cell_type": "code",
   "execution_count": 71,
   "id": "76605171-7fcf-48b3-bc50-ba77ad38d2ee",
   "metadata": {},
   "outputs": [],
   "source": [
    "mylist[0]=1"
   ]
  },
  {
   "cell_type": "code",
   "execution_count": 72,
   "id": "3c3eee34-b155-4e5e-ab88-3aa54030bce2",
   "metadata": {},
   "outputs": [
    {
     "data": {
      "text/plain": [
       "[1, 1, 2, 34.5, True, 's']"
      ]
     },
     "execution_count": 72,
     "metadata": {},
     "output_type": "execute_result"
    }
   ],
   "source": [
    "mylist"
   ]
  },
  {
   "cell_type": "code",
   "execution_count": 73,
   "id": "b027e54e-4480-45e8-840d-68cd2e22d003",
   "metadata": {},
   "outputs": [
    {
     "data": {
      "text/plain": [
       "[1, 1, 'sanjana', 34.5, True, 's']"
      ]
     },
     "execution_count": 73,
     "metadata": {},
     "output_type": "execute_result"
    }
   ],
   "source": [
    "mylist[2]='sanjana'\n",
    "mylist"
   ]
  },
  {
   "cell_type": "code",
   "execution_count": 74,
   "id": "a4e75ad0-7dcb-4ce4-9812-44b86ca10bb8",
   "metadata": {},
   "outputs": [
    {
     "data": {
      "text/plain": [
       "[1, 1, 'sanjana', 34.5, True, 's', 'new']"
      ]
     },
     "execution_count": 74,
     "metadata": {},
     "output_type": "execute_result"
    }
   ],
   "source": [
    "mylist+['new']"
   ]
  },
  {
   "cell_type": "code",
   "execution_count": 77,
   "id": "d2320f70-73a7-4a5a-88fa-ff5cebdb7a2f",
   "metadata": {},
   "outputs": [
    {
     "data": {
      "text/plain": [
       "['1', 1, 1, 'sanjana', 34.5, True, 's']"
      ]
     },
     "execution_count": 77,
     "metadata": {},
     "output_type": "execute_result"
    }
   ],
   "source": [
    "['1']+mylist"
   ]
  },
  {
   "cell_type": "code",
   "execution_count": 78,
   "id": "6d29b110-8076-4636-9864-cce67f130926",
   "metadata": {},
   "outputs": [
    {
     "data": {
      "text/plain": [
       "[4.4, 1, 1, 'sanjana', 34.5, True, 's']"
      ]
     },
     "execution_count": 78,
     "metadata": {},
     "output_type": "execute_result"
    }
   ],
   "source": [
    "[4.4]+mylist"
   ]
  },
  {
   "cell_type": "code",
   "execution_count": 79,
   "id": "80d5e94c-1f2d-423e-91b9-2e0745704dcc",
   "metadata": {},
   "outputs": [
    {
     "data": {
      "text/plain": [
       "[1, 1, 'sanjana', 34.5, True, 's']"
      ]
     },
     "execution_count": 79,
     "metadata": {},
     "output_type": "execute_result"
    }
   ],
   "source": [
    " mylist"
   ]
  },
  {
   "cell_type": "code",
   "execution_count": 81,
   "id": "2ca111cb-0057-4382-8d02-bad79944d16b",
   "metadata": {},
   "outputs": [
    {
     "data": {
      "text/plain": [
       "[4.4, 4.4, 1, 1, 'sanjana', 34.5, True, 's']"
      ]
     },
     "execution_count": 81,
     "metadata": {},
     "output_type": "execute_result"
    }
   ],
   "source": [
    "mylist=[4.4]+mylist\n",
    "mylist"
   ]
  },
  {
   "cell_type": "code",
   "execution_count": 82,
   "id": "d5216535-a996-46d1-a941-f06b9975acd2",
   "metadata": {},
   "outputs": [
    {
     "data": {
      "text/plain": [
       "[4.4, 4.4, 1, 1, 'sanjana', 34.5, True, 's']"
      ]
     },
     "execution_count": 82,
     "metadata": {},
     "output_type": "execute_result"
    }
   ],
   "source": [
    "mylist"
   ]
  },
  {
   "cell_type": "code",
   "execution_count": 83,
   "id": "a9b7539a-af36-4433-aa9b-c2d8fb34aefd",
   "metadata": {},
   "outputs": [],
   "source": [
    "newlist=[1,2,3,4,5,6]"
   ]
  },
  {
   "cell_type": "code",
   "execution_count": 84,
   "id": "98fd2eab-185b-498b-addc-de79091d1bb3",
   "metadata": {},
   "outputs": [
    {
     "data": {
      "text/plain": [
       "[1, 2, 3, 4, 5, 6]"
      ]
     },
     "execution_count": 84,
     "metadata": {},
     "output_type": "execute_result"
    }
   ],
   "source": [
    "newlist"
   ]
  },
  {
   "cell_type": "code",
   "execution_count": 85,
   "id": "9e8910d9-bbde-49de-be39-db911da90e7d",
   "metadata": {},
   "outputs": [],
   "source": [
    "newlist.append(5)"
   ]
  },
  {
   "cell_type": "code",
   "execution_count": 86,
   "id": "a72a5972-2263-4c8d-9ae5-52e7c53e82d3",
   "metadata": {},
   "outputs": [
    {
     "data": {
      "text/plain": [
       "[1, 2, 3, 4, 5, 6, 5]"
      ]
     },
     "execution_count": 86,
     "metadata": {},
     "output_type": "execute_result"
    }
   ],
   "source": [
    "newlist"
   ]
  },
  {
   "cell_type": "code",
   "execution_count": 87,
   "id": "e4fb1e04-912f-4a35-b073-972998a5dc43",
   "metadata": {},
   "outputs": [
    {
     "data": {
      "text/plain": [
       "[1, 2, 3, 4, 5, 6]"
      ]
     },
     "execution_count": 87,
     "metadata": {},
     "output_type": "execute_result"
    }
   ],
   "source": [
    "newlist.pop()\n",
    "newlist"
   ]
  },
  {
   "cell_type": "code",
   "execution_count": 89,
   "id": "565a1768-b988-4350-bc75-611321b4fda3",
   "metadata": {},
   "outputs": [
    {
     "data": {
      "text/plain": [
       "1"
      ]
     },
     "execution_count": 89,
     "metadata": {},
     "output_type": "execute_result"
    }
   ],
   "source": [
    "newlist.pop(0)"
   ]
  },
  {
   "cell_type": "code",
   "execution_count": 90,
   "id": "50563804-ffbd-4a6e-a330-c7da0e589385",
   "metadata": {},
   "outputs": [
    {
     "data": {
      "text/plain": [
       "[2, 3, 4, 5, 6]"
      ]
     },
     "execution_count": 90,
     "metadata": {},
     "output_type": "execute_result"
    }
   ],
   "source": [
    "newlist"
   ]
  },
  {
   "cell_type": "code",
   "execution_count": 91,
   "id": "e5262291-9cf1-4379-886a-798ee8a80622",
   "metadata": {},
   "outputs": [],
   "source": [
    "dict={1:'one',2:'two',3:'three'}"
   ]
  },
  {
   "cell_type": "code",
   "execution_count": 92,
   "id": "11a52cc3-5f5a-40b8-9631-ffeb731a0c67",
   "metadata": {},
   "outputs": [
    {
     "data": {
      "text/plain": [
       "{1: 'one', 2: 'two', 3: 'three'}"
      ]
     },
     "execution_count": 92,
     "metadata": {},
     "output_type": "execute_result"
    }
   ],
   "source": [
    "dict"
   ]
  },
  {
   "cell_type": "code",
   "execution_count": 93,
   "id": "4f20956f-93f5-46eb-80de-a50cf87f3582",
   "metadata": {},
   "outputs": [],
   "source": [
    "dict={1:'one',1:'two',3:'three'}"
   ]
  },
  {
   "cell_type": "code",
   "execution_count": 94,
   "id": "96e11c44-9d6d-4ae4-8581-5d25eee03d3a",
   "metadata": {},
   "outputs": [
    {
     "data": {
      "text/plain": [
       "{1: 'two', 3: 'three'}"
      ]
     },
     "execution_count": 94,
     "metadata": {},
     "output_type": "execute_result"
    }
   ],
   "source": [
    "dict"
   ]
  },
  {
   "cell_type": "code",
   "execution_count": 95,
   "id": "d0d44686-adfc-4dfc-8790-41d95015130e",
   "metadata": {},
   "outputs": [
    {
     "data": {
      "text/plain": [
       "'two'"
      ]
     },
     "execution_count": 95,
     "metadata": {},
     "output_type": "execute_result"
    }
   ],
   "source": [
    "dict[1]"
   ]
  },
  {
   "cell_type": "code",
   "execution_count": 97,
   "id": "10cd362d-78e3-4cc4-b4fd-e1527d4bf157",
   "metadata": {},
   "outputs": [
    {
     "data": {
      "text/plain": [
       "{1: 123, 2: [1, 2, 3], 3: (1, 2, 3)}"
      ]
     },
     "execution_count": 97,
     "metadata": {},
     "output_type": "execute_result"
    }
   ],
   "source": [
    "mydict={1:123,2:[1,2,3],3:(1,2,3)}\n",
    "mydict"
   ]
  },
  {
   "cell_type": "code",
   "execution_count": 99,
   "id": "0b33d965-57ed-4fcf-860a-ffc26e9a8fb3",
   "metadata": {},
   "outputs": [
    {
     "data": {
      "text/plain": [
       "[1, 2, 3]"
      ]
     },
     "execution_count": 99,
     "metadata": {},
     "output_type": "execute_result"
    }
   ],
   "source": [
    "mydict[2]"
   ]
  },
  {
   "cell_type": "code",
   "execution_count": 103,
   "id": "bfe13461-724b-4b03-b119-126aebfb1e63",
   "metadata": {},
   "outputs": [
    {
     "data": {
      "text/plain": [
       "3"
      ]
     },
     "execution_count": 103,
     "metadata": {},
     "output_type": "execute_result"
    }
   ],
   "source": [
    "mydict[2][2]"
   ]
  },
  {
   "cell_type": "code",
   "execution_count": 108,
   "id": "d7e5867d-0cf2-4278-a0e9-fa0d82081763",
   "metadata": {},
   "outputs": [],
   "source": [
    "mydict={4:'sanjana'}"
   ]
  },
  {
   "cell_type": "code",
   "execution_count": 109,
   "id": "d048a0f0-1f00-45f7-9821-99edeae8589c",
   "metadata": {},
   "outputs": [
    {
     "data": {
      "text/plain": [
       "{4: 'sanjana'}"
      ]
     },
     "execution_count": 109,
     "metadata": {},
     "output_type": "execute_result"
    }
   ],
   "source": [
    "mydict"
   ]
  },
  {
   "cell_type": "code",
   "execution_count": 111,
   "id": "28102772-3d12-409a-a65b-e829d4edd770",
   "metadata": {},
   "outputs": [
    {
     "data": {
      "text/plain": [
       "'S'"
      ]
     },
     "execution_count": 111,
     "metadata": {},
     "output_type": "execute_result"
    }
   ],
   "source": [
    "mydict[4][0].upper()"
   ]
  },
  {
   "cell_type": "code",
   "execution_count": 112,
   "id": "f7f72a04-5210-4225-8b47-372cbad22d44",
   "metadata": {},
   "outputs": [
    {
     "data": {
      "text/plain": [
       "{4: 'sanjana'}"
      ]
     },
     "execution_count": 112,
     "metadata": {},
     "output_type": "execute_result"
    }
   ],
   "source": [
    "mydict"
   ]
  },
  {
   "cell_type": "code",
   "execution_count": 113,
   "id": "349938f0-da36-4e5a-b317-80d0f1a07561",
   "metadata": {},
   "outputs": [
    {
     "data": {
      "text/plain": [
       "{1: 123, 2: [1, 2, 3], 3: (1, 2, 3)}"
      ]
     },
     "execution_count": 113,
     "metadata": {},
     "output_type": "execute_result"
    }
   ],
   "source": [
    "mydict={1:123,2:[1,2,3],3:(1,2,3)}\n",
    "mydict"
   ]
  },
  {
   "cell_type": "code",
   "execution_count": 119,
   "id": "6121b262-d651-4559-bb94-72d7b8101a69",
   "metadata": {},
   "outputs": [],
   "source": [
    "mydict[1]=mydict[1]+124"
   ]
  },
  {
   "cell_type": "code",
   "execution_count": 120,
   "id": "e8965bbe-c9ff-4fe6-b396-aba11a1c0bb9",
   "metadata": {},
   "outputs": [
    {
     "data": {
      "text/plain": [
       "[1, 2, 3]"
      ]
     },
     "execution_count": 120,
     "metadata": {},
     "output_type": "execute_result"
    }
   ],
   "source": [
    "mydict[2]"
   ]
  },
  {
   "cell_type": "code",
   "execution_count": 122,
   "id": "15a4d43e-d694-484b-9927-a9ef3cb31ac6",
   "metadata": {},
   "outputs": [],
   "source": [
    "mydict[2].append(4)"
   ]
  },
  {
   "cell_type": "code",
   "execution_count": 123,
   "id": "1c6527fa-1894-47ae-8263-7374c20165a5",
   "metadata": {},
   "outputs": [
    {
     "data": {
      "text/plain": [
       "{1: 371, 2: [1, 2, 3, 4], 3: (1, 2, 3)}"
      ]
     },
     "execution_count": 123,
     "metadata": {},
     "output_type": "execute_result"
    }
   ],
   "source": [
    "mydict"
   ]
  },
  {
   "cell_type": "code",
   "execution_count": 124,
   "id": "0016838d-8116-41f0-89e0-c7de1e59f443",
   "metadata": {},
   "outputs": [
    {
     "data": {
      "text/plain": [
       "(1, 2, 3, 4, 5)"
      ]
     },
     "execution_count": 124,
     "metadata": {},
     "output_type": "execute_result"
    }
   ],
   "source": [
    "tuple=(1,2,3,4,5)\n",
    "tuple"
   ]
  },
  {
   "cell_type": "code",
   "execution_count": 126,
   "id": "892c278f-70c8-4c46-9963-5a206e4c6063",
   "metadata": {},
   "outputs": [
    {
     "data": {
      "text/plain": [
       "1"
      ]
     },
     "execution_count": 126,
     "metadata": {},
     "output_type": "execute_result"
    }
   ],
   "source": [
    "tuple[0]"
   ]
  },
  {
   "cell_type": "code",
   "execution_count": 128,
   "id": "f74ac0ca-e8f9-4e16-b1e5-b4d57b05b902",
   "metadata": {},
   "outputs": [
    {
     "data": {
      "text/plain": [
       "(2, 3, 4, 5)"
      ]
     },
     "execution_count": 128,
     "metadata": {},
     "output_type": "execute_result"
    }
   ],
   "source": [
    "tuple[1:]"
   ]
  },
  {
   "cell_type": "code",
   "execution_count": 129,
   "id": "6d583a70-2323-413b-8558-ac1c2957433e",
   "metadata": {},
   "outputs": [
    {
     "data": {
      "text/plain": [
       "(5, 4, 3, 2, 1)"
      ]
     },
     "execution_count": 129,
     "metadata": {},
     "output_type": "execute_result"
    }
   ],
   "source": [
    "tuple[::-1]"
   ]
  },
  {
   "cell_type": "code",
   "execution_count": 130,
   "id": "31574a2c-6187-40ae-8edf-eec1f5b20f56",
   "metadata": {},
   "outputs": [],
   "source": [
    "set={1,2,3,4}\n",
    "\n"
   ]
  },
  {
   "cell_type": "code",
   "execution_count": 131,
   "id": "4d015120-8cb0-414d-9da3-8ce42e1e90bd",
   "metadata": {},
   "outputs": [
    {
     "data": {
      "text/plain": [
       "{1, 2, 3, 4}"
      ]
     },
     "execution_count": 131,
     "metadata": {},
     "output_type": "execute_result"
    }
   ],
   "source": [
    "set"
   ]
  },
  {
   "cell_type": "code",
   "execution_count": 132,
   "id": "5745ecc5-f806-4651-a624-90bccec01421",
   "metadata": {},
   "outputs": [
    {
     "data": {
      "text/plain": [
       "{1, 2, 3, 4, 5}"
      ]
     },
     "execution_count": 132,
     "metadata": {},
     "output_type": "execute_result"
    }
   ],
   "source": [
    "set={1,2,3,4,5,5}\n",
    "set"
   ]
  },
  {
   "cell_type": "code",
   "execution_count": 133,
   "id": "6a2239ea-c3d1-49ac-99b8-c626f2511248",
   "metadata": {},
   "outputs": [],
   "source": [
    "set1={1,2,3}\n",
    "set2={2,3,4}"
   ]
  },
  {
   "cell_type": "code",
   "execution_count": 134,
   "id": "47fed682-882b-4b72-afdc-908aac9a35ae",
   "metadata": {},
   "outputs": [
    {
     "data": {
      "text/plain": [
       "{1, 2, 3}"
      ]
     },
     "execution_count": 134,
     "metadata": {},
     "output_type": "execute_result"
    }
   ],
   "source": [
    "set1"
   ]
  },
  {
   "cell_type": "code",
   "execution_count": 135,
   "id": "3f36b65a-d68c-49bb-8e82-bc34a6ff0439",
   "metadata": {},
   "outputs": [
    {
     "data": {
      "text/plain": [
       "{2, 3, 4}"
      ]
     },
     "execution_count": 135,
     "metadata": {},
     "output_type": "execute_result"
    }
   ],
   "source": [
    "set2"
   ]
  },
  {
   "cell_type": "code",
   "execution_count": 136,
   "id": "4cda212d-3199-49a4-89e4-5ab1538e4214",
   "metadata": {},
   "outputs": [
    {
     "data": {
      "text/plain": [
       "set"
      ]
     },
     "execution_count": 136,
     "metadata": {},
     "output_type": "execute_result"
    }
   ],
   "source": [
    "type(set)"
   ]
  },
  {
   "cell_type": "code",
   "execution_count": 137,
   "id": "66959e9c-2746-48b9-b58c-afceba1cf144",
   "metadata": {},
   "outputs": [
    {
     "data": {
      "text/plain": [
       "dict"
      ]
     },
     "execution_count": 137,
     "metadata": {},
     "output_type": "execute_result"
    }
   ],
   "source": [
    "type(mydict)"
   ]
  },
  {
   "cell_type": "code",
   "execution_count": 139,
   "id": "88ab5ae5-448e-4187-8b55-8fa1fc484e19",
   "metadata": {},
   "outputs": [
    {
     "data": {
      "text/plain": [
       "list"
      ]
     },
     "execution_count": 139,
     "metadata": {},
     "output_type": "execute_result"
    }
   ],
   "source": [
    "type(mylist)"
   ]
  },
  {
   "cell_type": "code",
   "execution_count": 140,
   "id": "86a37ccc-32a7-4a8b-92bf-0b9eaf6f37d4",
   "metadata": {},
   "outputs": [],
   "source": [
    "set1.add(4)"
   ]
  },
  {
   "cell_type": "code",
   "execution_count": 141,
   "id": "f9361fd9-83e0-4c91-b48b-1546d897d082",
   "metadata": {},
   "outputs": [
    {
     "data": {
      "text/plain": [
       "{1, 2, 3, 4}"
      ]
     },
     "execution_count": 141,
     "metadata": {},
     "output_type": "execute_result"
    }
   ],
   "source": [
    "set1"
   ]
  },
  {
   "cell_type": "code",
   "execution_count": 142,
   "id": "d02b27b2-6e33-4a35-b9cb-c81cc71cedbf",
   "metadata": {},
   "outputs": [
    {
     "ename": "SyntaxError",
     "evalue": "invalid syntax (426839224.py, line 1)",
     "output_type": "error",
     "traceback": [
      "\u001b[1;36m  Cell \u001b[1;32mIn[142], line 1\u001b[1;36m\u001b[0m\n\u001b[1;33m    mydict.add(4:'four')\u001b[0m\n\u001b[1;37m                ^\u001b[0m\n\u001b[1;31mSyntaxError\u001b[0m\u001b[1;31m:\u001b[0m invalid syntax\n"
     ]
    }
   ],
   "source": []
  },
  {
   "cell_type": "code",
   "execution_count": null,
   "id": "cec35d0d-6c9e-4f0b-b993-93c14aa64ea8",
   "metadata": {},
   "outputs": [],
   "source": []
  },
  {
   "cell_type": "code",
   "execution_count": null,
   "id": "2329f125-c5ae-40b0-bfdc-f300faf56d3b",
   "metadata": {},
   "outputs": [],
   "source": []
  },
  {
   "cell_type": "code",
   "execution_count": null,
   "id": "e78abd56-804b-4f3f-b012-ff4cc5bf29ac",
   "metadata": {},
   "outputs": [],
   "source": []
  },
  {
   "cell_type": "code",
   "execution_count": null,
   "id": "d135996b-1008-4390-8ce7-fbcb700cf625",
   "metadata": {},
   "outputs": [],
   "source": []
  },
  {
   "cell_type": "code",
   "execution_count": null,
   "id": "ddef0747-cab2-40c6-bcc8-e1225895d27b",
   "metadata": {},
   "outputs": [],
   "source": []
  },
  {
   "cell_type": "code",
   "execution_count": null,
   "id": "d8ad188b-cf03-4ff1-8ffa-ff3d0eb0f363",
   "metadata": {},
   "outputs": [],
   "source": []
  },
  {
   "cell_type": "code",
   "execution_count": null,
   "id": "f35fa5f5-d608-4266-a79a-0b3135fdbcab",
   "metadata": {},
   "outputs": [],
   "source": []
  },
  {
   "cell_type": "code",
   "execution_count": null,
   "id": "3789e942-cce0-4581-a848-a3406210d51d",
   "metadata": {},
   "outputs": [],
   "source": []
  },
  {
   "cell_type": "code",
   "execution_count": null,
   "id": "151d60f6-16de-422d-ba19-d42aa77cabf8",
   "metadata": {},
   "outputs": [],
   "source": []
  },
  {
   "cell_type": "code",
   "execution_count": null,
   "id": "0e584dd1-24bd-43a1-9ca1-22627c42c9b0",
   "metadata": {},
   "outputs": [],
   "source": []
  },
  {
   "cell_type": "code",
   "execution_count": null,
   "id": "7e835801-5481-450e-a480-53495f3f4f3c",
   "metadata": {},
   "outputs": [],
   "source": []
  },
  {
   "cell_type": "code",
   "execution_count": null,
   "id": "65a7e434-a985-4bd2-8f69-829e7780b2be",
   "metadata": {},
   "outputs": [],
   "source": []
  },
  {
   "cell_type": "code",
   "execution_count": null,
   "id": "f364ff0c-ca7a-499b-8280-9a4ee601051a",
   "metadata": {},
   "outputs": [],
   "source": []
  },
  {
   "cell_type": "code",
   "execution_count": null,
   "id": "b1475520-125e-4c46-a9e1-1d1d17eb3260",
   "metadata": {},
   "outputs": [],
   "source": []
  },
  {
   "cell_type": "code",
   "execution_count": null,
   "id": "27b3e7bd-a815-429b-b3de-8946f7ab9973",
   "metadata": {},
   "outputs": [],
   "source": []
  },
  {
   "cell_type": "code",
   "execution_count": null,
   "id": "d7c6d03c-8ce9-43b9-8cae-5b7614be05b3",
   "metadata": {},
   "outputs": [],
   "source": []
  },
  {
   "cell_type": "code",
   "execution_count": null,
   "id": "dcb12107-9a06-4aa0-a280-d815b90ea977",
   "metadata": {},
   "outputs": [],
   "source": []
  },
  {
   "cell_type": "code",
   "execution_count": null,
   "id": "960b350a-79d0-4c50-ba27-fadef3467762",
   "metadata": {},
   "outputs": [],
   "source": []
  },
  {
   "cell_type": "code",
   "execution_count": null,
   "id": "f1c7c6cd-d490-48e5-ac1f-792ea61a64dc",
   "metadata": {},
   "outputs": [],
   "source": []
  },
  {
   "cell_type": "code",
   "execution_count": null,
   "id": "bcbc48e6-5596-476e-86d5-18575bbb844e",
   "metadata": {},
   "outputs": [],
   "source": []
  },
  {
   "cell_type": "code",
   "execution_count": null,
   "id": "62662423-f8de-4a94-862d-69041ace9ff7",
   "metadata": {},
   "outputs": [],
   "source": []
  },
  {
   "cell_type": "code",
   "execution_count": null,
   "id": "399ed6e8-8234-4477-8bf8-4690ca5be00c",
   "metadata": {},
   "outputs": [],
   "source": []
  },
  {
   "cell_type": "code",
   "execution_count": null,
   "id": "2ea22d9c-729d-4cb9-b923-ac91c9c559c1",
   "metadata": {},
   "outputs": [],
   "source": []
  },
  {
   "cell_type": "code",
   "execution_count": null,
   "id": "a930cf95-66da-4386-b4b3-6e31eabad7cf",
   "metadata": {},
   "outputs": [],
   "source": []
  },
  {
   "cell_type": "code",
   "execution_count": null,
   "id": "f72c6b9e-dcc4-4c4a-8761-22caf76a6ba2",
   "metadata": {},
   "outputs": [],
   "source": []
  },
  {
   "cell_type": "code",
   "execution_count": null,
   "id": "e76b8c9b-7861-4daa-962b-a4a8906013d1",
   "metadata": {},
   "outputs": [],
   "source": []
  },
  {
   "cell_type": "code",
   "execution_count": null,
   "id": "7ddcd0fe-42c3-4433-8e94-7b678455f8d0",
   "metadata": {},
   "outputs": [],
   "source": []
  },
  {
   "cell_type": "code",
   "execution_count": null,
   "id": "d2c904e2-c82f-4572-9344-752af0cc01aa",
   "metadata": {},
   "outputs": [],
   "source": []
  },
  {
   "cell_type": "code",
   "execution_count": null,
   "id": "b4cc058f-efc5-4a65-ae38-1d5bcd29b3c4",
   "metadata": {},
   "outputs": [],
   "source": []
  },
  {
   "cell_type": "code",
   "execution_count": null,
   "id": "16463b92-c1d2-4719-a91a-4cc39569d07f",
   "metadata": {},
   "outputs": [],
   "source": []
  },
  {
   "cell_type": "code",
   "execution_count": null,
   "id": "df7cd253-dbd9-42a4-ac7f-9f17eebfc055",
   "metadata": {},
   "outputs": [],
   "source": []
  },
  {
   "cell_type": "code",
   "execution_count": null,
   "id": "26f7b117-6fa3-4bff-8828-db856ba11072",
   "metadata": {},
   "outputs": [],
   "source": []
  },
  {
   "cell_type": "code",
   "execution_count": null,
   "id": "dc91772a-af4e-4c70-a0e3-7f54ca9cd412",
   "metadata": {},
   "outputs": [],
   "source": []
  },
  {
   "cell_type": "code",
   "execution_count": null,
   "id": "833619b9-ccbf-4955-b36e-d5cbcbe7406d",
   "metadata": {},
   "outputs": [],
   "source": []
  },
  {
   "cell_type": "code",
   "execution_count": null,
   "id": "2f3df54e-dd1f-433e-9a0d-de7ca1ab92e6",
   "metadata": {},
   "outputs": [],
   "source": []
  },
  {
   "cell_type": "code",
   "execution_count": null,
   "id": "48277797-13c5-4f2c-bec1-608706feee14",
   "metadata": {},
   "outputs": [],
   "source": []
  },
  {
   "cell_type": "code",
   "execution_count": null,
   "id": "62faa2cc-6249-4b2e-96c3-09eddf2021e2",
   "metadata": {},
   "outputs": [],
   "source": []
  },
  {
   "cell_type": "code",
   "execution_count": null,
   "id": "a47ac834-5f66-41b2-b488-39c7632da0ae",
   "metadata": {},
   "outputs": [],
   "source": []
  },
  {
   "cell_type": "code",
   "execution_count": null,
   "id": "bc6d4fa6-d562-4ea5-8d5a-464c19d1001f",
   "metadata": {},
   "outputs": [],
   "source": []
  },
  {
   "cell_type": "code",
   "execution_count": null,
   "id": "d0abd9d6-c514-4450-a93f-3be49fe6a527",
   "metadata": {},
   "outputs": [],
   "source": []
  },
  {
   "cell_type": "code",
   "execution_count": null,
   "id": "135a3702-d89b-4517-81d5-4db7cab01c8f",
   "metadata": {},
   "outputs": [],
   "source": []
  },
  {
   "cell_type": "code",
   "execution_count": null,
   "id": "933214c9-7d79-49ba-91bf-84394b506672",
   "metadata": {},
   "outputs": [],
   "source": []
  },
  {
   "cell_type": "code",
   "execution_count": null,
   "id": "7eb38170-cc5d-4817-95bd-7424a0bc5c7a",
   "metadata": {},
   "outputs": [],
   "source": []
  },
  {
   "cell_type": "code",
   "execution_count": null,
   "id": "c193b4e2-29ce-403d-90be-7dd5fb6b79ee",
   "metadata": {},
   "outputs": [],
   "source": []
  },
  {
   "cell_type": "code",
   "execution_count": null,
   "id": "98fab61d-529a-4618-a033-517fd6943e17",
   "metadata": {},
   "outputs": [],
   "source": []
  },
  {
   "cell_type": "code",
   "execution_count": null,
   "id": "fa125e64-9773-4362-8f46-e06f51c756c8",
   "metadata": {},
   "outputs": [],
   "source": []
  },
  {
   "cell_type": "code",
   "execution_count": null,
   "id": "fefc7c00-db19-45dc-8d03-4ca4b7364b69",
   "metadata": {},
   "outputs": [],
   "source": []
  },
  {
   "cell_type": "code",
   "execution_count": null,
   "id": "f364afcc-c995-446d-b089-f8e968dfc45e",
   "metadata": {},
   "outputs": [],
   "source": []
  },
  {
   "cell_type": "code",
   "execution_count": null,
   "id": "9fc13cdd-8d85-4144-842a-629f3a9eeced",
   "metadata": {},
   "outputs": [],
   "source": []
  },
  {
   "cell_type": "code",
   "execution_count": null,
   "id": "fc48211a-3009-4e82-8e1e-76562ed9d744",
   "metadata": {},
   "outputs": [],
   "source": []
  },
  {
   "cell_type": "code",
   "execution_count": null,
   "id": "76813ca9-ff55-4bb8-b3f4-436b333b38ef",
   "metadata": {},
   "outputs": [],
   "source": []
  }
 ],
 "metadata": {
  "kernelspec": {
   "display_name": "Python 3 (ipykernel)",
   "language": "python",
   "name": "python3"
  },
  "language_info": {
   "codemirror_mode": {
    "name": "ipython",
    "version": 3
   },
   "file_extension": ".py",
   "mimetype": "text/x-python",
   "name": "python",
   "nbconvert_exporter": "python",
   "pygments_lexer": "ipython3",
   "version": "3.12.7"
  }
 },
 "nbformat": 4,
 "nbformat_minor": 5
}
